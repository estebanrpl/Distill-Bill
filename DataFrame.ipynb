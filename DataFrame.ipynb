{
 "cells": [
  {
   "cell_type": "code",
   "execution_count": 10,
   "id": "e4dec21d-2ca5-4650-84cd-ae40321fddea",
   "metadata": {
    "tags": []
   },
   "outputs": [],
   "source": [
    "import pandas as pd\n",
    "import json\n",
    "import os"
   ]
  },
  {
   "cell_type": "code",
   "execution_count": 12,
   "id": "01207422-8a93-40b6-8442-d4d56ead54cc",
   "metadata": {
    "tags": []
   },
   "outputs": [],
   "source": [
    "train_path = 'training/'"
   ]
  },
  {
   "cell_type": "code",
   "execution_count": 14,
   "id": "7aca60eb-aa9b-46fa-9a0c-344ccfafe2f2",
   "metadata": {
    "tags": []
   },
   "outputs": [],
   "source": [
    "json_paths = [train_path + file for file in os.listdir(train_path) if file.endswith('.json')]\n",
    "pdf_paths = [train_path + file for file in os.listdir(train_path) if file.endswith('.pdf')]"
   ]
  },
  {
   "cell_type": "code",
   "execution_count": 16,
   "id": "861bba7e-714a-42a2-8b46-5f59843e1c41",
   "metadata": {
    "tags": []
   },
   "outputs": [],
   "source": [
    "json_files = {}\n",
    "for json_path in json_paths:\n",
    "    bill_id = json_path.removeprefix(train_path + 'factura_').removesuffix('.json')\n",
    "    bill_id = int(bill_id)\n",
    "    with open(json_path, 'r') as file:\n",
    "        data = json.load(file)\n",
    "    \n",
    "    json_files[bill_id] = data"
   ]
  },
  {
   "cell_type": "code",
   "execution_count": 18,
   "id": "4b4425a2-3d72-40fc-bd1c-bd82ecb0c04b",
   "metadata": {
    "tags": []
   },
   "outputs": [],
   "source": [
    "rows = []\n",
    "for bill_id, data in json_files.items():\n",
    "    row = [bill_id] + list(data.values())\n",
    "    rows.append(row)\n",
    "\n",
    "columns = [\"archivo\"] + list(data.keys())\n",
    "df = pd.DataFrame(data = rows, columns = columns)"
   ]
  },
  {
   "cell_type": "code",
   "execution_count": 20,
   "id": "5432bc7b-46df-4b96-85bb-bbfb4cc2bfcc",
   "metadata": {
    "tags": []
   },
   "outputs": [
    {
     "data": {
      "text/plain": [
       "provincia_comercializadora\n",
       "Extranjero           64\n",
       "BERLIN (Alemania)     3\n",
       "Olten (Suiza)         2\n",
       "Name: count, dtype: int64"
      ]
     },
     "execution_count": 20,
     "metadata": {},
     "output_type": "execute_result"
    }
   ],
   "source": [
    "df[df['cif_comercializadora'].str.len() != 9][\"provincia_comercializadora\"].value_counts()"
   ]
  },
  {
   "cell_type": "code",
   "execution_count": 22,
   "id": "aa85506b-cef6-47e4-92e7-30311d615035",
   "metadata": {
    "tags": []
   },
   "outputs": [
    {
     "data": {
      "text/html": [
       "<div>\n",
       "<style scoped>\n",
       "    .dataframe tbody tr th:only-of-type {\n",
       "        vertical-align: middle;\n",
       "    }\n",
       "\n",
       "    .dataframe tbody tr th {\n",
       "        vertical-align: top;\n",
       "    }\n",
       "\n",
       "    .dataframe thead th {\n",
       "        text-align: right;\n",
       "    }\n",
       "</style>\n",
       "<table border=\"1\" class=\"dataframe\">\n",
       "  <thead>\n",
       "    <tr style=\"text-align: right;\">\n",
       "      <th></th>\n",
       "      <th>archivo</th>\n",
       "      <th>nombre_cliente</th>\n",
       "      <th>dni_cliente</th>\n",
       "      <th>calle_cliente</th>\n",
       "      <th>cp_cliente</th>\n",
       "      <th>población_cliente</th>\n",
       "      <th>provincia_cliente</th>\n",
       "      <th>nombre_comercializadora</th>\n",
       "      <th>cif_comercializadora</th>\n",
       "      <th>dirección_comercializadora</th>\n",
       "      <th>cp_comercializadora</th>\n",
       "      <th>población_comercializadora</th>\n",
       "      <th>provincia_comercializadora</th>\n",
       "      <th>número_factura</th>\n",
       "      <th>inicio_periodo</th>\n",
       "      <th>fin_periodo</th>\n",
       "      <th>importe_factura</th>\n",
       "      <th>fecha_cargo</th>\n",
       "      <th>consumo_periodo</th>\n",
       "      <th>potencia_contratada</th>\n",
       "    </tr>\n",
       "  </thead>\n",
       "  <tbody>\n",
       "    <tr>\n",
       "      <th>0</th>\n",
       "      <td>684</td>\n",
       "      <td>KENDRA RAMÍREZ RAMÓN</td>\n",
       "      <td>16260925V</td>\n",
       "      <td>Avenida de la Paloma</td>\n",
       "      <td>34259</td>\n",
       "      <td>Cordovilla la Real</td>\n",
       "      <td>Palencia</td>\n",
       "      <td>REPSOL COMERCIALIZADORA DE ELECTRICIDAD Y GAS,...</td>\n",
       "      <td>B39540760</td>\n",
       "      <td>C/ ISABEL TORRES, Nº 19</td>\n",
       "      <td>39011</td>\n",
       "      <td>SANTANDER</td>\n",
       "      <td>Cantabria</td>\n",
       "      <td>Z5231002650</td>\n",
       "      <td>09.05.2016</td>\n",
       "      <td>08.07.2016</td>\n",
       "      <td>144,31</td>\n",
       "      <td>13.07.2016</td>\n",
       "      <td>426</td>\n",
       "      <td>5,558</td>\n",
       "    </tr>\n",
       "    <tr>\n",
       "      <th>1</th>\n",
       "      <td>350</td>\n",
       "      <td>FRIDA OLMEDO ESTRELLA</td>\n",
       "      <td>56374095Z</td>\n",
       "      <td>Calle Joaquín Blanco Torrent</td>\n",
       "      <td>46814</td>\n",
       "      <td>la Granja de la Costera</td>\n",
       "      <td>Valencia/Valñncia</td>\n",
       "      <td>CIMA ENERGIA COMERCIALIZADORA SL</td>\n",
       "      <td>B26558056</td>\n",
       "      <td>AVENIDA DE PORTUGAL, 27 PLANTA 4, PUERTA 8</td>\n",
       "      <td>26001</td>\n",
       "      <td>LOGROÑO</td>\n",
       "      <td>LA RIOJA</td>\n",
       "      <td>QS7674816555</td>\n",
       "      <td>29.12.2011</td>\n",
       "      <td>28.01.2012</td>\n",
       "      <td>90,57</td>\n",
       "      <td>02.02.2012</td>\n",
       "      <td>313</td>\n",
       "      <td>2,697</td>\n",
       "    </tr>\n",
       "    <tr>\n",
       "      <th>2</th>\n",
       "      <td>673</td>\n",
       "      <td>Estíbaliz Parra Galván</td>\n",
       "      <td>72326445R</td>\n",
       "      <td>Calle Alejandro Sureda</td>\n",
       "      <td>27520</td>\n",
       "      <td>Carballedo</td>\n",
       "      <td>Lugo</td>\n",
       "      <td>EXEN, S.R.O.</td>\n",
       "      <td>C227767191</td>\n",
       "      <td>DR. SMERALA 1710/1</td>\n",
       "      <td>70200</td>\n",
       "      <td>OSTRAVA (República Checa)</td>\n",
       "      <td>Extranjero</td>\n",
       "      <td>HZ2504915940</td>\n",
       "      <td>07.10.2019</td>\n",
       "      <td>06.11.2019</td>\n",
       "      <td>11,89</td>\n",
       "      <td>11.11.2019</td>\n",
       "      <td>0</td>\n",
       "      <td>2,551</td>\n",
       "    </tr>\n",
       "  </tbody>\n",
       "</table>\n",
       "</div>"
      ],
      "text/plain": [
       "   archivo          nombre_cliente dni_cliente                 calle_cliente  \\\n",
       "0      684    KENDRA RAMÍREZ RAMÓN   16260925V          Avenida de la Paloma   \n",
       "1      350   FRIDA OLMEDO ESTRELLA   56374095Z  Calle Joaquín Blanco Torrent   \n",
       "2      673  Estíbaliz Parra Galván   72326445R        Calle Alejandro Sureda   \n",
       "\n",
       "  cp_cliente        población_cliente  provincia_cliente  \\\n",
       "0      34259       Cordovilla la Real           Palencia   \n",
       "1      46814  la Granja de la Costera  Valencia/Valñncia   \n",
       "2      27520               Carballedo               Lugo   \n",
       "\n",
       "                             nombre_comercializadora cif_comercializadora  \\\n",
       "0  REPSOL COMERCIALIZADORA DE ELECTRICIDAD Y GAS,...            B39540760   \n",
       "1                   CIMA ENERGIA COMERCIALIZADORA SL            B26558056   \n",
       "2                                       EXEN, S.R.O.           C227767191   \n",
       "\n",
       "                   dirección_comercializadora cp_comercializadora  \\\n",
       "0                     C/ ISABEL TORRES, Nº 19               39011   \n",
       "1  AVENIDA DE PORTUGAL, 27 PLANTA 4, PUERTA 8               26001   \n",
       "2                          DR. SMERALA 1710/1               70200   \n",
       "\n",
       "  población_comercializadora provincia_comercializadora número_factura  \\\n",
       "0                  SANTANDER                  Cantabria    Z5231002650   \n",
       "1                    LOGROÑO                   LA RIOJA   QS7674816555   \n",
       "2  OSTRAVA (República Checa)                 Extranjero   HZ2504915940   \n",
       "\n",
       "  inicio_periodo fin_periodo importe_factura fecha_cargo  consumo_periodo  \\\n",
       "0     09.05.2016  08.07.2016          144,31  13.07.2016              426   \n",
       "1     29.12.2011  28.01.2012           90,57  02.02.2012              313   \n",
       "2     07.10.2019  06.11.2019           11,89  11.11.2019                0   \n",
       "\n",
       "  potencia_contratada  \n",
       "0               5,558  \n",
       "1               2,697  \n",
       "2               2,551  "
      ]
     },
     "execution_count": 22,
     "metadata": {},
     "output_type": "execute_result"
    }
   ],
   "source": [
    "df.head(3)"
   ]
  },
  {
   "cell_type": "code",
   "execution_count": 24,
   "id": "06d17b21-c868-41db-95ac-7741cd388a3f",
   "metadata": {
    "tags": []
   },
   "outputs": [
    {
     "data": {
      "text/plain": [
       "nombre_cliente\n",
       "3    952\n",
       "4     25\n",
       "5     17\n",
       "2      6\n",
       "Name: count, dtype: int64"
      ]
     },
     "execution_count": 24,
     "metadata": {},
     "output_type": "execute_result"
    }
   ],
   "source": [
    "df[\"nombre_cliente\"].str.split().apply(lambda x : len(x)).value_counts()"
   ]
  },
  {
   "cell_type": "code",
   "execution_count": 26,
   "id": "b70e15ae-74e5-4e06-8158-427f723cc52e",
   "metadata": {
    "tags": []
   },
   "outputs": [
    {
     "data": {
      "text/plain": [
       "697    0,721\n",
       "545    0,756\n",
       "377    1,167\n",
       "283    1,203\n",
       "923    1,312\n",
       "       ...  \n",
       "523    6,531\n",
       "485    6,563\n",
       "581    6,874\n",
       "176    6,953\n",
       "360    7,095\n",
       "Name: potencia_contratada, Length: 1000, dtype: object"
      ]
     },
     "execution_count": 26,
     "metadata": {},
     "output_type": "execute_result"
    }
   ],
   "source": [
    "df[\"potencia_contratada\"].sort_values()"
   ]
  },
  {
   "cell_type": "code",
   "execution_count": null,
   "id": "446c9249-a6e2-4da7-83b1-7c3da5b43487",
   "metadata": {},
   "outputs": [],
   "source": []
  }
 ],
 "metadata": {
  "kernelspec": {
   "display_name": "Python 3 (ipykernel)",
   "language": "python",
   "name": "python3"
  },
  "language_info": {
   "codemirror_mode": {
    "name": "ipython",
    "version": 3
   },
   "file_extension": ".py",
   "mimetype": "text/x-python",
   "name": "python",
   "nbconvert_exporter": "python",
   "pygments_lexer": "ipython3",
   "version": "3.11.7"
  }
 },
 "nbformat": 4,
 "nbformat_minor": 5
}
