{
 "cells": [
  {
   "cell_type": "code",
   "execution_count": 2,
   "id": "3c2aab01-c988-427f-b207-4783547af41f",
   "metadata": {
    "tags": []
   },
   "outputs": [],
   "source": [
    "import numpy as np\n",
    "import pandas as pd\n",
    "import matplotlib.pyplot as plt\n",
    "import seaborn\n",
    "import PyPDF2\n",
    "import re\n",
    "import json\n",
    "import os"
   ]
  },
  {
   "cell_type": "code",
   "execution_count": 3,
   "id": "cdefa320-c3fb-4bb9-97bb-86dc7849624c",
   "metadata": {
    "tags": []
   },
   "outputs": [],
   "source": [
    "#Separar las palabras que solo pueden contener letras (nombres, localidades...)\n",
    "#Separar las palabras que solo pueden contener numeros (cp, importes...)\n",
    "#Separar las palabras que terminan o empiezan por una letra o numero (dni, cif)"
   ]
  },
  {
   "cell_type": "code",
   "execution_count": 6,
   "id": "b36a2778-b8f4-4873-b296-cd25c214c9fd",
   "metadata": {
    "tags": []
   },
   "outputs": [],
   "source": [
    "train_path = 'training/'"
   ]
  },
  {
   "cell_type": "code",
   "execution_count": 8,
   "id": "811fd0b3-294f-473b-a316-a4cdd4c7a700",
   "metadata": {
    "tags": []
   },
   "outputs": [],
   "source": [
    "json_paths = [train_path + file for file in os.listdir(train_path) if file.endswith('.json')]\n",
    "pdf_paths = [train_path + file for file in os.listdir(train_path) if file.endswith('.pdf')]"
   ]
  },
  {
   "cell_type": "code",
   "execution_count": 10,
   "id": "5a4221d6-9ed7-4f8e-9054-8369e11a9f94",
   "metadata": {
    "tags": []
   },
   "outputs": [],
   "source": [
    "json_files = {}\n",
    "for json_path in json_paths:\n",
    "    bill_id = json_path.removeprefix(train_path + 'factura_').removesuffix('.json')\n",
    "    bill_id = int(bill_id)\n",
    "    with open(json_path, 'r') as file:\n",
    "        data = json.load(file)\n",
    "    \n",
    "    json_files[bill_id] = data"
   ]
  },
  {
   "cell_type": "code",
   "execution_count": 12,
   "id": "7d83093b-62c7-44b4-8ad4-02e96351ef14",
   "metadata": {
    "tags": []
   },
   "outputs": [],
   "source": [
    "bills_id = []\n",
    "for data in json_files.values():\n",
    "    bills_id.append(data['número_factura'])"
   ]
  },
  {
   "cell_type": "code",
   "execution_count": 14,
   "id": "494fb583-f9d9-427f-8967-491fda9c0ff3",
   "metadata": {
    "tags": []
   },
   "outputs": [
    {
     "data": {
      "text/plain": [
       "len_bill\n",
       "11    502\n",
       "12    498\n",
       "Name: count, dtype: int64"
      ]
     },
     "execution_count": 14,
     "metadata": {},
     "output_type": "execute_result"
    }
   ],
   "source": [
    "pd.DataFrame({'bill_id':bills_id, 'len_bill': [len(bill) for bill in bills_id]})['len_bill'].value_counts()"
   ]
  },
  {
   "cell_type": "code",
   "execution_count": null,
   "id": "00d4232c-8805-4136-952c-c01228169799",
   "metadata": {
    "tags": []
   },
   "outputs": [],
   "source": [
    "json_files = {}\n",
    "pdf_files = {}\n",
    "for json_path, pdf_path in zip(json_paths, pdf_paths):\n",
    "    json_bill_id = json_path.removeprefix(train_path + 'factura_').removesuffix('.json')\n",
    "    json_bill_id = int(json_bill_id)\n",
    "    \n",
    "    pdf_bill_id = pdf_path.removeprefix(train_path + 'factura_').removesuffix('.pdf')\n",
    "    pdf_bill_id = int(pdf_bill_id)\n",
    "    \n",
    "    with open(json_path, 'r') as file:\n",
    "        data = json.load(file)\n",
    "    \n",
    "    json_files[json_bill_id] = data\n",
    "    \n",
    "    with open(pdf_path, 'rb') as file:\n",
    "        reader = PyPDF2.PdfReader(file)\n",
    "    \n",
    "        # Obtener el número de páginas\n",
    "        num_pages = len(reader.pages)\n",
    "\n",
    "        # Extraer texto de todas las páginas\n",
    "        all_text = \"\"\n",
    "        for page_num in range(num_pages):\n",
    "            page = reader.pages[page_num]\n",
    "            all_text += page.extract_text()\n",
    "        all_text = all_text.replace('\\n','')\n",
    "    pdf_files[pdf_bill_id] = all_text"
   ]
  },
  {
   "cell_type": "code",
   "execution_count": 253,
   "id": "e86f2cfa-f0fc-4b10-9c9c-ec6777e63150",
   "metadata": {
    "tags": []
   },
   "outputs": [
    {
     "data": {
      "text/plain": [
       "626"
      ]
     },
     "execution_count": 253,
     "metadata": {},
     "output_type": "execute_result"
    }
   ],
   "source": [
    "len(pdf_files)"
   ]
  },
  {
   "cell_type": "code",
   "execution_count": 303,
   "id": "e9b09ac7-e0cb-49c1-b44a-10625d28441a",
   "metadata": {
    "tags": []
   },
   "outputs": [],
   "source": [
    "re_dni = r\"\\b\\d{8}[A-Z]\\b\"\n",
    "re_cif_national = r\"\\b[A-Z]\\d{8}\\b\"\n",
    "re_cif_foreign = r\"\\b[A-Z]{2}\\d{6,8}\\b\""
   ]
  },
  {
   "cell_type": "code",
   "execution_count": 305,
   "id": "2fd5339e-3f40-4127-b35b-c863de1e2918",
   "metadata": {
    "tags": []
   },
   "outputs": [],
   "source": [
    "bill_dni_cif = {}\n",
    "for bill_id, text in pdf_files.items():\n",
    "    dni = set(re.findall(re_dni, text))\n",
    "    dni = list(dni)[0] if len(dni) == 1 else None\n",
    "    \n",
    "    cif = set(re.findall(re_cif_national, text))\n",
    "    \n",
    "    if len(cif) == 1:\n",
    "        cif = list(cif)[0]\n",
    "    else:\n",
    "        cif = set(re.findall(re_cif_foreign, text))\n",
    "        cif = list(cif)[0] if len(cif) == 1 else None\n",
    "    \n",
    "    bill_dni_cif[bill_id] = [dni, cif]"
   ]
  },
  {
   "cell_type": "code",
   "execution_count": 306,
   "id": "7012160f-2501-448f-be19-7c82348b9a94",
   "metadata": {
    "tags": []
   },
   "outputs": [],
   "source": [
    "preds_dic = {}\n",
    "for i in range(1000):\n",
    "    pred_dni, pred_cif = bill_dni_cif[i]\n",
    "    \n",
    "    dni = json_files[i]['dni_cliente']\n",
    "    cif = json_files[i]['cif_comercializadora']\n",
    "    \n",
    "    preds_dic[i] = [bool(pred_dni == dni), bool(pred_cif == cif)]"
   ]
  },
  {
   "cell_type": "code",
   "execution_count": 308,
   "id": "f0aeaaa6-60d9-4de4-9c41-a269e2584226",
   "metadata": {
    "tags": []
   },
   "outputs": [],
   "source": [
    "df = pd.DataFrame(preds_dic.values(), columns = ['dni', 'cif'])"
   ]
  },
  {
   "cell_type": "code",
   "execution_count": 311,
   "id": "34f82441-89ce-40f4-a573-28b43a247bce",
   "metadata": {
    "tags": []
   },
   "outputs": [
    {
     "data": {
      "text/plain": [
       "65"
      ]
     },
     "execution_count": 311,
     "metadata": {},
     "output_type": "execute_result"
    }
   ],
   "source": [
    "len([data[1] for data in bill_dni_cif.values() if data[1] == None])"
   ]
  },
  {
   "cell_type": "code",
   "execution_count": 313,
   "id": "3cfa381d-d519-403a-99ec-a9f8c9314fd0",
   "metadata": {
    "tags": []
   },
   "outputs": [
    {
     "data": {
      "text/plain": [
       "65"
      ]
     },
     "execution_count": 313,
     "metadata": {},
     "output_type": "execute_result"
    }
   ],
   "source": [
    "sum(df['cif'] == False)"
   ]
  },
  {
   "cell_type": "code",
   "execution_count": 315,
   "id": "7fc97f13-ccce-428d-85e8-b74604011e26",
   "metadata": {
    "tags": []
   },
   "outputs": [
    {
     "data": {
      "text/plain": [
       "Index([ 46,  90,  99, 109, 124, 139, 142, 148, 164, 201, 240, 283, 296, 367,\n",
       "       377, 386, 405, 413, 417, 426, 433, 436, 454, 458, 477, 507, 518, 521,\n",
       "       527, 555, 561, 571, 589, 594, 595, 596, 605, 631, 661, 673, 692, 702,\n",
       "       713, 724, 728, 742, 765, 774, 780, 789, 796, 855, 861, 874, 884, 900,\n",
       "       903, 908, 917, 937, 962, 964, 969, 970, 987],\n",
       "      dtype='int64')"
      ]
     },
     "execution_count": 315,
     "metadata": {},
     "output_type": "execute_result"
    }
   ],
   "source": [
    "df[df['cif'] == False].index"
   ]
  },
  {
   "cell_type": "code",
   "execution_count": null,
   "id": "fdb90a56-0ad8-40a4-a58e-ce888fa0c2e2",
   "metadata": {},
   "outputs": [],
   "source": []
  }
 ],
 "metadata": {
  "kernelspec": {
   "display_name": "Python 3 (ipykernel)",
   "language": "python",
   "name": "python3"
  },
  "language_info": {
   "codemirror_mode": {
    "name": "ipython",
    "version": 3
   },
   "file_extension": ".py",
   "mimetype": "text/x-python",
   "name": "python",
   "nbconvert_exporter": "python",
   "pygments_lexer": "ipython3",
   "version": "3.11.7"
  }
 },
 "nbformat": 4,
 "nbformat_minor": 5
}
