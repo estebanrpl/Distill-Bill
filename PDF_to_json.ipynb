{
 "cells": [
  {
   "cell_type": "markdown",
   "id": "2c223458-b1cc-45da-868c-e1da2b794e09",
   "metadata": {
    "tags": []
   },
   "source": [
    "## Cosas interesantes\n",
    "- Los cif de las empresas españolas siempre tienen 9 caracteres (letra mas 8 numeros)\n",
    "- Los dni siempre tienen 8 letras mas un numero\n",
    "- Los codigos postales españoles siempre son de 5 digitos\n",
    "\n",
    "## Datos que puedo parsear con re\n",
    "- cif espanholes\n",
    "- dni\n",
    "- codigos postales espanholes\n",
    "- numero factura\n",
    "- importe factura\n",
    "- potencia contratada"
   ]
  },
  {
   "cell_type": "markdown",
   "id": "d5a7c803-9792-43a7-b942-6fc82b2c10d1",
   "metadata": {},
   "source": [
    "# Codigo"
   ]
  },
  {
   "cell_type": "code",
   "execution_count": 796,
   "id": "3c2aab01-c988-427f-b207-4783547af41f",
   "metadata": {
    "tags": []
   },
   "outputs": [],
   "source": [
    "import numpy as np\n",
    "import pandas as pd\n",
    "import matplotlib.pyplot as plt\n",
    "import seaborn\n",
    "import PyPDF2\n",
    "import re\n",
    "import json\n",
    "import os\n",
    "from datetime import datetime"
   ]
  },
  {
   "cell_type": "code",
   "execution_count": 182,
   "id": "cdefa320-c3fb-4bb9-97bb-86dc7849624c",
   "metadata": {
    "tags": []
   },
   "outputs": [],
   "source": [
    "#Separar las palabras que solo pueden contener letras (nombres, localidades...)\n",
    "#Separar las palabras que solo pueden contener numeros (cp, importes...)\n",
    "#Separar las palabras que terminan o empiezan por una letra o numero (dni, cif)"
   ]
  },
  {
   "cell_type": "code",
   "execution_count": 184,
   "id": "b36a2778-b8f4-4873-b296-cd25c214c9fd",
   "metadata": {
    "tags": []
   },
   "outputs": [],
   "source": [
    "train_path = 'training/'"
   ]
  },
  {
   "cell_type": "code",
   "execution_count": 186,
   "id": "811fd0b3-294f-473b-a316-a4cdd4c7a700",
   "metadata": {
    "tags": []
   },
   "outputs": [],
   "source": [
    "json_paths = [train_path + file for file in os.listdir(train_path) if file.endswith('.json')]\n",
    "pdf_paths = [train_path + file for file in os.listdir(train_path) if file.endswith('.pdf')]"
   ]
  },
  {
   "cell_type": "code",
   "execution_count": 188,
   "id": "5a4221d6-9ed7-4f8e-9054-8369e11a9f94",
   "metadata": {
    "tags": []
   },
   "outputs": [],
   "source": [
    "json_files = {}\n",
    "for json_path in json_paths:\n",
    "    bill_id = json_path.removeprefix(train_path + 'factura_').removesuffix('.json')\n",
    "    bill_id = int(bill_id)\n",
    "    with open(json_path, 'r') as file:\n",
    "        data = json.load(file)\n",
    "    \n",
    "    json_files[bill_id] = data"
   ]
  },
  {
   "cell_type": "code",
   "execution_count": 16,
   "id": "e86f2cfa-f0fc-4b10-9c9c-ec6777e63150",
   "metadata": {
    "tags": []
   },
   "outputs": [],
   "source": [
    "with open(\"pdf_files.json\", \"r\") as file:\n",
    "    pdf_files = json.load(file)"
   ]
  },
  {
   "cell_type": "code",
   "execution_count": 11,
   "id": "00d4232c-8805-4136-952c-c01228169799",
   "metadata": {
    "tags": []
   },
   "outputs": [
    {
     "data": {
      "text/plain": [
       "'json_files = {}\\npdf_files = {}\\nfor json_path, pdf_path in zip(json_paths, pdf_paths):\\n    json_bill_id = json_path.removeprefix(train_path + \\'factura_\\').removesuffix(\\'.json\\')\\n    json_bill_id = int(json_bill_id)\\n    \\n    pdf_bill_id = pdf_path.removeprefix(train_path + \\'factura_\\').removesuffix(\\'.pdf\\')\\n    pdf_bill_id = int(pdf_bill_id)\\n    \\n    with open(json_path, \\'r\\') as file:\\n        data = json.load(file)\\n    \\n    json_files[json_bill_id] = data\\n    \\n    with open(pdf_path, \\'rb\\') as file:\\n        reader = PyPDF2.PdfReader(file)\\n    \\n        # Obtener el número de páginas\\n        num_pages = len(reader.pages)\\n\\n        # Extraer texto de todas las páginas\\n        all_text = \"\"\\n        for page_num in range(num_pages):\\n            page = reader.pages[page_num]\\n            all_text += page.extract_text()\\n        all_text = all_text.replace(\\'\\n\\',\\'\\')\\n    pdf_files[pdf_bill_id] = all_text'"
      ]
     },
     "execution_count": 11,
     "metadata": {},
     "output_type": "execute_result"
    }
   ],
   "source": [
    "'''json_files = {}\n",
    "pdf_files = {}\n",
    "for json_path, pdf_path in zip(json_paths, pdf_paths):\n",
    "    json_bill_id = json_path.removeprefix(train_path + 'factura_').removesuffix('.json')\n",
    "    json_bill_id = int(json_bill_id)\n",
    "    \n",
    "    pdf_bill_id = pdf_path.removeprefix(train_path + 'factura_').removesuffix('.pdf')\n",
    "    pdf_bill_id = int(pdf_bill_id)\n",
    "    \n",
    "    with open(json_path, 'r') as file:\n",
    "        data = json.load(file)\n",
    "    \n",
    "    json_files[json_bill_id] = data\n",
    "    \n",
    "    with open(pdf_path, 'rb') as file:\n",
    "        reader = PyPDF2.PdfReader(file)\n",
    "    \n",
    "        # Obtener el número de páginas\n",
    "        num_pages = len(reader.pages)\n",
    "\n",
    "        # Extraer texto de todas las páginas\n",
    "        all_text = \"\"\n",
    "        for page_num in range(num_pages):\n",
    "            page = reader.pages[page_num]\n",
    "            all_text += page.extract_text()\n",
    "        all_text = all_text.replace('\\n','')\n",
    "    pdf_files[pdf_bill_id] = all_text'''"
   ]
  },
  {
   "cell_type": "markdown",
   "id": "3dd63eed-d63e-47dc-aa7e-e6ff7ca8b78b",
   "metadata": {},
   "source": [
    "## Pruebas re"
   ]
  },
  {
   "cell_type": "code",
   "execution_count": 945,
   "id": "a6cab588-d924-452a-aa21-d08e9483a977",
   "metadata": {
    "tags": []
   },
   "outputs": [],
   "source": [
    "def extract_result(matches):\n",
    "    matches_set = set(matches)\n",
    "    if len(matches_set) == 1:\n",
    "        return matches[0]\n",
    "    return matches"
   ]
  },
  {
   "cell_type": "code",
   "execution_count": 305,
   "id": "37ac5801-6521-4169-b9ca-be88121c50b9",
   "metadata": {
    "tags": []
   },
   "outputs": [],
   "source": [
    "num_bills = [0,1,4,47]"
   ]
  },
  {
   "cell_type": "code",
   "execution_count": 352,
   "id": "80b5b4d1-5918-4b3b-94eb-2465254be994",
   "metadata": {
    "tags": []
   },
   "outputs": [
    {
     "data": {
      "text/plain": [
       "'text_bills = {}\\nfor num in num_bills:\\n    reader = PyPDF2.PdfReader(f\"training/factura_{num}.pdf\")\\n\\n    num_pages = len(reader.pages)\\n\\n    text = reader.pages[0].extract_text()\\n    \\n    text_bills[num] = text'"
      ]
     },
     "execution_count": 352,
     "metadata": {},
     "output_type": "execute_result"
    }
   ],
   "source": [
    "'''text_bills = {}\n",
    "for num in num_bills:\n",
    "    reader = PyPDF2.PdfReader(f\"training/factura_{num}.pdf\")\n",
    "\n",
    "    num_pages = len(reader.pages)\n",
    "\n",
    "    text = reader.pages[0].extract_text()\n",
    "    \n",
    "    text_bills[num] = text'''"
   ]
  },
  {
   "cell_type": "code",
   "execution_count": 354,
   "id": "b91b4a59-9354-496f-a4ad-395c591c1c3c",
   "metadata": {
    "tags": []
   },
   "outputs": [],
   "source": [
    "text_bills = {}\n",
    "for num in num_bills:\n",
    "    text = extract_text(f\"training/factura_{num}.pdf\")\n",
    "\n",
    "    text_bills[num] = text"
   ]
  },
  {
   "cell_type": "code",
   "execution_count": 750,
   "id": "13394445-8714-43af-a7e8-5f279f1daba5",
   "metadata": {
    "tags": []
   },
   "outputs": [],
   "source": [
    "text = text_bills[47]"
   ]
  },
  {
   "cell_type": "code",
   "execution_count": 752,
   "id": "4786978f-6abd-4168-8c7e-ea875929c9b3",
   "metadata": {
    "tags": []
   },
   "outputs": [
    {
     "data": {
      "text/plain": [
       "132.93"
      ]
     },
     "execution_count": 752,
     "metadata": {},
     "output_type": "execute_result"
    }
   ],
   "source": [
    "#importe total\n",
    "\n",
    "re_importe_total = re.compile(r\"(\\d+,\\d+)[^\\n]*€\")\n",
    "\n",
    "matches = re_importe_total.findall(text)\n",
    "max([float(amount.replace(',','.')) for amount in matches])"
   ]
  },
  {
   "cell_type": "code",
   "execution_count": 930,
   "id": "11fd28a8-87b3-4e1e-93d8-febb60435fa8",
   "metadata": {
    "tags": []
   },
   "outputs": [
    {
     "data": {
      "text/plain": [
       "['D6034231723']"
      ]
     },
     "execution_count": 930,
     "metadata": {},
     "output_type": "execute_result"
    }
   ],
   "source": [
    "#Numero de factura\n",
    "\n",
    "re_numero_factura = re.compile(r\"(?:nº|num\\.|número|num)\\s*factura:\\s*(\\w+)\", re.IGNORECASE)\n",
    "\n",
    "matches = re_numero_factura.findall(text)\n",
    "matches"
   ]
  },
  {
   "cell_type": "code",
   "execution_count": 942,
   "id": "80002412-be13-4a83-a681-be923d277e51",
   "metadata": {
    "tags": []
   },
   "outputs": [
    {
     "data": {
      "text/plain": [
       "['B02494375']"
      ]
     },
     "execution_count": 942,
     "metadata": {},
     "output_type": "execute_result"
    }
   ],
   "source": [
    "#cif\n",
    "\n",
    "re_cif = re.compile(r\"\\b[A-Z]\\d{8}\\b\")\n",
    "\n",
    "matches = re_cif.findall(text)\n",
    "matches"
   ]
  },
  {
   "cell_type": "code",
   "execution_count": 757,
   "id": "85f57430-e5fa-4b34-b744-a790fefa39d8",
   "metadata": {
    "tags": []
   },
   "outputs": [
    {
     "data": {
      "text/plain": [
       "['36368114P']"
      ]
     },
     "execution_count": 757,
     "metadata": {},
     "output_type": "execute_result"
    }
   ],
   "source": [
    "#dni\n",
    "\n",
    "re_dni = re.compile(r\"\\b\\d{8}[A-Z]\\b\")\n",
    "\n",
    "matches = re_dni.findall(text)\n",
    "matches"
   ]
  },
  {
   "cell_type": "code",
   "execution_count": 758,
   "id": "e118d2da-dcbd-42ca-ad28-2cbf7d5a5243",
   "metadata": {
    "tags": []
   },
   "outputs": [
    {
     "data": {
      "text/plain": [
       "['Remite: INER ENERGIA CASTILLA LA MANCHA SL  Apartado  de  Correos  X X X X X   02006 ALBACETE ',\n",
       " 'Domicilio social: C/ SANTIAGO RUSIÑOL, 9 BAJO, 02006 - Albacete ',\n",
       " '28911 Leganés ',\n",
       " 'Dirección de suministro: Calle Sonsa 28911 Leganés ',\n",
       " 'Dirección fiscal: Calle Sonsa 28911  Leganés ',\n",
       " 'Puntos de atención cercanos: C/ SANTIAGO RUSIÑOL, 9 BAJO 02006 ',\n",
       " 'Departamento de Reclamaciones, Apdo. de Correos XXXXX – 02006 ALBACETE ']"
      ]
     },
     "execution_count": 758,
     "metadata": {},
     "output_type": "execute_result"
    }
   ],
   "source": [
    "#cp\n",
    "#tener cuidado con el resto de datos numericos euros, kwh, kw\n",
    "\n",
    "re_cp = re.compile(r\".*\\b\\d{5}\\b(?!\\s*kW|\\s*kWh).*\")\n",
    "\n",
    "matches = re_cp.findall(text)\n",
    "matches"
   ]
  },
  {
   "cell_type": "code",
   "execution_count": 759,
   "id": "ce5d9b86-cb9b-4573-90ea-a854df700e82",
   "metadata": {
    "tags": []
   },
   "outputs": [
    {
     "data": {
      "text/plain": [
       "['4,70']"
      ]
     },
     "execution_count": 759,
     "metadata": {},
     "output_type": "execute_result"
    }
   ],
   "source": [
    "#potencia contratada\n",
    "\n",
    "re_potencia_contratada = re.compile(r\"contratada:?[^\\n]*?(\\d+,\\d+)\\s*(?<!€/)kW\")\n",
    "\n",
    "matches = re_potencia_contratada.findall(text)\n",
    "matches"
   ]
  },
  {
   "cell_type": "code",
   "execution_count": 949,
   "id": "bbe474c4-43e6-41e3-9153-af0ec7c0bf04",
   "metadata": {
    "tags": []
   },
   "outputs": [
    {
     "name": "stdout",
     "output_type": "stream",
     "text": [
      "368\n"
     ]
    }
   ],
   "source": [
    "#consumo\n",
    "#Mirar si puede estar en la segunda pagina y decidir si usar \\s* o [^\\n]*\n",
    "\n",
    "re_consumo = re.compile(r\"(\\d+)\\s*kWh\")\n",
    "\n",
    "matches = re_consumo.findall(text)\n",
    "matches = [int(amount.replace(',','.')) for amount in matches]\n",
    "matches = sorted(matches)\n",
    "if len(matches) >= 2:\n",
    "    consumo = matches[-1] - matches [-2]\n",
    "    if consumo in matches:\n",
    "        print(consumo) \n",
    "else:\n",
    "    print(matches)"
   ]
  },
  {
   "cell_type": "code",
   "execution_count": 890,
   "id": "93cac852-8a27-4e5c-b746-0e3ecdf9dc3e",
   "metadata": {
    "tags": []
   },
   "outputs": [],
   "source": [
    "# Fechas periodo\n",
    "# Comprobar por cada elemento de la lista si hay meses en letra, fechas en distintos formatos o numeros\n",
    "months = {\n",
    "    \"enero\": \"01\",\n",
    "    \"febrero\": \"02\",\n",
    "    \"marzo\": \"03\",\n",
    "    \"abril\": \"04\",\n",
    "    \"mayo\": \"05\",\n",
    "    \"junio\": \"06\",\n",
    "    \"julio\": \"07\",\n",
    "    \"agosto\": \"08\",\n",
    "    \"septiembre\": \"09\",\n",
    "    \"octubre\": \"10\",\n",
    "    \"noviembre\": \"11\",\n",
    "    \"diciembre\": \"12\"\n",
    "}\n",
    "\n",
    "#Hacemos match con todos los elementos que van precedidos por periodo\n",
    "matches = re.findall(r\"(?<=periodo|período)(.*?)(?=\\n|$)\", text, re.IGNORECASE)\n",
    "\n",
    "#filtramos los elementos que pueden tener formato de fecha\n",
    "re_numeric_date = re.compile(r\"\\b(\\d{2})[-.\\s\\/]\\s?(\\d{2})[-.\\s\\/]\\s?(\\d{4})\\b\")\n",
    "re_string_date = re.compile(r\"\\b(\\d{1,2})\\s*de?\\s*?(enero|febrero|marzo|abril|mayo|junio|julio|agosto|septiembre|octubre|noviembre|diciembre)\\s*de?\\s*?(\\d{4})\\b\")\n",
    "period_dates = [re_numeric_date.findall(match) for match in matches if len(re_numeric_date.findall(match)) == 2]\n",
    "if not period_dates:\n",
    "    period_dates = [re_string_date.findall(match) for match in matches if len(re_string_date.findall(match)) == 2]\n",
    "    period_dates = [[f\"{date[0]}.{months[date[1]]}.{date[2]}\" for dates in period_dates for date in dates]]\n",
    "else:\n",
    "    period_dates = [[f\"{date[0]}.{date[1]}.{date[2]}\" for dates in period_dates for date in dates]]\n",
    "\n",
    "#Compruebo que los pares de fechas son distintos entre si para poder obtener periodos\n",
    "period_dates = [dates for dates in period_dates if dates[0] != dates[1]]\n",
    "\n",
    "#Me quedo con los valores unicos de fechas para comprobar que solo tenga un periodo valido\n",
    "period_dates = [date for dates in period_dates for date in dates]\n",
    "period_dates = list(set(period_dates))\n",
    "\n",
    "#Ahora le doy formato a las fechas para comparar y parsear la mayor a fecha final y la menor a fecha inicial\n",
    "date_1 = datetime.strptime(period_dates[0], \"%d.%m.%Y\")\n",
    "date_2 = datetime.strptime(period_dates[1], \"%d.%m.%Y\")\n",
    "if date_1 == date_2:\n",
    "    #Decidir que pasa si son iguales\n",
    "    pass\n",
    "else:\n",
    "    sorted_dates = sorted([date_1, date_2]) \n",
    "    initial_date, final_date = [date.strftime(\"%d.%m.%Y\") for date in sorted_dates]"
   ]
  },
  {
   "cell_type": "markdown",
   "id": "756fbabc-829e-4e99-aabd-679155d7d20c",
   "metadata": {},
   "source": [
    "### Prueba resultado regex"
   ]
  },
  {
   "cell_type": "code",
   "execution_count": 958,
   "id": "1af20637-16a1-49f4-927a-952f852a9a75",
   "metadata": {
    "tags": []
   },
   "outputs": [],
   "source": [
    "data = []\n",
    "for num in range(1000):\n",
    "    text = extract_text(f\"training/factura_{num}.pdf\")\n",
    "    \n",
    "    #importe total\n",
    "\n",
    "    re_importe_total = re.compile(r\"(\\d+,\\d+)[^\\n]*€\")\n",
    "\n",
    "    matches = re_importe_total.findall(text)\n",
    "    importe_total = max([float(amount.replace(',','.')) for amount in matches])\n",
    "\n",
    "    #Numero de factura\n",
    "\n",
    "    re_numero_factura = re.compile(r\"(?:nº|num\\.|número|num)\\s*factura:\\s*(\\w+)\", re.IGNORECASE)\n",
    "\n",
    "    matches = re_numero_factura.findall(text)\n",
    "    numero_factura = extract_result(matches)\n",
    "\n",
    "    #cif\n",
    "\n",
    "    re_cif = re.compile(r\"\\b[A-Z]\\d{8}\\b\")\n",
    "\n",
    "    matches = re_cif.findall(text)\n",
    "    cif = extract_result(matches)\n",
    "\n",
    "    #dni\n",
    "\n",
    "    re_dni = re.compile(r\"\\b\\d{8}[A-Z]\\b\")\n",
    "\n",
    "    matches = re_dni.findall(text)\n",
    "    dni = extract_result(matches)\n",
    "\n",
    "    #cp\n",
    "    #tener cuidado con el resto de datos numericos euros, kwh, kw\n",
    "\n",
    "    re_cp = re.compile(r\".*\\b(\\d{5})\\b(?!\\s*kW|\\s*kWh).*\")\n",
    "\n",
    "    matches = re_cp.findall(text)\n",
    "    cp = extract_result(matches)\n",
    "\n",
    "    #potencia contratada\n",
    "\n",
    "    re_potencia_contratada = re.compile(r\"contratada:?[^\\n]*?(\\d+,\\d+)\\s*(?<!€/)kW\")\n",
    "\n",
    "    matches = re_potencia_contratada.findall(text)\n",
    "    potencia_contratada = extract_result(matches)\n",
    "\n",
    "    #consumo\n",
    "    #Mirar si puede estar en la segunda pagina y decidir si usar \\s* o [^\\n]*\n",
    "\n",
    "    re_consumo = re.compile(r\"(\\d+)\\s*kWh\")\n",
    "\n",
    "    matches = re_consumo.findall(text)\n",
    "    matches = [int(amount.replace(',','.')) for amount in matches]\n",
    "    matches = sorted(matches)\n",
    "    if len(matches) == 1:\n",
    "        consumo = matches[0]\n",
    "    elif len(matches) >= 3:\n",
    "        consumo = matches[-1] - matches [-2]\n",
    "        if consumo not in matches:\n",
    "            consumo = matches\n",
    "    else:\n",
    "        consumo = matches\n",
    "\n",
    "    # Fechas periodo\n",
    "    # Comprobar por cada elemento de la lista si hay meses en letra, fechas en distintos formatos o numeros\n",
    "    months = {\n",
    "        \"enero\": \"01\",\n",
    "        \"febrero\": \"02\",\n",
    "        \"marzo\": \"03\",\n",
    "        \"abril\": \"04\",\n",
    "        \"mayo\": \"05\",\n",
    "        \"junio\": \"06\",\n",
    "        \"julio\": \"07\",\n",
    "        \"agosto\": \"08\",\n",
    "        \"septiembre\": \"09\",\n",
    "        \"octubre\": \"10\",\n",
    "        \"noviembre\": \"11\",\n",
    "        \"diciembre\": \"12\"\n",
    "    }\n",
    "\n",
    "    #Hacemos match con todos los elementos que van precedidos por periodo\n",
    "    matches = re.findall(r\"(?<=periodo|período)(.*?)(?=\\n|$)\", text, re.IGNORECASE)\n",
    "\n",
    "    #filtramos los elementos que pueden tener formato de fecha\n",
    "    re_numeric_date = re.compile(r\"\\b(\\d{2})[-.\\s\\/]\\s?(\\d{2})[-.\\s\\/]\\s?(\\d{4})\\b\")\n",
    "    re_string_date = re.compile(r\"\\b(\\d{1,2})\\s*de?\\s*?(enero|febrero|marzo|abril|mayo|junio|julio|agosto|septiembre|octubre|noviembre|diciembre)\\s*de?\\s*?(\\d{4})\\b\")\n",
    "    period_dates = [re_numeric_date.findall(match) for match in matches if len(re_numeric_date.findall(match)) == 2]\n",
    "    if not period_dates:\n",
    "        period_dates = [re_string_date.findall(match) for match in matches if len(re_string_date.findall(match)) == 2]\n",
    "        period_dates = [[f\"{date[0]}.{months[date[1]]}.{date[2]}\" for dates in period_dates for date in dates]]\n",
    "    else:\n",
    "        period_dates = [[f\"{date[0]}.{date[1]}.{date[2]}\" for dates in period_dates for date in dates]]\n",
    "\n",
    "    #Compruebo que los pares de fechas son distintos entre si para poder obtener periodos\n",
    "    period_dates = [dates for dates in period_dates if dates[0] != dates[1]]\n",
    "\n",
    "    #Me quedo con los valores unicos de fechas para comprobar que solo tenga un periodo valido\n",
    "    period_dates = [date for dates in period_dates for date in dates]\n",
    "    period_dates = list(set(period_dates))\n",
    "\n",
    "    #Ahora le doy formato a las fechas para comparar y parsear la mayor a fecha final y la menor a fecha inicial\n",
    "    date_1 = datetime.strptime(period_dates[0], \"%d.%m.%Y\")\n",
    "    date_2 = datetime.strptime(period_dates[1], \"%d.%m.%Y\")\n",
    "    if date_1 == date_2:\n",
    "        #Decidir que pasa si son iguales\n",
    "        pass\n",
    "    else:\n",
    "        sorted_dates = sorted([date_1, date_2]) \n",
    "        initial_date, final_date = [date.strftime(\"%d.%m.%Y\") for date in sorted_dates]\n",
    "        \n",
    "    row = [num, importe_total, numero_factura, cif, dni, cp, potencia_contratada, consumo, initial_date, final_date]\n",
    "    data.append(row)\n",
    "\n",
    "df_pred = pd.DataFrame(data, columns = [\"num\", \"importe_total\", \"numero_factura\", \"cif\", \"dni\", \"cp\", \"potencia_contratada\", \"consumo\", \"initial_date\", \"final_date\"])"
   ]
  },
  {
   "cell_type": "code",
   "execution_count": 959,
   "id": "9b3a23fe-7a62-4b66-9e65-3ca37b3ca2f4",
   "metadata": {
    "tags": []
   },
   "outputs": [],
   "source": [
    "df_pred.to_csv(\"predicciones.csv\", index = False)"
   ]
  },
  {
   "cell_type": "code",
   "execution_count": 952,
   "id": "36bdef01-df65-4e9c-898b-1bc42090a5ca",
   "metadata": {
    "tags": []
   },
   "outputs": [],
   "source": [
    "data = []\n",
    "\n",
    "for num in range(1000):\n",
    "    importe_total = json_files[num][\"importe_factura\"]\n",
    "    numero_factura = json_files[num][\"número_factura\"]\n",
    "    dni = json_files[num]['dni_cliente']\n",
    "    cif = json_files[num]['cif_comercializadora']\n",
    "    cp = json_files[num][\"cp_cliente\"]\n",
    "    potencia_contratada = json_files[num][\"potencia_contratada\"]\n",
    "    consumo = json_files[num][\"consumo_periodo\"]\n",
    "    initial_date = json_files[num][\"inicio_periodo\"]\n",
    "    final_date = json_files[num][\"fin_periodo\"]\n",
    "    \n",
    "    row = [num, importe_total, numero_factura, cif, dni, cp, potencia_contratada, consumo, initial_date, final_date]\n",
    "    data.append(row)\n",
    "    \n",
    "df = pd.DataFrame(data, columns = [\"num\", \"importe_total\", \"numero_factura\", \"cif\", \"dni\", \"cp\", \"potencia_contratada\", \"consumo\", \"initial_date\", \"final_date\"])"
   ]
  },
  {
   "cell_type": "code",
   "execution_count": 374,
   "id": "af9d3070-ea57-4568-920b-25ccc620f735",
   "metadata": {
    "tags": []
   },
   "outputs": [
    {
     "data": {
      "text/plain": [
       "'F\\nI\\n\\nC\\n\\n.\\n\\n0\\n3\\n1\\n\\nn\\nó\\ni\\nc\\np\\ni\\nr\\nc\\ns\\nn\\ni\\n\\n,\\n\\n3\\n3\\n3\\n5\\n6\\n-\\nM\\no\\nr\\ne\\nm\\nú\\nn\\n\\na\\nj\\no\\nh\\n\\n,\\n\\n7\\n\\nn\\nó\\ni\\nc\\nc\\ne\\ns\\n\\n,\\n\\n2\\n3\\n\\no\\ni\\nl\\no\\nf\\n\\n,\\n\\n8\\n9\\n9\\n8\\n3\\n\\no\\nm\\no\\nt\\n\\n,\\n\\nI\\n\\nD\\nR\\nD\\nA\\nM\\n\\n.\\n\\nD\\n\\nI\\n\\nR\\nD\\nA\\nM\\n\\n-\\n\\n4\\n3\\n0\\n8\\n2\\n\\n,\\n\\n2\\n\\n,\\n\\nA\\nD\\nI\\nT\\nS\\nA\\nB\\nA\\nL\\n\\n/\\n\\nC\\n\\n:\\nl\\na\\ni\\nc\\no\\nS\\n\\n.\\n\\nm\\no\\nD\\n\\n.\\n\\nL\\nS\\n\\n.\\n\\n,\\n\\nS\\nE\\nL\\nB\\nA\\nV\\nO\\nN\\nE\\nR\\nS\\nA\\nG\\nR\\nE\\nN\\nE\\nS\\nY\\nL\\n\\nI\\n\\n.\\n\\n6\\n0\\n4\\n6\\n4\\n4\\n8\\n8\\nB\\n\\nLYS ENERGIAS RENOVABLES, S.L \\n Fecha de emisión:  13.06.2020  \\nNº factura:  K9131055493 \\n\\nNombre:  LEONARDA JARAMILLO BÁEZ \\nDirección suministro:  Camino de los Pelendengues  \\n21830 Bonares \\nNº Referencia: 673529209761/1194 \\nNº  cliente: XXXXXXX \\nNIF: 90237166R \\nDirección:  Camino de los Pelendengues 21830 Bonares \\nEntidad: Banco de Albacete, S.A. \\nDatos bancarios: IBAN ES00914408492265477***** \\n Fecha de cargo: 16.06.2020 \\n\\nLEONARDA JARAMILLO BÁEZ \\nCamino de los Pelendengues \\n21830  - Bonares -  \\nHuelva \\n\\nEsta factura será cargada en cuenta siguiendo el mandato E95833021887783480064624068 \\n\\n¿Son correctos sus datos personales? \\nPuede actualizarlos online  en su Área Privada de la web entrando en http://enigma-technologies.com//misdatos \\n\\nTotal a pagar \\n\\n104,74 € \\n\\nelectricidad PVPC sin discriminación horaria  Contrato: 407782674809..................................................... \\nDel 12.05.2020 al 11.06.2020 (30 días = 1,000000 meses) \\nConsumo electricidad \\n    Período de 12.05.2020 a 11.06.2020 \\n\\n0,266211 €/kWh \\n\\n302 kWh  \\n\\n80,40 € \\n\\nTérmino de potencia (4,524 kW) \\n    Período de 12.05.2020 a 11.06.2020 \\n\\n30 días \\n\\n0,114399 €/kW día \\n\\n15,51 € \\n\\nSubtotal \\n\\nImpuesto  electricidad \\nOtros conceptos electricidad \\n        Alquiler de contador \\n\\nTotal electricidad \\n\\n Base imponible \\nIGIC 1% \\nBase imponible  \\nIGIC 6,5% \\n\\nTotal factura \\n\\n                                                                                       95,91 €  \\n\\n95,91 € \\n\\n5,1127 % \\n\\n30 días \\n\\n0,091475 €/día \\n\\n4,90 € \\n\\n2,74 € \\n\\n                                                                          103,55 € \\n\\n100,81 € \\n1,01 € \\n2,74 € \\n0,18 € \\n\\n104,74 € \\n\\nIdeas que facilitan su día a día............................................................... \\n¿Conoce ya nuestro servicio de reparación y mantenimiento de calderas? Con  Servigas  contará con  asistencia ante cualquier avería en \\nmenos de 3 horas, las 24 horas del día, los 365 días del año y tendrá garantizada  la revisión anual de su caldera o calentador. \\nConsulte las condiciones de este servicio y contrate Servigas entrando en http://enigma-technologies.com/ y obtendrá  un 50% de \\ndescuento durante el primer año. \\n\\nCanales para contactar con LYS ENERGIAS RENOVABLES, S.L  \\n\\n2..4.. .h..o...r.a..s.. ./. .3..6..5.. .d..í.a..s.. .d..e..l. .a..ñ..o................................... \\nWeb    http://enigma-technologies.com/ \\nReparación urgente de calderas \\ny electrodomésticos  XXX XXX XXX \\nLectura del contador  XXX XXX XXX \\nhttp://enigma-technologies.com//lecturas \\nAverías eléctricas \\n\\n900 101 061 \\n\\n        L...u..n..e..s.. .a.. .s..á..b..a..d..o..,. .d..e.. .8.. .a.. .2..2.. .h..o..r.a..s.......................... \\nContratación Productos y Servicios  XXXXXXX \\nReclamaciones e incidencias     900 101 022  \\n\\nC/ LABASTIDA, 2, 28034 - MADRID \\n\\nSi quiere una atención más personalizada puede acudir a alguno de los centros que LYS ENERGIAS RENOVABLES, \\nS.L tiene a su  servicio. Encuentre el más cercano en http://enigma-technologies.com//centros o desde su móvil en \\nhttp://enigma-technologies.com//.mobi. \\n\\nDese de alta gratis en http://enigma-technologies.com//mifactura \\n\\n \\n \\n \\n \\n \\n \\n \\n \\n \\n \\n \\n \\n \\n \\n \\n \\n \\n \\n \\n \\n \\n \\n \\n \\n \\n \\n \\n \\n \\n \\n \\n \\n \\n \\n \\n \\n \\n \\n \\n \\n \\n \\n \\n \\n\\x0cLas cuentas claras.................................................................................. \\nA continuación le presentamos información detallada sobre su/s contrato/s y factura. \\n\\nInformación lecturas / consumos \\n\\nLectura actual: \\nLectura anterior: \\nConsumo: \\n\\nLlano real \\nLlano real \\nLlano \\n\\n11.06.2020 \\n12.05.2020 \\n\\n9260 kWh \\n8958 kWh \\n302 kWh \\n\\nElectricidad \\nNº contrato de acceso \\n(INPECUARIAS VILLARALTO S.L): 407782674809 \\nFecha final de contrato:  11.06.2020 \\nDatos instalación electricidad \\nPotencia contratada: 4,524 kW \\nTarifa de acceso: 2.0A \\nCuantía Peaje:1 XX,XX € \\nCódigo CUPS: ES4198318172752485CLJB \\n\\nLos costes de energía que se le aplican se determinan en el BOE de \\nfecha 26.12.20XX. Servicio: 97,337%, Permanentes: 0,150%, \\nDiversificación y Seguridad de abastecimiento: 2,513%. \\nSe aplica el precio del alquiler según BOE N 185 de 03.08.20XX. \\nComposición del término de energía: precio fijo (0,0XXXXX euros/kWh y \\n0,0XXXXX euros/kWh), peaje acceso¹ (0,0XXXXX euros/kWh) y otros \\ncostes regulados¹ (0,0XXXX euros/kWh y 0,0XXXXX euros/kWh). \\n\\nElectricidad \\n\\nConsumo periodo 1 real \\n\\nConsumo periodo 2 real \\n\\nConsumo periodo 1 estimado \\n\\nConsumo periodo 2 estimado \\n\\n1800 \\n1600 \\n1400 \\n1200 \\n1000 \\n800 \\n600 \\n400 \\n200 \\n0 \\n\\nX\\n.\\ne\\nn\\nE\\n\\n.\\n\\nX\\nb\\ne\\nF\\n\\nX\\n\\n.\\nr\\na\\n\\nM\\n\\nX\\n\\n.\\nr\\nb\\nA\\n\\n.\\n\\nX\\ny\\na\\n\\nM\\n\\n.\\n\\nX\\nn\\nu\\nJ\\n\\nX\\n\\n.\\nl\\nu\\nJ\\n\\n.\\n\\nX\\no\\ng\\nA\\n\\n.\\n\\nX\\np\\ne\\nS\\n\\nX\\n\\n.\\nt\\nc\\nO\\n\\n.\\n\\nX\\nv\\no\\nN\\n\\nX\\n.\\nc\\ni\\nD\\n\\nX\\n.\\ne\\nn\\nE\\n\\n.\\n\\nX\\nb\\ne\\nF\\n\\nX\\n\\n.\\nr\\na\\n\\nM\\n\\nX\\n\\n.\\nr\\nb\\nA\\n\\n.\\n\\nX\\ny\\na\\n\\nM\\n\\n.\\n\\nX\\nn\\nu\\nJ\\n\\nX\\n\\n.\\nl\\nu\\nJ\\n\\n.\\n\\nX\\no\\ng\\nA\\n\\n.\\n\\nX\\np\\ne\\nS\\n\\nX\\n\\n.\\nt\\nc\\nO\\n\\n.\\n\\nX\\nv\\no\\nN\\n\\nX\\n.\\nc\\ni\\nD\\n\\n1 Importe que la compañía comercializadora debe pagar a la compañía distribuidora correspondiente a la facturación de acceso a su red, de acuerdo \\ncon el tipo de peaje aplicable de conformidad con el Real Decreto 1164/20XX de 26 de octubre para energía eléctrica y Real Decreto 949/2001 de 3 \\nde  agosto para gas natural. \\n\\nSi desea información detallada sobre  su/s contrato/s e histórico de consumo, entre en su  Área  Privada en http://enigma-technologies.com//areaprivada. \\n\\nInformación de interés............................................................................ \\n\\n \\n \\n \\n \\n \\n \\n \\n \\n \\n \\n \\n \\n \\n \\n \\n \\n \\n \\n \\n \\n \\n \\n \\n \\n \\n \\n \\n \\n \\n\\x0cDestino del importe de la factura ........................................................... \\n\\nEl destino del importe de su factura, 104,74 euros, es el siguiente: \\n\\nXX,XX € \\n\\nX,XX € \\n\\nCoste de producción de electricidad \\n\\nImpuestos aplicados \\n\\nCostes regulados \\n\\nXX,XX €  Incentivos a las energías renovables, cogeneración y residuos \\n\\nXX,XX € Coste de redes de distribución y transporte \\n\\nXX,XX €  Otros costes regulados (incluida \\n\\nla anualidad del déficit) \\n\\nXX,XX € \\n\\nA los importes indicados en el diagrama debe añadirse, en su caso, el alquiler de los equipos de medida y control u otros conceptos. \\n\\n \\n \\n \\n \\n\\x0c'"
      ]
     },
     "execution_count": 374,
     "metadata": {},
     "output_type": "execute_result"
    }
   ],
   "source": [
    "text"
   ]
  },
  {
   "cell_type": "code",
   "execution_count": 281,
   "id": "357754e0-730a-4934-b7dd-e2ece948446b",
   "metadata": {
    "tags": []
   },
   "outputs": [
    {
     "name": "stdout",
     "output_type": "stream",
     "text": [
      "Collecting pdfminer.six\n",
      "  Using cached pdfminer.six-20231228-py3-none-any.whl.metadata (4.2 kB)\n",
      "Requirement already satisfied: charset-normalizer>=2.0.0 in /home/esteban/anaconda3/lib/python3.11/site-packages (from pdfminer.six) (2.0.4)\n",
      "Requirement already satisfied: cryptography>=36.0.0 in /home/esteban/anaconda3/lib/python3.11/site-packages (from pdfminer.six) (42.0.2)\n",
      "Requirement already satisfied: cffi>=1.12 in /home/esteban/anaconda3/lib/python3.11/site-packages (from cryptography>=36.0.0->pdfminer.six) (1.16.0)\n",
      "Requirement already satisfied: pycparser in /home/esteban/anaconda3/lib/python3.11/site-packages (from cffi>=1.12->cryptography>=36.0.0->pdfminer.six) (2.21)\n",
      "Using cached pdfminer.six-20231228-py3-none-any.whl (5.6 MB)\n",
      "Installing collected packages: pdfminer.six\n",
      "Successfully installed pdfminer.six-20231228\n",
      "Note: you may need to restart the kernel to use updated packages.\n"
     ]
    }
   ],
   "source": [
    "pip install pdfminer.six"
   ]
  },
  {
   "cell_type": "code",
   "execution_count": null,
   "id": "666419a5-a531-4cde-9a30-c65fb3f1e8fe",
   "metadata": {},
   "outputs": [],
   "source": []
  },
  {
   "cell_type": "markdown",
   "id": "69b7a00c-b60c-4c49-a4dc-01a827635cb9",
   "metadata": {},
   "source": [
    "# cosas"
   ]
  },
  {
   "cell_type": "code",
   "execution_count": 42,
   "id": "809e0666-4dd8-4c51-a227-9c4f1c296133",
   "metadata": {
    "scrolled": true,
    "tags": []
   },
   "outputs": [
    {
     "name": "stdout",
     "output_type": "stream",
     "text": [
      "        L...u..n..e..s.. .a.. .s..á..b..a..d..o..,. .d..e.. .8.. .a.. .2..2.. .h..o..r.a..s.......................... \n",
      "Contratación Productos y Servicios  XXXXXXX  \n",
      "Reclamaciones  e incidencias    900 101 022   \n",
      " \n",
      "C/ LABASTIDA, 2, 28034 - MADRID  \n",
      "Si quiere  una atención  más personalizada  puede  acudir  a alguno  de los centros  que LYS ENERGIAS RENOVABLES, \n",
      "S.L tiene  a su  servicio. Encuentre el más cercano en http://enigma -technologies.com/ /centros o desde su móvil en  \n",
      "http://enigma -technologies.com/ /.mobi.  2..4.. .h..o...r.a..s.. ./. .3..6..5.. .d..í.a..s.. .d..e..l. .a..ñ..o................................... \n",
      "Web    http://enigma -technologies.com/  \n",
      "Reparación  urgente  de calderas  \n",
      "y electrodomésticos  XXX XXX XXX  \n",
      "Lectura  del contador  XXX  XXX XXX  \n",
      "http://enigma -technologies.com/ /lecturas  \n",
      "Averías  eléctricas  900 101 061    \n",
      " \n",
      " \n",
      "  LYS ENERGIAS RENOVABLES, S.L  \n",
      " Fecha  de emisión:  13.06.2020   \n",
      "Nº factura:  K9131055493  \n",
      "Nombre:  LEONARDA JARAMILLO BÁEZ  \n",
      "Dirección  suministro:  Camino de los Pelendengues  \n",
      "21830 Bonares  \n",
      "Nº Referencia:  673529209761/1194  \n",
      "Nº cliente:  XXXXXXX  \n",
      "NIF: 90237166R  \n",
      "Dirección:  Camino de los Pelendengues 21830 Bonares  \n",
      "Entidad:  Banco de Albacete, S.A.  \n",
      "Datos bancarios:  IBAN ES00914408492265477*****  \n",
      " Fecha  de cargo:  16.06.2020  LEONARDA JARAMILLO BÁEZ  \n",
      "Camino de los Pelendengues  \n",
      "21830  - Bonares  -  \n",
      "Huelva  \n",
      "Esta factura  será cargada  en cuenta  siguiendo  el mandato  E95833021887783480064624068  \n",
      "¿Son  correctos  sus datos  personales?  \n",
      "Puede  actualizarlos  online  en su Área  Privada  de la web entrando  en http://enigma -technologies.com/ /misdatos  \n",
      "104,74  € Total  a pagar  \n",
      "electricidad  PVPC sin discriminación horaria   Contrato: 4077 82674809 ....... ............ ............ ............ ..........  \n",
      "Del 12.05.2020  al 11.06.2020  (30 días = 1,000000  meses)  \n",
      "Consumo  electricidad  \n",
      "    Período  de 12.05.2020  a 11.06.2020  \n",
      " \n",
      "Término  de potencia  (4,524  kW) \n",
      "    Período  de 12.05.2020  a 11.06.2020  302 kWh  \n",
      " \n",
      " \n",
      "30 días 0,266211  €/kWh  \n",
      " \n",
      "0,114399  €/kW día  80,40  € \n",
      " \n",
      "15,51  € \n",
      "Subtotal  \n",
      "Impuesto  electricidad  \n",
      "Otros conceptos electricidad  \n",
      "        Alquiler  de contador  \n",
      "Total  electricidad  \n",
      " Base  imponible  \n",
      "IGIC  1% \n",
      "Base imponible   \n",
      "IGIC  6,5% \n",
      "Total  factura  95,91  € 5,1127 %  4,90 € \n",
      "30 días 0,091475  €/día  2,74 € \n",
      "                                                                          103,55  € \n",
      "100,81  € \n",
      "1,01 € \n",
      "2,74 € \n",
      "0,18 € \n",
      "104,74  € \n",
      "Ideas que facilitan su día a día ......... ............ ............ ............ ............ ......  \n",
      "¿Conoce  ya nuestro  servicio  de reparación  y mantenimiento  de calderas?  Con Servigas  contará  con asistencia  ante cualquier  avería  en \n",
      "menos  de 3 horas, las  24 horas del  día, los  365 días del  año y  tendrá garantizada  la revisión  anual de su  caldera o  calentador.  \n",
      "Consulte  las condiciones  de este servicio  y contrate  Servigas  entrando  en http://enigma -technologies.com/  y obtendrá   un 50% de \n",
      "descuento  durante  el primer  año. \n",
      "Canales para contactar con LYS ENERGIAS RENOVABLES, S.L  \n",
      "Dese  de alta gratis  en http://enigma -technologies.com/ /mifactura  LYS ENERGIAS RENOVABLES, S.L. Dom. Social: C/ LABASTIDA, 2, 28034 - MADRID. MADRID, tomo 38998, folio 32, sección 7, hoja número M -65333, inscripción 130. CIF \n",
      "B88446406 .   \n",
      "  \n",
      "                                                                                        95,91  €   Las cuentas claras ......... ............ ............ ............ ............ ............ .............  \n",
      "A continuación  le presentamos  información  detallada  sobre  su/s contrato/s  y factura.  \n",
      "Electricidad  \n",
      "Nº contrato de acceso  \n",
      "(INPECUARIAS VILLARALTO S.L ): 407782674809  \n",
      "Fecha  final de contrato:  11.06.2020  \n",
      "Datos  instalación  electricidad  \n",
      "Potencia  contratada:  4,524  kW \n",
      "Tarifa de acceso:  2.0A  \n",
      "Cuantía Peaje:1 XX,XX € \n",
      "Código  CUPS:  ES4198318172752485CLJB  \n",
      " Información  lecturas  / consumos  \n",
      "Lectura  actual:  \n",
      "Lectura anterior:  \n",
      "Consumo:  Llano real  \n",
      "Llano real  \n",
      "Llano  11.06.2020  \n",
      "12.05.2020  9260  kWh \n",
      "8958  kWh \n",
      "302 kWh \n",
      "Los costes  de energía  que se le aplican  se determinan  en el BOE  de \n",
      "fecha 26.12.20 XX. Servicio: 97,337%, Permanentes: 0,150%,  \n",
      "Diversificación  y Seguridad  de abastecimiento:  2,513%.  \n",
      "Se aplica el precio del alquil er según BOE N 185 de 03.08.20XX . \n",
      "Composición del término de energía: precio fijo (0,0 XXXXX  euros/kWh y  \n",
      "0,0XXXXX  euros/kWh),  peaje  acceso¹  (0,0XXXXX  euros/kWh)  y otros  \n",
      "costes  regulados¹  (0,0XXXX  euros/kWh  y 0,0XXXXX  euros/kWh).  \n",
      "Electricidad  \n",
      "Consumo periodo 1 real  \n",
      "Consumo  periodo  2 real Consumo  periodo  1 estimado  \n",
      "Consumo  periodo  2 estimado  \n",
      "1800  \n",
      "1600  \n",
      "1400  \n",
      "1200  \n",
      "1000  \n",
      "800 \n",
      "600 \n",
      "400 \n",
      "200 \n",
      "0 \n",
      "1 Importe que la compañía comercializadora debe pagar a la compañía distribuidora correspondiente a la facturación de acceso a su red, de acuerdo  \n",
      "con el tipo de peaje  aplicable  de conformidad  con el Real Decreto  1164/20 XX de 26 de octubre  para energía  eléctrica  y Real Decreto  949/2 001 de 3 \n",
      "de  agosto  para gas natural.  \n",
      "Si desea  información  detallada  sobre  su/s contrato/s  e histórico  de consumo,  entre  en su Área  Privada  en http://enigma -technologies.com/ /areaprivada.  \n",
      "Información de interés ........ ............ ............ ............ ............ ............ ........  Ene. X \n",
      "Feb. X\n",
      "Mar.X  \n",
      "Abr.X\n",
      "May.X  \n",
      "Jun.X  \n",
      "Jul.X  \n",
      "Ago.X\n",
      "Sep.X  \n",
      "Oct.X  \n",
      "Nov.X\n",
      "Dic.X  \n",
      "Ene.X\n",
      "Feb.X  \n",
      "Mar.X\n",
      "Abr.X  \n",
      "May.X\n",
      "Jun.X  \n",
      "Jul.X  \n",
      "Ago.X\n",
      "Sep.X  \n",
      "Oct.X  \n",
      "Nov.X\n",
      "Dic.X    \n",
      "  \n",
      "         Destino del importe de la factura ......... ............ ............ ............ ............ .. \n",
      "El destino  del importe  de su  factura,  104,74  euros,  es el siguiente:  \n",
      "Coste  de producción  de electricidad  \n",
      "XX,XX € Impuestos  aplicados  \n",
      "Costes  regulados  \n",
      "XX,XX € Incentivos  a las energías  renovables,  cogeneración  y residuos  \n",
      "XX,XX € Coste  de redes  de distribución  y transporte  \n",
      "XX,XX € Otros costes regulados  (incluida  \n",
      "la anualidad  del déficit)  \n",
      "XX,XX € \n",
      "X,XX € \n",
      "A los  importes  indicados en  el diagrama debe  añadirse,  en su  caso,  el alquiler  de los equipos  de medida y  control  u otros  conceptos.   \n",
      " \n",
      "  \n"
     ]
    }
   ],
   "source": [
    "reader = PyPDF2.PdfReader(\"training/factura_1.pdf\")\n",
    "    \n",
    "# Obtener el número de páginas\n",
    "num_pages = len(reader.pages)\n",
    "\n",
    "# Extraer texto de todas las páginas\n",
    "all_text = \"\"\n",
    "for page_num in range(num_pages):\n",
    "    page = reader.pages[page_num]\n",
    "    all_text += page.extract_text()\n",
    "print(all_text)"
   ]
  },
  {
   "cell_type": "code",
   "execution_count": 36,
   "id": "726f9c5c-c483-4ce3-8ac2-1613359a6893",
   "metadata": {
    "tags": []
   },
   "outputs": [
    {
     "data": {
      "text/plain": [
       "'DATOS  DE LA FACTURA  Nº factura:  J8985000598  Referencia:  956772786605/7586  Fecha  emisión  factura:  21/10/2009  Periodo  de Facturación:  del 20/08/2009  a 19/10/2009  (60 días)  Fecha  de cargo:  24 de octubre de 2009  ............................................................................................................................. .......................................  CAPITAL ENERGY COMERCIALIZADORA, S.L.U . CIF B88575063 . CALLE MARQUÉS DE VILLAMAGNA Nº 3 - 5ª PLANTA (TORRE SERRANO)  28001  - MADRID  GERALDINE FRÍAS UREÑA   Finca Javega  01015  Vitoria -Gasteiz  Araba/Álava  Forma  de pago:  Domiciliada  Potencia  Energía  Descuentos  Otros  Impuestos  IGIC  reducido  20,42  € 79,90  € -X,XX € 0,93 € 5,13 € 15,82  € Fecha  de cargo:  24 de octubre de 2009  IBAN:  ES01457803845316340*****  Cod.Mandato:  E90255220703511896184926562  ( 15%) Versión:  3695  IGIC  normal  ( 21%) 0,20 € ............................................................................................................................. ..............  Su pago  se justifica  con el correspondiente  apunte  bancario  (Detalle de  la factura en  el reverso)  Consumo  en el periodo  punta  Consumo  en el periodo  valle  kWh  Evolución  del consumo  770 De 12h a 22h De 22h a 12h ............................................................................................................................. ...........................  Lectura  anterior  660 550 (real)  67601  kWh  XXX kWh  (20-agosto -2009 ) ............................................................................................................................. ...........................  Lectura actual  440 330 (real)  67881  kWh  XXX kWh  220 (19-octubre -2009 ) ............................................................................................................................. ...........................  Consumo  110 0 en el periodo  280 kWh  XXX kWh  ENE FEB  XX     XX Cons.Valle  Real Media  Cons.Punta  Real XX% X,XX €/día  en esta factura.  X,XX €/día durante los últimos 14 meses.  Consumo  acumulado  (último  año):  X.XXX kWh Valle  XX% REPARTO  CONSUMO  .......................................................................  ....................................................................................................  CAPITAL ENERGY COMERCIALIZADORA, S.L.U. Inscrita en el Registro Mercantil de MADRID, tomo 28106, folio 34, sección 9, hoja número M -288772, inscripción 199, CIF B88575063. Domicilio Social: CALLE MARQUÉS DE VILLAMAGNA Nº 3 - 5ª PLANTA (TORRE SERRANO), 28001  - MADRID   XXXXX -X-XX/XX/XX NXXXXXXNNNN   280   XXX                                      INFORMACIÓN  DEL CONSUMO  ELÉCTRICO  122,40  € TOTAL  IMPORTE  FACTURA  RESUMEN  DE LA FACTURA  Y DATOS  DE PAGO    79,90  € Importe  por energía consumida:  280 kWh x 0,285363  Eur/kWh       DATOS  DEL CONTRATO  Titular  del contrato:  GERALDINE FRÍAS UREÑA  NIF: 19863450Y  Dirección  de suministro:  Finca Javega, Vitoria -Gasteiz, Araba/Álava  Número  de contador:  583880785  Su comercializadora:  CAPITAL ENERGY COMERCIALIZADORA, S.L.U  Su distribuidora:  SERVICIOS Y SUMINISTROS MUNICIPALES ARAS SL  Referencia del contrato de acceso: 508864484183  Peaje  de acceso:  2.0A Fin de contrato  de suministro:  19/10/2009   (renovación  anual  automática)  CUPS:  ES5270720224730765OBLV  El destino del importe de su  factura,  122,40  euros,  es el siguiente:  LUZ Importe  por potencia  contratada:  3,01  kW x 0,113031  Eur/kW  x 60 días 20,42  € X,XX € En dicho  importe,  facturación  por peaje  de acceso:  3,01 kW x 37,587816  Eur/kW  y año x (60/365) días         18,60  € XX,XX € 20,42  € XX,XX € En dicho  importe,  su facturación  por peaje  de acceso  ha sido:  Consumo  P1 280 kWh x 0,149088  Eur/kWh   41,74  € Incentivos  a las energías  renovables,  cogeneración  y residuos  Coste  de redes  de transporte  y distribución  Otros  costes  regulados  (incluida  la anualidad  del déficit)  XX,XX € XX,XX  € X,XX  € 79,90  € SUBTOTAL  100,32  € A los importes  indicados  en el diagrama  debe  añadirse,  en su caso,  el importe  del alquiler  de los equipos  de medida  y control  así como  los conceptos  no energéticos.  OTROS  CONCEPTOS  Descuento  por e-factura  79,90  Eur x -X % DTO  -X,XX €  Descuento  -X % x 100,32  Eur -X,XX €   Impuesto  electricidad  ( 100,32  X 5,1127  % )  5,13 €  Alquiler  equipos  de medida  y control  (60 días x  0,015452  Eur/día)   0,93 € SUBTOTAL  Importe  total  IGIC reducido  ( 15%) 15% s/ 105,45  6,06 € 106,38  € 15,82  € 0,20 € IGIC normal  ( 21%) 21% s/ 0,93 TOTAL  IMPORTE  FACTURA  122,40  € Precios  de los términos  del peaje  de acceso  publicados  en Orden  TEC/1366/2018.  Precio  del alquiler  de los equipos  de medida  y control  en Orden  IET 1491/2013  de 3 de agosto.  Los precios  de la energía  de esta tarifa  se han actualizado  el 01/01/20XX  trasladando  las variaciones  reguladas  en la Orden  TEC/1366/2018  de 20 de diciembre,  en la Orden  IET/2013/2013  de 31 de octubre  y en la Resolución  de 6 de noviembre  de 2018  de la Secretaría  de Estado  de Energía.  Con esta tarifa  se beneficia  de un descuento  permanente  y le recordamos  que, si más de un 50% del consumo  lo realiza  en horas  valle  (22-12h en invierno  y 23-13h en verano),  tendrá  un descuento  adicional,  además  de ayudar  a proteger  el medio  ambiente.  Para  más información  puede  llamar  al servicio  de atención  al cliente  o consultar  nuestra  web.  900 525 182  (tlf. gratuito)   www.luce.es   atencionalcliente@luce.es  Reclamaciones  CALLE MARQUÉS DE VILLAMAGNA Nº 3 - 5ª PLANTA (TORRE SERRANO), 28001 - MADRID  Urgencias   900 373 970  (tlf. gratuito)  Para  reclamaciones  sobre  el contrato  de suministro  o facturaciones  podrá  dirigirse  a: Consejería  de Empleo,  Industria  y Comercio  de la Comunidad  Autónoma  de Canarias en el  teléfono: 928  XXX XXX  o a través de  su página  web. http://www.gobcan.es/ceic/energia  .....................................................  ............................................  ATENCIÓN  AL CLIENTE:  CONSULTAS,  GESTIONES  Y RECLAMACIONES  24 HORAS  INFORMACIÓN  DE SU PRODUCTO  Costes  Regulados  Coste  de producción  de electricidad  Impuestos  aplicados  DESTINO  DEL IMPORTE  DE LA FACTURA  DETALLE  DE LA FACTURA  Producto  contratado: PVPC sin discriminación horaria  Potencia  contratada:  3,012  kW  Referencia  del contrato:  6877419205534        INFORMACIÓN  SOBRE  SU ELECTRICIDAD  Fuente: CNMC  (Comisión  Nacional  de los  Mercados  y Competencia), http://gdo.cnmc.es/CNE/resumenGdo.do?  XXXXX -X-XX/XX/XX NXXXXXXNNNN  El impacto  ambiental  de su electricidad  depende  de las fuentes  energéticas  utilizadas  para su generación.  En una escala  de A a G donde  A indica  el mínimo  impacto  ambiental  y G el máximo,  y que el valor  medio  nacional  corresponde  al nivel D, la energía  comercializada por CAPITAL ENERGY COMERCIALIZADORA, S.L.U . tiene los siguientes valores:   IMPACTO  MEDIOAMBIENTAL   ORIGEN  DE LA ELECTRICIDAD  Si bien la energía  eléctrica  que llega  a nuestros  hogares  es indistinguible  de la que consumen  nuestros  vecinos  u otros  consumidores  conectados  al mismo  sistema  eléctrico,  ahora  sí es posible  garantizar  el origen  de la producción  de energía  eléctrica  que usted  consume.  A estos  efectos  se proporciona  el desglose  de la mezcla  de tecnologías  de producción  nacional  para así comparar  los porcentajes  del promedio  nacional  con los correspondientes  a la energía  vendida  por su Compañía  Comercializadora.    '"
      ]
     },
     "execution_count": 36,
     "metadata": {},
     "output_type": "execute_result"
    }
   ],
   "source": [
    "pdf_files['65']"
   ]
  },
  {
   "cell_type": "code",
   "execution_count": 303,
   "id": "e9b09ac7-e0cb-49c1-b44a-10625d28441a",
   "metadata": {
    "tags": []
   },
   "outputs": [],
   "source": [
    "re_dni = r\"\\b\\d{8}[A-Z]\\b\"\n",
    "re_cif_national = r\"\\b[A-Z]\\d{8}\\b\"\n",
    "re_cif_foreign = r\"\\b[A-Z]{2}\\d{6,8}\\b\""
   ]
  },
  {
   "cell_type": "code",
   "execution_count": 305,
   "id": "2fd5339e-3f40-4127-b35b-c863de1e2918",
   "metadata": {
    "tags": []
   },
   "outputs": [],
   "source": [
    "bill_dni_cif = {}\n",
    "for bill_id, text in pdf_files.items():\n",
    "    dni = set(re.findall(re_dni, text))\n",
    "    dni = list(dni)[0] if len(dni) == 1 else None\n",
    "    \n",
    "    cif = set(re.findall(re_cif_national, text))\n",
    "    \n",
    "    if len(cif) == 1:\n",
    "        cif = list(cif)[0]\n",
    "    else:\n",
    "        cif = set(re.findall(re_cif_foreign, text))\n",
    "        cif = list(cif)[0] if len(cif) == 1 else None\n",
    "    \n",
    "    bill_dni_cif[bill_id] = [dni, cif]"
   ]
  },
  {
   "cell_type": "code",
   "execution_count": 306,
   "id": "7012160f-2501-448f-be19-7c82348b9a94",
   "metadata": {
    "tags": []
   },
   "outputs": [],
   "source": [
    "preds_dic = {}\n",
    "for i in range(1000):\n",
    "    pred_dni, pred_cif = bill_dni_cif[i]\n",
    "    \n",
    "    dni = json_files[i]['dni_cliente']\n",
    "    cif = json_files[i]['cif_comercializadora']\n",
    "    \n",
    "    preds_dic[i] = [bool(pred_dni == dni), bool(pred_cif == cif)]"
   ]
  },
  {
   "cell_type": "code",
   "execution_count": 308,
   "id": "f0aeaaa6-60d9-4de4-9c41-a269e2584226",
   "metadata": {
    "tags": []
   },
   "outputs": [],
   "source": [
    "df = pd.DataFrame(preds_dic.values(), columns = ['dni', 'cif'])"
   ]
  },
  {
   "cell_type": "code",
   "execution_count": 311,
   "id": "34f82441-89ce-40f4-a573-28b43a247bce",
   "metadata": {
    "tags": []
   },
   "outputs": [
    {
     "data": {
      "text/plain": [
       "65"
      ]
     },
     "execution_count": 311,
     "metadata": {},
     "output_type": "execute_result"
    }
   ],
   "source": [
    "len([data[1] for data in bill_dni_cif.values() if data[1] == None])"
   ]
  },
  {
   "cell_type": "code",
   "execution_count": 313,
   "id": "3cfa381d-d519-403a-99ec-a9f8c9314fd0",
   "metadata": {
    "tags": []
   },
   "outputs": [
    {
     "data": {
      "text/plain": [
       "65"
      ]
     },
     "execution_count": 313,
     "metadata": {},
     "output_type": "execute_result"
    }
   ],
   "source": [
    "sum(df['cif'] == False)"
   ]
  },
  {
   "cell_type": "code",
   "execution_count": 315,
   "id": "7fc97f13-ccce-428d-85e8-b74604011e26",
   "metadata": {
    "tags": []
   },
   "outputs": [
    {
     "data": {
      "text/plain": [
       "Index([ 46,  90,  99, 109, 124, 139, 142, 148, 164, 201, 240, 283, 296, 367,\n",
       "       377, 386, 405, 413, 417, 426, 433, 436, 454, 458, 477, 507, 518, 521,\n",
       "       527, 555, 561, 571, 589, 594, 595, 596, 605, 631, 661, 673, 692, 702,\n",
       "       713, 724, 728, 742, 765, 774, 780, 789, 796, 855, 861, 874, 884, 900,\n",
       "       903, 908, 917, 937, 962, 964, 969, 970, 987],\n",
       "      dtype='int64')"
      ]
     },
     "execution_count": 315,
     "metadata": {},
     "output_type": "execute_result"
    }
   ],
   "source": [
    "df[df['cif'] == False].index"
   ]
  },
  {
   "cell_type": "markdown",
   "id": "5a2b6ab2-a8b2-4116-b1f3-0ba14f9965a3",
   "metadata": {},
   "source": [
    "## Dataframe"
   ]
  },
  {
   "cell_type": "code",
   "execution_count": 230,
   "id": "56cdb3c6-1a39-4404-bebe-6b100142b0a9",
   "metadata": {
    "tags": []
   },
   "outputs": [],
   "source": [
    "rows = []\n",
    "for bill_id, data in json_files.items():\n",
    "    row = [bill_id] + list(data.values())\n",
    "    rows.append(row)\n",
    "\n",
    "columns = [\"archivo\"] + list(data.keys())\n",
    "df = pd.DataFrame(data = rows, columns = columns)"
   ]
  },
  {
   "cell_type": "code",
   "execution_count": 296,
   "id": "c5c7c218-b48f-42f9-b607-4bb9d620410d",
   "metadata": {
    "tags": []
   },
   "outputs": [
    {
     "data": {
      "text/plain": [
       "provincia_comercializadora\n",
       "Extranjero           64\n",
       "BERLIN (Alemania)     3\n",
       "Olten (Suiza)         2\n",
       "Name: count, dtype: int64"
      ]
     },
     "execution_count": 296,
     "metadata": {},
     "output_type": "execute_result"
    }
   ],
   "source": [
    "df[df['cif_comercializadora'].str.len() != 9][\"provincia_comercializadora\"].value_counts()"
   ]
  },
  {
   "cell_type": "code",
   "execution_count": 348,
   "id": "c8f78456-2f73-4c75-8795-5aed69a0ad55",
   "metadata": {
    "tags": []
   },
   "outputs": [
    {
     "data": {
      "text/html": [
       "<div>\n",
       "<style scoped>\n",
       "    .dataframe tbody tr th:only-of-type {\n",
       "        vertical-align: middle;\n",
       "    }\n",
       "\n",
       "    .dataframe tbody tr th {\n",
       "        vertical-align: top;\n",
       "    }\n",
       "\n",
       "    .dataframe thead th {\n",
       "        text-align: right;\n",
       "    }\n",
       "</style>\n",
       "<table border=\"1\" class=\"dataframe\">\n",
       "  <thead>\n",
       "    <tr style=\"text-align: right;\">\n",
       "      <th></th>\n",
       "      <th>archivo</th>\n",
       "      <th>nombre_cliente</th>\n",
       "      <th>dni_cliente</th>\n",
       "      <th>calle_cliente</th>\n",
       "      <th>cp_cliente</th>\n",
       "      <th>población_cliente</th>\n",
       "      <th>provincia_cliente</th>\n",
       "      <th>nombre_comercializadora</th>\n",
       "      <th>cif_comercializadora</th>\n",
       "      <th>dirección_comercializadora</th>\n",
       "      <th>cp_comercializadora</th>\n",
       "      <th>población_comercializadora</th>\n",
       "      <th>provincia_comercializadora</th>\n",
       "      <th>número_factura</th>\n",
       "      <th>inicio_periodo</th>\n",
       "      <th>fin_periodo</th>\n",
       "      <th>importe_factura</th>\n",
       "      <th>fecha_cargo</th>\n",
       "      <th>consumo_periodo</th>\n",
       "      <th>potencia_contratada</th>\n",
       "    </tr>\n",
       "  </thead>\n",
       "  <tbody>\n",
       "    <tr>\n",
       "      <th>0</th>\n",
       "      <td>684</td>\n",
       "      <td>KENDRA RAMÍREZ RAMÓN</td>\n",
       "      <td>16260925V</td>\n",
       "      <td>Avenida de la Paloma</td>\n",
       "      <td>34259</td>\n",
       "      <td>Cordovilla la Real</td>\n",
       "      <td>Palencia</td>\n",
       "      <td>REPSOL COMERCIALIZADORA DE ELECTRICIDAD Y GAS,...</td>\n",
       "      <td>B39540760</td>\n",
       "      <td>C/ ISABEL TORRES, Nº 19</td>\n",
       "      <td>39011</td>\n",
       "      <td>SANTANDER</td>\n",
       "      <td>Cantabria</td>\n",
       "      <td>Z5231002650</td>\n",
       "      <td>09.05.2016</td>\n",
       "      <td>08.07.2016</td>\n",
       "      <td>144,31</td>\n",
       "      <td>13.07.2016</td>\n",
       "      <td>426</td>\n",
       "      <td>5,558</td>\n",
       "    </tr>\n",
       "    <tr>\n",
       "      <th>1</th>\n",
       "      <td>350</td>\n",
       "      <td>FRIDA OLMEDO ESTRELLA</td>\n",
       "      <td>56374095Z</td>\n",
       "      <td>Calle Joaquín Blanco Torrent</td>\n",
       "      <td>46814</td>\n",
       "      <td>la Granja de la Costera</td>\n",
       "      <td>Valencia/Valñncia</td>\n",
       "      <td>CIMA ENERGIA COMERCIALIZADORA SL</td>\n",
       "      <td>B26558056</td>\n",
       "      <td>AVENIDA DE PORTUGAL, 27 PLANTA 4, PUERTA 8</td>\n",
       "      <td>26001</td>\n",
       "      <td>LOGROÑO</td>\n",
       "      <td>LA RIOJA</td>\n",
       "      <td>QS7674816555</td>\n",
       "      <td>29.12.2011</td>\n",
       "      <td>28.01.2012</td>\n",
       "      <td>90,57</td>\n",
       "      <td>02.02.2012</td>\n",
       "      <td>313</td>\n",
       "      <td>2,697</td>\n",
       "    </tr>\n",
       "    <tr>\n",
       "      <th>2</th>\n",
       "      <td>673</td>\n",
       "      <td>Estíbaliz Parra Galván</td>\n",
       "      <td>72326445R</td>\n",
       "      <td>Calle Alejandro Sureda</td>\n",
       "      <td>27520</td>\n",
       "      <td>Carballedo</td>\n",
       "      <td>Lugo</td>\n",
       "      <td>EXEN, S.R.O.</td>\n",
       "      <td>C227767191</td>\n",
       "      <td>DR. SMERALA 1710/1</td>\n",
       "      <td>70200</td>\n",
       "      <td>OSTRAVA (República Checa)</td>\n",
       "      <td>Extranjero</td>\n",
       "      <td>HZ2504915940</td>\n",
       "      <td>07.10.2019</td>\n",
       "      <td>06.11.2019</td>\n",
       "      <td>11,89</td>\n",
       "      <td>11.11.2019</td>\n",
       "      <td>0</td>\n",
       "      <td>2,551</td>\n",
       "    </tr>\n",
       "  </tbody>\n",
       "</table>\n",
       "</div>"
      ],
      "text/plain": [
       "   archivo          nombre_cliente dni_cliente                 calle_cliente  \\\n",
       "0      684    KENDRA RAMÍREZ RAMÓN   16260925V          Avenida de la Paloma   \n",
       "1      350   FRIDA OLMEDO ESTRELLA   56374095Z  Calle Joaquín Blanco Torrent   \n",
       "2      673  Estíbaliz Parra Galván   72326445R        Calle Alejandro Sureda   \n",
       "\n",
       "  cp_cliente        población_cliente  provincia_cliente  \\\n",
       "0      34259       Cordovilla la Real           Palencia   \n",
       "1      46814  la Granja de la Costera  Valencia/Valñncia   \n",
       "2      27520               Carballedo               Lugo   \n",
       "\n",
       "                             nombre_comercializadora cif_comercializadora  \\\n",
       "0  REPSOL COMERCIALIZADORA DE ELECTRICIDAD Y GAS,...            B39540760   \n",
       "1                   CIMA ENERGIA COMERCIALIZADORA SL            B26558056   \n",
       "2                                       EXEN, S.R.O.           C227767191   \n",
       "\n",
       "                   dirección_comercializadora cp_comercializadora  \\\n",
       "0                     C/ ISABEL TORRES, Nº 19               39011   \n",
       "1  AVENIDA DE PORTUGAL, 27 PLANTA 4, PUERTA 8               26001   \n",
       "2                          DR. SMERALA 1710/1               70200   \n",
       "\n",
       "  población_comercializadora provincia_comercializadora número_factura  \\\n",
       "0                  SANTANDER                  Cantabria    Z5231002650   \n",
       "1                    LOGROÑO                   LA RIOJA   QS7674816555   \n",
       "2  OSTRAVA (República Checa)                 Extranjero   HZ2504915940   \n",
       "\n",
       "  inicio_periodo fin_periodo importe_factura fecha_cargo  consumo_periodo  \\\n",
       "0     09.05.2016  08.07.2016          144,31  13.07.2016              426   \n",
       "1     29.12.2011  28.01.2012           90,57  02.02.2012              313   \n",
       "2     07.10.2019  06.11.2019           11,89  11.11.2019                0   \n",
       "\n",
       "  potencia_contratada  \n",
       "0               5,558  \n",
       "1               2,697  \n",
       "2               2,551  "
      ]
     },
     "execution_count": 348,
     "metadata": {},
     "output_type": "execute_result"
    }
   ],
   "source": [
    "df.head(3)"
   ]
  },
  {
   "cell_type": "code",
   "execution_count": 358,
   "id": "428155c2-f4a8-4167-a788-80b82f3cec50",
   "metadata": {
    "tags": []
   },
   "outputs": [
    {
     "data": {
      "text/plain": [
       "nombre_cliente\n",
       "3    952\n",
       "4     25\n",
       "5     17\n",
       "2      6\n",
       "Name: count, dtype: int64"
      ]
     },
     "execution_count": 358,
     "metadata": {},
     "output_type": "execute_result"
    }
   ],
   "source": [
    "df[\"nombre_cliente\"].str.split().apply(lambda x : len(x)).value_counts()"
   ]
  },
  {
   "cell_type": "code",
   "execution_count": 586,
   "id": "b4e8939e-b615-4461-a3d7-6bf7c94c18bd",
   "metadata": {
    "tags": []
   },
   "outputs": [
    {
     "data": {
      "text/plain": [
       "697    0,721\n",
       "545    0,756\n",
       "377    1,167\n",
       "283    1,203\n",
       "923    1,312\n",
       "       ...  \n",
       "523    6,531\n",
       "485    6,563\n",
       "581    6,874\n",
       "176    6,953\n",
       "360    7,095\n",
       "Name: potencia_contratada, Length: 1000, dtype: object"
      ]
     },
     "execution_count": 586,
     "metadata": {},
     "output_type": "execute_result"
    }
   ],
   "source": [
    "df[\"potencia_contratada\"].sort_values()"
   ]
  },
  {
   "cell_type": "code",
   "execution_count": null,
   "id": "3fcddf36-2de5-4bd4-a036-9c7dd898c54f",
   "metadata": {},
   "outputs": [],
   "source": []
  }
 ],
 "metadata": {
  "kernelspec": {
   "display_name": "Python 3 (ipykernel)",
   "language": "python",
   "name": "python3"
  },
  "language_info": {
   "codemirror_mode": {
    "name": "ipython",
    "version": 3
   },
   "file_extension": ".py",
   "mimetype": "text/x-python",
   "name": "python",
   "nbconvert_exporter": "python",
   "pygments_lexer": "ipython3",
   "version": "3.11.7"
  }
 },
 "nbformat": 4,
 "nbformat_minor": 5
}
