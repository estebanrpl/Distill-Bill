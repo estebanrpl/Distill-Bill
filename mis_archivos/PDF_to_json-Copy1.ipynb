{
 "cells": [
  {
   "cell_type": "markdown",
   "id": "2c223458-b1cc-45da-868c-e1da2b794e09",
   "metadata": {
    "tags": []
   },
   "source": [
    "## Cosas interesantes\n",
    "- Los cif de las empresas españolas siempre tienen 9 caracteres (letra mas 8 numeros)\n",
    "- Los dni siempre tienen 8 letras mas un numero\n",
    "- Los codigos postales españoles siempre son de 5 digitos\n",
    "\n",
    "## Datos que puedo parsear con re\n",
    "- cif espanholes\n",
    "- dni\n",
    "- codigos postales espanholes\n",
    "- numero factura\n",
    "- importe factura\n",
    "- potencia contratada"
   ]
  },
  {
   "cell_type": "markdown",
   "id": "d5a7c803-9792-43a7-b942-6fc82b2c10d1",
   "metadata": {},
   "source": [
    "# Codigo"
   ]
  },
  {
   "cell_type": "code",
   "execution_count": 2,
   "id": "3c2aab01-c988-427f-b207-4783547af41f",
   "metadata": {
    "tags": []
   },
   "outputs": [],
   "source": [
    "import numpy as np\n",
    "import pandas as pd\n",
    "import matplotlib.pyplot as plt\n",
    "import seaborn\n",
    "import PyPDF2\n",
    "import re\n",
    "import json\n",
    "import os\n",
    "from datetime import datetime\n",
    "from pdfminer.high_level import extract_text\n",
    "from collections import Counter"
   ]
  },
  {
   "cell_type": "code",
   "execution_count": 3,
   "id": "cdefa320-c3fb-4bb9-97bb-86dc7849624c",
   "metadata": {
    "tags": []
   },
   "outputs": [],
   "source": [
    "#Separar las palabras que solo pueden contener letras (nombres, localidades...)\n",
    "#Separar las palabras que solo pueden contener numeros (cp, importes...)\n",
    "#Separar las palabras que terminan o empiezan por una letra o numero (dni, cif)"
   ]
  },
  {
   "cell_type": "code",
   "execution_count": 157,
   "id": "b36a2778-b8f4-4873-b296-cd25c214c9fd",
   "metadata": {
    "tags": []
   },
   "outputs": [],
   "source": [
    "files_path = 'training/'"
   ]
  },
  {
   "cell_type": "code",
   "execution_count": 159,
   "id": "811fd0b3-294f-473b-a316-a4cdd4c7a700",
   "metadata": {
    "tags": []
   },
   "outputs": [],
   "source": [
    "json_paths = [files_path + file for file in os.listdir(files_path) if file.endswith('.json')]\n",
    "pdf_paths = [files_path + file for file in os.listdir(files_path) if file.endswith('.pdf')]"
   ]
  },
  {
   "cell_type": "code",
   "execution_count": 161,
   "id": "5a4221d6-9ed7-4f8e-9054-8369e11a9f94",
   "metadata": {
    "tags": []
   },
   "outputs": [],
   "source": [
    "json_files = {}\n",
    "for json_path in json_paths:\n",
    "    bill_id = json_path.removeprefix(files_path + 'factura_').removesuffix('.json')\n",
    "    bill_id = int(bill_id)\n",
    "    with open(json_path, 'r') as file:\n",
    "        data = json.load(file)\n",
    "    \n",
    "    json_files[bill_id] = data"
   ]
  },
  {
   "cell_type": "code",
   "execution_count": 12,
   "id": "d8246eff-4bdc-4e6c-84b2-b642b3d2319d",
   "metadata": {
    "tags": []
   },
   "outputs": [],
   "source": [
    "with open(\"pdfminer_files.json\", \"r\") as file:\n",
    "    pdfminer_text = json.load(file) "
   ]
  },
  {
   "cell_type": "code",
   "execution_count": 14,
   "id": "e86f2cfa-f0fc-4b10-9c9c-ec6777e63150",
   "metadata": {
    "tags": []
   },
   "outputs": [],
   "source": [
    "with open(\"pypdf2_files.json\", \"r\") as file:\n",
    "    pypdf2_text = json.load(file)"
   ]
  },
  {
   "cell_type": "code",
   "execution_count": 15,
   "id": "00d4232c-8805-4136-952c-c01228169799",
   "metadata": {
    "tags": []
   },
   "outputs": [
    {
     "data": {
      "text/plain": [
       "'json_files = {}\\npdf_files = {}\\nfor json_path, pdf_path in zip(json_paths, pdf_paths):\\n    json_bill_id = json_path.removeprefix(train_path + \\'factura_\\').removesuffix(\\'.json\\')\\n    json_bill_id = int(json_bill_id)\\n    \\n    pdf_bill_id = pdf_path.removeprefix(train_path + \\'factura_\\').removesuffix(\\'.pdf\\')\\n    pdf_bill_id = int(pdf_bill_id)\\n    \\n    with open(json_path, \\'r\\') as file:\\n        data = json.load(file)\\n    \\n    json_files[json_bill_id] = data\\n    \\n    with open(pdf_path, \\'rb\\') as file:\\n        reader = PyPDF2.PdfReader(file)\\n    \\n        # Obtener el número de páginas\\n        num_pages = len(reader.pages)\\n\\n        # Extraer texto de todas las páginas\\n        all_text = \"\"\\n        for page_num in range(num_pages):\\n            page = reader.pages[page_num]\\n            all_text += page.extract_text()\\n        all_text = all_text.replace(\\'\\n\\',\\'\\')\\n    pdf_files[pdf_bill_id] = all_text'"
      ]
     },
     "execution_count": 15,
     "metadata": {},
     "output_type": "execute_result"
    }
   ],
   "source": [
    "'''json_files = {}\n",
    "pdf_files = {}\n",
    "for json_path, pdf_path in zip(json_paths, pdf_paths):\n",
    "    json_bill_id = json_path.removeprefix(files_path + 'factura_').removesuffix('.json')\n",
    "    json_bill_id = int(json_bill_id)\n",
    "    \n",
    "    pdf_bill_id = pdf_path.removeprefix(files_path + 'factura_').removesuffix('.pdf')\n",
    "    pdf_bill_id = int(pdf_bill_id)\n",
    "    \n",
    "    with open(json_path, 'r') as file:\n",
    "        data = json.load(file)\n",
    "    \n",
    "    json_files[json_bill_id] = data\n",
    "    \n",
    "    with open(pdf_path, 'rb') as file:\n",
    "        reader = PyPDF2.PdfReader(file)\n",
    "    \n",
    "        # Obtener el número de páginas\n",
    "        num_pages = len(reader.pages)\n",
    "\n",
    "        # Extraer texto de todas las páginas\n",
    "        all_text = \"\"\n",
    "        for page_num in range(num_pages):\n",
    "            page = reader.pages[page_num]\n",
    "            all_text += page.extract_text()\n",
    "        all_text = all_text.replace('\\n','')\n",
    "    pdf_files[pdf_bill_id] = all_text'''"
   ]
  },
  {
   "cell_type": "markdown",
   "id": "3dd63eed-d63e-47dc-aa7e-e6ff7ca8b78b",
   "metadata": {},
   "source": [
    "## Pruebas re"
   ]
  },
  {
   "cell_type": "code",
   "execution_count": 86,
   "id": "3b235010-3d0c-4d89-81a3-bc53df8b77dc",
   "metadata": {
    "tags": []
   },
   "outputs": [],
   "source": [
    "spain_pc = {\n",
    "    '01': 'Álava',\n",
    "    '02': 'Albacete',\n",
    "    '03': 'Alicante',\n",
    "    '04': 'Almería',\n",
    "    '05': 'Ávila',\n",
    "    '06': 'Badajoz',\n",
    "    '07': 'Islas Baleares',\n",
    "    '08': 'Barcelona',\n",
    "    '09': 'Burgos',\n",
    "    '10': 'Cáceres',\n",
    "    '11': 'Cádiz',\n",
    "    '12': 'Castellón',\n",
    "    '13': 'Ciudad Real',\n",
    "    '14': 'Córdoba',\n",
    "    '15': 'La Coruña',\n",
    "    '16': 'Cuenca',\n",
    "    '17': 'Gerona',\n",
    "    '18': 'Granada',\n",
    "    '19': 'Guadalajara',\n",
    "    '20': 'Guipúzcoa',\n",
    "    '21': 'Huelva',\n",
    "    '22': 'Huesca',\n",
    "    '23': 'Jaén',\n",
    "    '24': 'León',\n",
    "    '25': 'Lérida',\n",
    "    '26': 'La Rioja',\n",
    "    '27': 'Lugo',\n",
    "    '28': 'Madrid',\n",
    "    '29': 'Málaga',\n",
    "    '30': 'Murcia',\n",
    "    '31': 'Navarra',\n",
    "    '32': 'Orense',\n",
    "    '33': 'Asturias',\n",
    "    '34': 'Palencia',\n",
    "    '35': 'Las Palmas',\n",
    "    '36': 'Pontevedra',\n",
    "    '37': 'Salamanca',\n",
    "    '38': 'Santa Cruz de Tenerife',\n",
    "    '39': 'Cantabria',\n",
    "    '40': 'Segovia',\n",
    "    '41': 'Sevilla',\n",
    "    '42': 'Soria',\n",
    "    '43': 'Tarragona',\n",
    "    '44': 'Teruel',\n",
    "    '45': 'Toledo',\n",
    "    '46': 'Valencia',\n",
    "    '47': 'Valladolid',\n",
    "    '48': 'Vizcaya',\n",
    "    '49': 'Zamora',\n",
    "    '50': 'Zaragoza',\n",
    "    '51': 'Ceuta',\n",
    "    '52': 'Melilla'\n",
    "}"
   ]
  },
  {
   "cell_type": "code",
   "execution_count": 88,
   "id": "101cf8c1-e1fc-4ef0-a938-27c82a80c478",
   "metadata": {
    "tags": []
   },
   "outputs": [],
   "source": [
    "months = {\n",
    "    \"enero\": \"01\",\n",
    "    \"febrero\": \"02\",\n",
    "    \"marzo\": \"03\",\n",
    "    \"abril\": \"04\",\n",
    "    \"mayo\": \"05\",\n",
    "    \"junio\": \"06\",\n",
    "    \"julio\": \"07\",\n",
    "    \"agosto\": \"08\",\n",
    "    \"septiembre\": \"09\",\n",
    "    \"octubre\": \"10\",\n",
    "    \"noviembre\": \"11\",\n",
    "    \"diciembre\": \"12\"\n",
    "}"
   ]
  },
  {
   "cell_type": "code",
   "execution_count": 42,
   "id": "a6cab588-d924-452a-aa21-d08e9483a977",
   "metadata": {
    "tags": []
   },
   "outputs": [],
   "source": [
    "def extract_result(re, text):\n",
    "    matches = re.findall(text)\n",
    "    matches_set = set(matches)\n",
    "    if len(matches_set) == 1:\n",
    "        return matches[0]\n",
    "    return matches"
   ]
  },
  {
   "cell_type": "code",
   "execution_count": 102,
   "id": "8271ac38-7904-48e0-8d59-c0526dd2b6a1",
   "metadata": {
    "tags": []
   },
   "outputs": [],
   "source": [
    "def extract_text_pypdf2(pdf_path):\n",
    "    \n",
    "    reader = PyPDF2.PdfReader(pdf_path)\n",
    "\n",
    "    # Como el cif tiene que estar en la primera página solo extraeremos esa\n",
    "    page = reader.pages[0]\n",
    "    text = page.extract_text()\n",
    "    return text"
   ]
  },
  {
   "cell_type": "code",
   "execution_count": 18,
   "id": "37ac5801-6521-4169-b9ca-be88121c50b9",
   "metadata": {
    "tags": []
   },
   "outputs": [],
   "source": [
    "num_bills = [0,1,4,47]"
   ]
  },
  {
   "cell_type": "code",
   "execution_count": 22,
   "id": "80b5b4d1-5918-4b3b-94eb-2465254be994",
   "metadata": {
    "tags": []
   },
   "outputs": [
    {
     "data": {
      "text/plain": [
       "'text_bills = {}\\nfor num in num_bills:\\n    reader = PyPDF2.PdfReader(f\"training/factura_{num}.pdf\")\\n\\n    num_pages = len(reader.pages)\\n\\n    text = reader.pages[0].extract_text()\\n    \\n    text_bills[num] = text'"
      ]
     },
     "execution_count": 22,
     "metadata": {},
     "output_type": "execute_result"
    }
   ],
   "source": [
    "'''text_bills = {}\n",
    "for num in num_bills:\n",
    "    reader = PyPDF2.PdfReader(f\"training/factura_{num}.pdf\")\n",
    "\n",
    "    num_pages = len(reader.pages)\n",
    "\n",
    "    text = reader.pages[0].extract_text()\n",
    "    \n",
    "    text_bills[num] = text'''"
   ]
  },
  {
   "cell_type": "code",
   "execution_count": 20,
   "id": "b91b4a59-9354-496f-a4ad-395c591c1c3c",
   "metadata": {
    "tags": []
   },
   "outputs": [],
   "source": [
    "text_bills = {}\n",
    "for num in num_bills:\n",
    "    text = extract_text(f\"training/factura_{num}.pdf\")\n",
    "\n",
    "    text_bills[num] = text"
   ]
  },
  {
   "cell_type": "code",
   "execution_count": 21,
   "id": "13394445-8714-43af-a7e8-5f279f1daba5",
   "metadata": {
    "tags": []
   },
   "outputs": [],
   "source": [
    "num = 1\n",
    "text = text_bills[num]\n",
    "pdf_path = f\"training/factura_{num}.pdf\""
   ]
  },
  {
   "cell_type": "code",
   "execution_count": null,
   "id": "2fade27d-6254-4409-ad37-86c25b155607",
   "metadata": {},
   "outputs": [],
   "source": [
    "json[\"nombre_cliente\"]\n",
    "json[\"dni_cliente\"]\n",
    "json[\"calle_cliente\"]\n",
    "json[\"cp_cliente\"]\n",
    "json[\"población_cliente\"]\n",
    "json[\"provincia_cliente\"]\n",
    "json[\"nombre_comercializadora\"]\n",
    "json[\"cif_comercializadora\"]\n",
    "json[\"dirección_comercializadora\"]\n",
    "json[\"cp_comercializadora\"]\n",
    "json[\"población_comercializadora\"]\n",
    "json[\"provincia_comercializadora\"]\n",
    "json[\"inicio_periodo\"]\n",
    "json[\"fin_periodo\"]\n",
    "json[\"importe_factura\"]\n",
    "json[\"fecha_cargo\"]\n",
    "json[\"consumo_periodo\"]\n",
    "json[\"potencia_contratada\"]\n"
   ]
  },
  {
   "cell_type": "code",
   "execution_count": 170,
   "id": "f224e855-7e97-464b-aace-d78ba7382b51",
   "metadata": {
    "tags": []
   },
   "outputs": [
    {
     "data": {
      "text/plain": [
       "['nombre_cliente',\n",
       " 'dni_cliente',\n",
       " 'calle_cliente',\n",
       " 'cp_cliente',\n",
       " 'población_cliente',\n",
       " 'provincia_cliente',\n",
       " 'nombre_comercializadora',\n",
       " 'cif_comercializadora',\n",
       " 'dirección_comercializadora',\n",
       " 'cp_comercializadora',\n",
       " 'población_comercializadora',\n",
       " 'provincia_comercializadora',\n",
       " 'número_factura',\n",
       " 'inicio_periodo',\n",
       " 'fin_periodo',\n",
       " 'importe_factura',\n",
       " 'fecha_cargo',\n",
       " 'consumo_periodo',\n",
       " 'potencia_contratada']"
      ]
     },
     "execution_count": 170,
     "metadata": {},
     "output_type": "execute_result"
    }
   ],
   "source": [
    "list(json_files[0].keys())"
   ]
  },
  {
   "cell_type": "code",
   "execution_count": 216,
   "id": "75a9fe11-fd4f-4596-ad9e-7962cdd18c5e",
   "metadata": {
    "tags": []
   },
   "outputs": [
    {
     "data": {
      "text/plain": [
       "'factura_231.json'"
      ]
     },
     "execution_count": 216,
     "metadata": {},
     "output_type": "execute_result"
    }
   ],
   "source": [
    "pdf_path = \"factura_231.pdf\"\n"
   ]
  },
  {
   "cell_type": "code",
   "execution_count": 198,
   "id": "3df98b06-58fa-4fde-820f-89abbbd35d89",
   "metadata": {
    "tags": []
   },
   "outputs": [
    {
     "data": {
      "text/plain": [
       "\u001b[0;31mSignature:\u001b[0m \u001b[0mreturn_contracted_power\u001b[0m\u001b[0;34m(\u001b[0m\u001b[0mtext\u001b[0m\u001b[0;34m)\u001b[0m\u001b[0;34m\u001b[0m\u001b[0;34m\u001b[0m\u001b[0m\n",
       "\u001b[0;31mDocstring:\u001b[0m <no docstring>\n",
       "\u001b[0;31mFile:\u001b[0m      /tmp/ipykernel_12067/785049782.py\n",
       "\u001b[0;31mType:\u001b[0m      function"
      ]
     },
     "metadata": {},
     "output_type": "display_data"
    }
   ],
   "source": [
    "pdf_path.replace(\"pdf\", \"json\")?"
   ]
  },
  {
   "cell_type": "code",
   "execution_count": 204,
   "id": "623837d5-2adb-4d82-b310-e3255d96356c",
   "metadata": {
    "tags": []
   },
   "outputs": [],
   "source": [
    "    break\n",
    "   \n",
    "    text = extract_text(pdf_path)\n",
    "    \n",
    "    #Extraemos todos los datos\n",
    "    client_name = return_client_name(text)\n",
    "    dni = return_dni(text)\n",
    "    client_addres, client_pc, client_town, client_province = return_client_addres_pc_town_province(text, client_name, spain_pc)\n",
    "    cif = return_cif(text, pdf_path)\n",
    "    retailer_name, retailer_addres, retailer_pc, retailer_town, retailer_province = return_retailer_name_addres_pc_town_province(text, spain_pc, pdf_path)\n",
    "    bill_num = return_bill_num(text)\n",
    "    initial_date, final_date = return_initial_and_final_date(text)\n",
    "    total_amount = return_total_amount(text)\n",
    "    charge_date = return_charge_date(text)\n",
    "    consumption = return_consumption(text)\n",
    "    contracted_power = return_contracted_power(text)\n",
    "    \n",
    "    #Guardamos todo en el diccionario\n",
    "    json_data[\"nombre_cliente\"] = client_name\n",
    "    json_data[\"dni_cliente\"] = dni\n",
    "    json_data[\"calle_cliente\"] = client_addres\n",
    "    json_data[\"cp_cliente\"] = client_pc\n",
    "    json_data[\"población_cliente\"] = client_town\n",
    "    json_data[\"provincia_cliente\"] = client_province\n",
    "    json_data[\"nombre_comercializadora\"] = retailer_name\n",
    "    json_data[\"cif_comercializadora\"] = cif\n",
    "    json_data[\"dirección_comercializadora\"] = retailer_addres\n",
    "    json_data[\"cp_comercializadora\"] = retailer_pc\n",
    "    json_data[\"población_comercializadora\"] = retailer_town\n",
    "    json_data[\"provincia_comercializadora\"] = retailer_province\n",
    "    json_data[\"número_factura\"] = bill_num\n",
    "    json_data[\"inicio_periodo\"] = initial_date\n",
    "    json_data[\"fin_periodo\"] = final_date\n",
    "    json_data[\"importe_factura\"] = total_amount\n",
    "    json_data[\"fecha_cargo\"] = charge_date\n",
    "    json_data[\"consumo_periodo\"] = consumption\n",
    "    json_data[\"potencia_contratada\"] = contracted_power\n",
    "    \n",
    "    #Exportamos el json\n",
    "    json_path = pdf_path.split(\"/\")[-1].replace(\"pdf\", \"json\")\n",
    "    with open(archivo_json, 'w') as file:\n",
    "        json.dump(json_data, file, ensure_ascii=False)"
   ]
  },
  {
   "cell_type": "code",
   "execution_count": 32,
   "id": "4786978f-6abd-4168-8c7e-ea875929c9b3",
   "metadata": {
    "tags": []
   },
   "outputs": [
    {
     "data": {
      "text/plain": [
       "'104,74'"
      ]
     },
     "execution_count": 32,
     "metadata": {},
     "output_type": "execute_result"
    }
   ],
   "source": [
    "#importe total\n",
    "\n",
    "def return_total_amount(text):\n",
    "    re_total_amount = re.compile(r\"(\\d+,\\d+)[^\\n]*€\")\n",
    "\n",
    "    matches = re_total_amount.findall(text)\n",
    "    total_amount = max([float(amount.replace(',','.')) for amount in matches])\n",
    "    total_amount = \"{:.2f}\".format(total_amount)\n",
    "    total_amount = str(total_amount).replace(\".\",\",\")\n",
    "\n",
    "    return total_amount\n",
    "return_total_amount(text)"
   ]
  },
  {
   "cell_type": "code",
   "execution_count": 44,
   "id": "11fd28a8-87b3-4e1e-93d8-febb60435fa8",
   "metadata": {
    "tags": []
   },
   "outputs": [
    {
     "data": {
      "text/plain": [
       "'K9131055493'"
      ]
     },
     "execution_count": 44,
     "metadata": {},
     "output_type": "execute_result"
    }
   ],
   "source": [
    "#Numero de factura\n",
    "\n",
    "def return_bill_num(text):\n",
    "    re_bill_num = re.compile(r\"(?:nº|num\\.|número|num)\\s*factura(?::)?\\s*(\\w+)\", re.IGNORECASE)\n",
    "    \n",
    "    bill_num = extract_result(re_bill_num, text)\n",
    "    return bill_num\n",
    "\n",
    "return_bill_num(text)"
   ]
  },
  {
   "cell_type": "code",
   "execution_count": 106,
   "id": "80002412-be13-4a83-a681-be923d277e51",
   "metadata": {
    "tags": []
   },
   "outputs": [
    {
     "data": {
      "text/plain": [
       "'B88446406'"
      ]
     },
     "execution_count": 106,
     "metadata": {},
     "output_type": "execute_result"
    }
   ],
   "source": [
    "#cif\n",
    "\n",
    "def return_cif(text, pdf_path):\n",
    "    re_cif = re.compile(r\"\\bcif\\b(?::)?(?:\\s*)?(\\w+)\", re.IGNORECASE)\n",
    "\n",
    "    cif = extract_result(re_cif, text)\n",
    "\n",
    "    #Si no encontramos ningún match probamos con otro extractor de texto \n",
    "    if not cif:\n",
    "        text = extract_text_pypdf2(pdf_path)\n",
    "        cif = extract_result(re_cif, text)\n",
    "    return cif\n",
    "        \n",
    "return_cif(text, pdf_path)"
   ]
  },
  {
   "cell_type": "code",
   "execution_count": 33,
   "id": "7b31199a-22c4-451a-8797-c96e3d5a3a55",
   "metadata": {},
   "outputs": [],
   "source": [
    "reader = PyPDF2.PdfReader(pdf_path)\n",
    "\n",
    "# Obtener el número de páginas\n",
    "num_pages = len(reader.pages)\n",
    "\n",
    "# Buscamos el cif en cada página\n",
    "for page_num in range(num_pages):\n",
    "    page = reader.pages[page_num]\n",
    "    text = page.extract_text()\n",
    "    matches = re_cif.findall(text)\n",
    "    if matches:\n",
    "        cif = extract_result(matches)\n",
    "        break"
   ]
  },
  {
   "cell_type": "code",
   "execution_count": 54,
   "id": "85f57430-e5fa-4b34-b744-a790fefa39d8",
   "metadata": {
    "tags": []
   },
   "outputs": [
    {
     "data": {
      "text/plain": [
       "'90237166R'"
      ]
     },
     "execution_count": 54,
     "metadata": {},
     "output_type": "execute_result"
    }
   ],
   "source": [
    "#dni\n",
    "\n",
    "def return_dni(text):\n",
    "    re_dni = re.compile(r\"\\b\\d{8}[A-Z]\\b\")\n",
    "\n",
    "    dni = extract_result(re_dni, text)\n",
    "    \n",
    "    return dni\n",
    "\n",
    "return_dni(text)"
   ]
  },
  {
   "cell_type": "code",
   "execution_count": 56,
   "id": "e118d2da-dcbd-42ca-ad28-2cbf7d5a5243",
   "metadata": {
    "tags": []
   },
   "outputs": [
    {
     "data": {
      "text/plain": [
       "['21830 Bonares ',\n",
       " 'Dirección:  Camino de los Pelendengues 21830 Bonares ',\n",
       " '21830  - Bonares -  ',\n",
       " 'C/ LABASTIDA, 2, 28034 - MADRID ']"
      ]
     },
     "execution_count": 56,
     "metadata": {},
     "output_type": "execute_result"
    }
   ],
   "source": [
    "#cp\n",
    "#tener cuidado con el resto de datos numericos euros, kwh, kw\n",
    "\n",
    "def return_pc(text):\n",
    "    re_pc = re.compile(r\".*\\b\\d{5}\\b(?!\\s*kW|\\s*kWh).*\")\n",
    "\n",
    "    pc = extract_result(re_pc, text)\n",
    "\n",
    "    return pc\n",
    "\n",
    "return_pc(text)"
   ]
  },
  {
   "cell_type": "code",
   "execution_count": 58,
   "id": "ce5d9b86-cb9b-4573-90ea-a854df700e82",
   "metadata": {
    "tags": []
   },
   "outputs": [
    {
     "data": {
      "text/plain": [
       "'4,524'"
      ]
     },
     "execution_count": 58,
     "metadata": {},
     "output_type": "execute_result"
    }
   ],
   "source": [
    "#potencia contratada\n",
    "def return_contracted_power(text):\n",
    "    re_contracted_power = re.compile(r\"contratada:?[^\\n]*?(\\d+,\\d+)\\s*(?<!€/)kW\")\n",
    "\n",
    "    contracted_power = extract_result(re_contracted_power, text)\n",
    "    \n",
    "    return contracted_power\n",
    "    \n",
    "return_contracted_power(text)"
   ]
  },
  {
   "cell_type": "code",
   "execution_count": 60,
   "id": "bbe474c4-43e6-41e3-9153-af0ec7c0bf04",
   "metadata": {
    "tags": []
   },
   "outputs": [
    {
     "data": {
      "text/plain": [
       "302"
      ]
     },
     "execution_count": 60,
     "metadata": {},
     "output_type": "execute_result"
    }
   ],
   "source": [
    "def return_consumption(text):\n",
    "    #Buscamos todas las cadenas de numeros que van sucedidas por kWh ya que esa es la unidad para el consumo\n",
    "    re_consumo = re.compile(r\"(\\d+)\\s*kWh\")\n",
    "\n",
    "    matches = re_consumo.findall(text)\n",
    "    matches = [int(amount.replace(',','.')) for amount in matches]\n",
    "    matches = sorted(matches)\n",
    "\n",
    "    #Si solo hay un match ese tiene que ser el consumo\n",
    "    if len(matches) == 1:\n",
    "        consumo = matches[0]\n",
    "\n",
    "    #Si hay más de 3 hay varias posibilidades\n",
    "    elif len(matches) >= 3:\n",
    "        #Si hay un número que se repite más que el resto ese debe ser el consumo\n",
    "        counts = Counter(matches)\n",
    "        if len(counts.values()) != sum(counts.values()):\n",
    "            consumo = counts.most_common()[0][0]\n",
    "\n",
    "        #En caso contrario tomaremos como el consumo el valor más grande (última lectura) menos el valor más pequeño(lectura anterior)\n",
    "        else:\n",
    "            consumo = matches[-1] - matches [-2]\n",
    "            if consumo not in matches:\n",
    "                consumo = matches\n",
    "    #En caso de que haya dos elementos no podemos saber cuál es el consumo\n",
    "    else:\n",
    "        consumo = matches\n",
    "\n",
    "    return consumo\n",
    "\n",
    "return_consumption(text)"
   ]
  },
  {
   "cell_type": "code",
   "execution_count": 62,
   "id": "6b387f73-a351-49f8-bae5-2fb058a00ba3",
   "metadata": {
    "tags": []
   },
   "outputs": [
    {
     "data": {
      "text/plain": [
       "('12.05.2020', '11.06.2020')"
      ]
     },
     "execution_count": 62,
     "metadata": {},
     "output_type": "execute_result"
    }
   ],
   "source": [
    "# Fechas periodo\n",
    "\n",
    "def return_initial_and_final_date(text):\n",
    "    #Hacemos match con todos los elementos que van precedidos por periodo\n",
    "    matches = re.findall(r\"(?<=periodo|período)(.*?)(?=\\n|$)\", text, re.IGNORECASE)\n",
    "\n",
    "    #filtramos los elementos que pueden tener formato de fecha\n",
    "    re_numeric_date = re.compile(r\"\\b(\\d{2})[-.\\s\\/]\\s?(\\d{2})[-.\\s\\/]\\s?(\\d{4})\\b\")\n",
    "    re_string_date = re.compile(r\"\\b(\\d{1,2})\\s*de?\\s*?(enero|febrero|marzo|abril|mayo|junio|julio|agosto|septiembre|octubre|noviembre|diciembre)\\s*de?\\s*?(\\d{4})\\b\")\n",
    "    period_dates = [re_numeric_date.findall(match) for match in matches if len(re_numeric_date.findall(match)) == 2]\n",
    "    if not period_dates:\n",
    "        period_dates = [re_string_date.findall(match) for match in matches if len(re_string_date.findall(match)) == 2]\n",
    "        period_dates = [[f\"{date[0]}.{months[date[1]]}.{date[2]}\" for dates in period_dates for date in dates]]\n",
    "    else:\n",
    "        period_dates = [[f\"{date[0]}.{date[1]}.{date[2]}\" for dates in period_dates for date in dates]]\n",
    "\n",
    "    #Compruebo que los pares de fechas son distintos entre si para poder obtener periodos\n",
    "    period_dates = [dates for dates in period_dates if dates[0] != dates[1]]\n",
    "\n",
    "    #Me quedo con los valores unicos de fechas para comprobar que solo tenga un periodo valido\n",
    "    period_dates = [date for dates in period_dates for date in dates]\n",
    "    period_dates = list(set(period_dates))\n",
    "\n",
    "    #Ahora le doy formato a las fechas para comparar y parsear la mayor a fecha final y la menor a fecha inicial\n",
    "    date_1 = datetime.strptime(period_dates[0], \"%d.%m.%Y\")\n",
    "    date_2 = datetime.strptime(period_dates[1], \"%d.%m.%Y\")\n",
    "    if date_1 == date_2:\n",
    "        return None, None\n",
    "    else:\n",
    "        sorted_dates = sorted([date_1, date_2]) \n",
    "        initial_date, final_date = [date.strftime(\"%d.%m.%Y\") for date in sorted_dates]\n",
    "    \n",
    "    return initial_date, final_date\n",
    "\n",
    "return_initial_and_final_date(text)"
   ]
  },
  {
   "cell_type": "code",
   "execution_count": 66,
   "id": "eafb46ac-8a10-4fcd-8eb2-9316ad2ab79e",
   "metadata": {
    "tags": []
   },
   "outputs": [
    {
     "data": {
      "text/plain": [
       "'16.06.2020'"
      ]
     },
     "execution_count": 66,
     "metadata": {},
     "output_type": "execute_result"
    }
   ],
   "source": [
    "#Fecha de cargo\n",
    "\n",
    "def return_charge_date(text):\n",
    "    re_numeric_date = re.compile(r\"\\b(\\d{2})[-.\\s\\/]\\s?(\\d{2})[-.\\s\\/]\\s?(\\d{4})\\b\")\n",
    "    re_string_date = re.compile(r\"\\b(\\d{1,2})\\s*de?\\s*?(enero|febrero|marzo|abril|mayo|junio|julio|agosto|septiembre|octubre|noviembre|diciembre)\\s*de?\\s*?(\\d{4})\\b\")\n",
    "    \n",
    "    matches = re.findall(r\"(?<=cargo)(.*?)(?=\\n|$)\", text, re.IGNORECASE)\n",
    "    charge_date = [re_numeric_date.findall(match) for match in matches if re_numeric_date.search(match)]\n",
    "    if not charge_date:\n",
    "        charge_date = [re_string_date.findall(match) for match in matches if re_string_date.search(match)]\n",
    "\n",
    "        # Si no hay fecha devolver none\n",
    "        if not charge_date:\n",
    "            charge_date = None\n",
    "\n",
    "        charge_date = [f\"{date[0]}.{months[date[1]]}.{date[2]}\" for dates in charge_date for date in dates]\n",
    "\n",
    "    else:\n",
    "        charge_date = [f\"{date[0]}.{date[1]}.{date[2]}\" for dates in charge_date for date in dates]\n",
    "\n",
    "    # Si se encuentra un número distinto a 1 de fechas no podemos saber cuál es la de cargo\n",
    "    if len(set(charge_date)) != 1:\n",
    "        charge_date = None\n",
    "\n",
    "    #Si se han cumplido todas las condiciones solo tendremos una fecha repetida en la lista \n",
    "    charge_date = charge_date[0]\n",
    "    \n",
    "    return charge_date\n",
    "\n",
    "return_charge_date(text)"
   ]
  },
  {
   "cell_type": "code",
   "execution_count": 68,
   "id": "56f94322-0339-4b27-894d-feb258f8c7a7",
   "metadata": {
    "tags": []
   },
   "outputs": [
    {
     "data": {
      "text/plain": [
       "'LEONARDA JARAMILLO BÁEZ'"
      ]
     },
     "execution_count": 68,
     "metadata": {},
     "output_type": "execute_result"
    }
   ],
   "source": [
    "#Nombre cliente\n",
    "\n",
    "def return_client_name(text):\n",
    "\n",
    "    re_client_name = re.compile(r\"Nombre.*|titular.*\", re.IGNORECASE)\n",
    "\n",
    "    matches = re_client_name.findall(text)\n",
    "\n",
    "    if matches:\n",
    "        client_name = [match.split(\":\")[1].strip() for match in matches if \":\" in match]\n",
    "        if len(set(client_name)) != 1:\n",
    "            client_name = None\n",
    "        else:\n",
    "            client_name = client_name[0]\n",
    "        \n",
    "    return client_name\n",
    "\n",
    "return_client_name(text)"
   ]
  },
  {
   "cell_type": "code",
   "execution_count": 94,
   "id": "82d70cf3-f059-4788-b2fa-3fb90238e55a",
   "metadata": {
    "tags": []
   },
   "outputs": [
    {
     "data": {
      "text/plain": [
       "('Camino de los Pelendengues', '21830', 'Bonares', 'Huelva')"
      ]
     },
     "execution_count": 94,
     "metadata": {},
     "output_type": "execute_result"
    }
   ],
   "source": [
    "def return_client_addres_pc_town_province(text, client_name, spain_pc):\n",
    "    if not client_name:\n",
    "        return None, None, None, None\n",
    "    #Intentamos extraer los datos de la dirección del cliente del recuadro que se ubica siempre en la primera página de las facturas\n",
    "    #Para ello nos quedamos con los párrafos que contengan el nombre del cliente pero que no tengan :\n",
    "    client_parrs = [parr.split(\"\\n\") for parr in text.split(\"\\n\\n\") if re.search(rf\"^(?!.*:).*{client_name}*\", parr, re.IGNORECASE) and len(parr.split(\"\\n\")) > 1]\n",
    "\n",
    "    if client_parrs:\n",
    "        client_parrs = client_parrs[0]\n",
    "        client_addres, client_cp_town = client_parrs[1:3]\n",
    "        client_pc = re.findall(r\"\\b\\d{5}+\\b\", client_cp_town)[0]\n",
    "        client_town = re.findall(r\"[a-zA-ZáéíóúÁÉÍÓÚüÜñÑ]+\", client_cp_town)[0]\n",
    "\n",
    "        client_addres = client_addres.strip()\n",
    "        client_pc = client_pc.strip()\n",
    "        client_town = client_town.strip()\n",
    "        client_province = spain_pc[client_pc[:2]]\n",
    "\n",
    "    else:\n",
    "        client_addres = None\n",
    "        client_pc = None\n",
    "        client_town = None\n",
    "        client_province = None\n",
    "    return client_addres, client_pc, client_town, client_province\n",
    "\n",
    "client_name = return_client_name(text)\n",
    "return_client_addres_pc_town_province(text, client_name, spain_pc)"
   ]
  },
  {
   "cell_type": "code",
   "execution_count": 835,
   "id": "f9b6d7fd-e54e-48d8-9161-aa75bce5b8b1",
   "metadata": {
    "tags": []
   },
   "outputs": [],
   "source": [
    "text_pypdf2 = all_text"
   ]
  },
  {
   "cell_type": "code",
   "execution_count": 154,
   "id": "c743c24f-0409-4f17-bc41-10bfd56d65ae",
   "metadata": {
    "scrolled": true
   },
   "outputs": [
    {
     "data": {
      "text/plain": [
       "(None, 'C/ LABASTIDA, 2,', '28034', 'MADRID', 'Madrid')"
      ]
     },
     "execution_count": 154,
     "metadata": {},
     "output_type": "execute_result"
    }
   ],
   "source": [
    "#Datos empresa\n",
    "\n",
    "def return_retailer_name_addres_pc_town_province(text, spain_pc, pdf_path):\n",
    "    # Como los datos de las distribuidoras están agrupados, dividimos por párrafos e intentamos encontrarlas con el cif\n",
    "    retailer_parrs = [parr.split(\"\\n\") for parr in text.split(\"\\n\\n\") if re.search(r\"\\bcif\\b(?::)?(?:\\s*)?\", parr, re.IGNORECASE)]\n",
    "\n",
    "    #Nos quedamos con las líneas que no tienen el cif\n",
    "    retailer_parrs = [line for parr in retailer_parrs for line in parr if not re.search(r\"\\bcif\\b(?::)?(?:\\s*)?\", line, re.IGNORECASE)]\n",
    "\n",
    "    if len(retailer_parrs) == 2:\n",
    "        retailer_name, retailer_addres = retailer_parrs\n",
    "        retailer_name = retailer_name.strip()\n",
    "        retailer_addres = retailer_addres.strip()\n",
    "\n",
    "        retailer_addres = re.findall(r\"(?:social:)?(?:.*?:)?(.*)\", retailer_addres, re.IGNORECASE)\n",
    "        retailer_addres = [match.strip() for match in retailer_addres if match != '']\n",
    "\n",
    "    else:\n",
    "        text = extract_text_pypdf2(pdf_path)\n",
    "        retailer_name = None\n",
    "        retailer_addres = re.findall(r\"(?:social)(?::)?(.[^.;]*)\", text, re.IGNORECASE)\n",
    "        retailer_addres = [match.strip() for match in retailer_addres if match != '']\n",
    "\n",
    "    #cp comercializadora\n",
    "    retailer_pc = [re.findall(r\"\\d{5}+\", retailer_addres_element)[0] for retailer_addres_element in retailer_addres if re.search(r\"\\d{5}+\", retailer_addres_element)]\n",
    "    if retailer_pc:\n",
    "        retailer_pc = retailer_pc[0]\n",
    "\n",
    "        #Comprobamos si es una dirección marcada como extranjera\n",
    "        foreign_retailer = [re.findall(r\"extranjero\", element, re.IGNORECASE) for element in retailer_addres if re.search(r\"extranjero\", element, re.IGNORECASE)]\n",
    "\n",
    "        #En caso de que el cp sea único podremos parsear la dirección, si no la dejaremos \n",
    "        retailer_addres, retailer_town = retailer_addres[0].split(retailer_pc)\n",
    "        retailer_town = re.findall(r\"[a-zA-ZáéíóúÁÉÍÓÚüÜñÑ]+\", retailer_town)[0]\n",
    "        retailer_addres, retailer_town = retailer_addres.strip(), retailer_town.strip()\n",
    "\n",
    "        #Si el cp es español encontramos la provincia con el diccionario de cp y si es extranjero le ponemos la etiqueta \"Extranjero\"\n",
    "        if not foreign_retailer:\n",
    "            retailer_province = spain_pc[retailer_pc[:2]]\n",
    "        else:\n",
    "            retailer_province = \"Extranjero\"\n",
    "\n",
    "    else:\n",
    "        retailer_pc = None\n",
    "        retailer_addres = None\n",
    "        retailer_town = None\n",
    "        retailer_province = None\n",
    "\n",
    "    return retailer_name, retailer_addres, retailer_pc, retailer_town, retailer_province\n",
    "\n",
    "return_retailer_name_addres_pc_town_province(text, spain_pc, pdf_path)"
   ]
  },
  {
   "cell_type": "markdown",
   "id": "756fbabc-829e-4e99-aabd-679155d7d20c",
   "metadata": {},
   "source": [
    "### Prueba resultado regex"
   ]
  },
  {
   "cell_type": "code",
   "execution_count": null,
   "id": "1af20637-16a1-49f4-927a-952f852a9a75",
   "metadata": {
    "tags": []
   },
   "outputs": [],
   "source": [
    "data = []\n",
    "for num in range(1000):\n",
    "    pdf_path = f\"training/factura_{num}.pdf\"\n",
    "    \n",
    "    text = extract_text(pdf_path)\n",
    "    \n",
    "    #importe total\n",
    "\n",
    "    re_importe_total = re.compile(r\"(\\d+,\\d+)[^\\n]*€\")\n",
    "\n",
    "    matches = re_importe_total.findall(text)\n",
    "    importe_total = max([float(amount.replace(',','.')) for amount in matches])\n",
    "    importe_total = \"{:.2f}\".format(importe_total)\n",
    "    importe_total = str(importe_total).replace(\".\",\",\")\n",
    "\n",
    "    #Numero de factura\n",
    "\n",
    "    re_numero_factura = re.compile(r\"(?:nº|num\\.|número|num)\\s*factura(?::)?\\s*(\\w+)\", re.IGNORECASE)\n",
    "\n",
    "    matches = re_numero_factura.findall(text)\n",
    "    numero_factura = extract_result(matches)\n",
    "\n",
    "    #cif\n",
    "\n",
    "    re_cif = re.compile(r\"\\b[A-Z]\\d{8}\\b\")\n",
    "\n",
    "    matches = re_cif.findall(text)\n",
    "    cif = extract_result(matches)\n",
    "    \n",
    "    #Si no encontramos ningún match probamos con otro extractor de texto\n",
    "    if not cif:\n",
    "        reader = PyPDF2.PdfReader(pdf_path)\n",
    "\n",
    "        # Obtener el número de páginas\n",
    "        num_pages = len(reader.pages)\n",
    "\n",
    "        # Buscamos el cif en cada página\n",
    "        for page_num in range(num_pages):\n",
    "            page = reader.pages[page_num]\n",
    "            text_pypdf2 = page.extract_text()\n",
    "            matches = re_cif.findall(text_pypdf2)\n",
    "            if matches:\n",
    "                cif = extract_result(matches)\n",
    "            break\n",
    "\n",
    "    #dni\n",
    "\n",
    "    re_dni = re.compile(r\"\\b\\d{8}[A-Z]\\b\")\n",
    "\n",
    "    matches = re_dni.findall(text)\n",
    "    dni = extract_result(matches)\n",
    "\n",
    "    #cp\n",
    "    #tener cuidado con el resto de datos numericos euros, kwh, kw\n",
    "\n",
    "    re_cp = re.compile(r\".*\\b(\\d{5})\\b(?!\\s*kW|\\s*kWh).*\")\n",
    "\n",
    "    matches = re_cp.findall(text)\n",
    "    cp = extract_result(matches)\n",
    "\n",
    "    #potencia contratada\n",
    "\n",
    "    re_potencia_contratada = re.compile(r\"contratada:?[^\\n]*?(\\d+,\\d+)\\s*(?<!€/)kW\")\n",
    "\n",
    "    matches = re_potencia_contratada.findall(text)\n",
    "    potencia_contratada = extract_result(matches)\n",
    "\n",
    "    #consumo\n",
    "    #Mirar si puede estar en la segunda pagina y decidir si usar \\s* o [^\\n]*\n",
    "\n",
    "    #Buscamos todas las cadenas de numeros que van sucedidas por kWh ya que esa es la unidad para el consumo\n",
    "    re_consumo = re.compile(r\"(\\d+)\\s*kWh\")\n",
    "    \n",
    "    matches = re_consumo.findall(text)\n",
    "    matches = [int(amount.replace(',','.')) for amount in matches]\n",
    "    matches = sorted(matches)\n",
    "    \n",
    "    #Si solo hay un match ese tiene que ser el consumo\n",
    "    if len(matches) == 1:\n",
    "        consumo = matches[0]\n",
    "    \n",
    "    #Si hay más de 3 hay varias posibilidades\n",
    "    elif len(matches) >= 3:\n",
    "        #Si hay un número que se repite más que el resto ese debe ser el consumo\n",
    "        counts = Counter(matches)\n",
    "        if len(counts.values()) != sum(counts.values()):\n",
    "            consumo = counts.most_common()[0][0]\n",
    "        \n",
    "        #En caso contrario tomaremos como el consumo el valor más grande (última lectura) menos el valor más pequeño(lectura anterior)\n",
    "        else:\n",
    "            consumo = matches[-1] - matches [-2]\n",
    "            if consumo not in matches:\n",
    "                consumo = matches\n",
    "    #En caso de que haya dos elementos no podemos saber cuál es el consumo\n",
    "    else:\n",
    "        consumo = matches\n",
    "\n",
    "    # Fechas periodo\n",
    "    # Comprobar por cada elemento de la lista si hay meses en letra, fechas en distintos formatos o numeros\n",
    "    months = {\n",
    "        \"enero\": \"01\",\n",
    "        \"febrero\": \"02\",\n",
    "        \"marzo\": \"03\",\n",
    "        \"abril\": \"04\",\n",
    "        \"mayo\": \"05\",\n",
    "        \"junio\": \"06\",\n",
    "        \"julio\": \"07\",\n",
    "        \"agosto\": \"08\",\n",
    "        \"septiembre\": \"09\",\n",
    "        \"octubre\": \"10\",\n",
    "        \"noviembre\": \"11\",\n",
    "        \"diciembre\": \"12\"\n",
    "    }\n",
    "\n",
    "    #Hacemos match con todos los elementos que van precedidos por periodo\n",
    "    matches = re.findall(r\"(?<=periodo|período)(.*?)(?=\\n|$)\", text, re.IGNORECASE)\n",
    "\n",
    "    #filtramos los elementos que pueden tener formato de fecha\n",
    "    re_numeric_date = re.compile(r\"\\b(\\d{2})[-.\\s\\/]\\s?(\\d{2})[-.\\s\\/]\\s?(\\d{4})\\b\")\n",
    "    re_string_date = re.compile(r\"\\b(\\d{1,2})\\s*de?\\s*?(enero|febrero|marzo|abril|mayo|junio|julio|agosto|septiembre|octubre|noviembre|diciembre)\\s*de?\\s*?(\\d{4})\\b\")\n",
    "    period_dates = [re_numeric_date.findall(match) for match in matches if len(re_numeric_date.findall(match)) == 2]\n",
    "    if not period_dates:\n",
    "        period_dates = [re_string_date.findall(match) for match in matches if len(re_string_date.findall(match)) == 2]\n",
    "        period_dates = [[f\"{date[0]}.{months[date[1]]}.{date[2]}\" for dates in period_dates for date in dates]]\n",
    "    else:\n",
    "        period_dates = [[f\"{date[0]}.{date[1]}.{date[2]}\" for dates in period_dates for date in dates]]\n",
    "\n",
    "    #Compruebo que los pares de fechas son distintos entre si para poder obtener periodos\n",
    "    period_dates = [dates for dates in period_dates if dates[0] != dates[1]]\n",
    "\n",
    "    #Me quedo con los valores unicos de fechas para comprobar que solo tenga un periodo valido\n",
    "    period_dates = [date for dates in period_dates for date in dates]\n",
    "    period_dates = list(set(period_dates))\n",
    "\n",
    "    #Ahora le doy formato a las fechas para comparar y parsear la mayor a fecha final y la menor a fecha inicial\n",
    "    date_1 = datetime.strptime(period_dates[0], \"%d.%m.%Y\")\n",
    "    date_2 = datetime.strptime(period_dates[1], \"%d.%m.%Y\")\n",
    "    if date_1 == date_2:\n",
    "        #Decidir que pasa si son iguales\n",
    "        pass\n",
    "    else:\n",
    "        sorted_dates = sorted([date_1, date_2]) \n",
    "        initial_date, final_date = [date.strftime(\"%d.%m.%Y\") for date in sorted_dates]\n",
    "        \n",
    "    row = [num, importe_total, numero_factura, cif, dni, cp, potencia_contratada, consumo, initial_date, final_date]\n",
    "    data.append(row)\n",
    "\n",
    "df_pred = pd.DataFrame(data, columns = [\"num\", \"importe_total\", \"numero_factura\", \"cif\", \"dni\", \"cp\", \"potencia_contratada\", \"consumo\", \"initial_date\", \"final_date\"])"
   ]
  },
  {
   "cell_type": "code",
   "execution_count": 132,
   "id": "9b3a23fe-7a62-4b66-9e65-3ca37b3ca2f4",
   "metadata": {
    "tags": []
   },
   "outputs": [],
   "source": [
    "df_pred.to_csv(\"predicciones.csv\", index = False)"
   ]
  },
  {
   "cell_type": "code",
   "execution_count": 373,
   "id": "36bdef01-df65-4e9c-898b-1bc42090a5ca",
   "metadata": {
    "tags": []
   },
   "outputs": [],
   "source": [
    "data = []\n",
    "\n",
    "for num in range(1000):\n",
    "    importe_total = json_files[num][\"importe_factura\"]\n",
    "    numero_factura = json_files[num][\"número_factura\"]\n",
    "    dni = json_files[num]['dni_cliente']\n",
    "    cif = json_files[num]['cif_comercializadora']\n",
    "    cp = json_files[num][\"cp_cliente\"]\n",
    "    potencia_contratada = json_files[num][\"potencia_contratada\"]\n",
    "    consumo = json_files[num][\"consumo_periodo\"]\n",
    "    initial_date = json_files[num][\"inicio_periodo\"]\n",
    "    final_date = json_files[num][\"fin_periodo\"]\n",
    "    charge_date = json_files[num][\"fecha_cargo\"]\n",
    "    \n",
    "    client_name = json_files[num][\"nombre_cliente\"]\n",
    "    client_addres = json_files[num][\"calle_cliente\"]\n",
    "    client_pc = json_files[num][\"cp_cliente\"]\n",
    "    client_town = json_files[num][\"población_cliente\"]\n",
    "    client_province = json_files[num][\"provincia_cliente\"]\n",
    "    \n",
    "    retailer_name = json_files[num][\"nombre_comercializadora\"]\n",
    "    retailer_addres = json_files[num][\"dirección_comercializadora\"]\n",
    "    retailer_pc = json_files[num][\"cp_comercializadora\"]\n",
    "    retailer_town = json_files[num][\"población_comercializadora\"]\n",
    "    retailer_province = json_files[num][\"provincia_comercializadora\"]\n",
    "    \n",
    "    row = [num, importe_total, numero_factura, cif, dni, cp, potencia_contratada, \n",
    "           consumo, initial_date, final_date, charge_date, \n",
    "           client_name, client_addres, client_pc, client_town, client_province,\n",
    "           retailer_name, retailer_addres, retailer_pc, retailer_town, retailer_province]\n",
    "    \n",
    "    data.append(row)\n",
    "    \n",
    "df = pd.DataFrame(data, columns = [\"num\", \"importe_total\", \"numero_factura\", \"cif\", \"dni\", \"cp\", \"potencia_contratada\", \"consumo\", \"initial_date\", \"final_date\", \"fecha_cargo\", \"nombre_cliente\",\"calle_cliente\", \"población_cliente\", \"cp_cliente\", \"provincia_cliente\", \"nombre_comercializadora\", \"dirección_comercializadora\", \"cp_comercializadora\", \"población_comercializadora\", \"provincia_comercializadora\"])"
   ]
  },
  {
   "cell_type": "code",
   "execution_count": null,
   "id": "fe275799-4502-458c-8398-8cd236d617b7",
   "metadata": {
    "tags": []
   },
   "outputs": [],
   "source": [
    "df[df[\"cp_comercializadora\"] == '']"
   ]
  },
  {
   "cell_type": "code",
   "execution_count": 1051,
   "id": "55332b1b-8961-4cd7-8d41-cbbc8374bd2f",
   "metadata": {
    "tags": []
   },
   "outputs": [
    {
     "data": {
      "text/html": [
       "<div>\n",
       "<style scoped>\n",
       "    .dataframe tbody tr th:only-of-type {\n",
       "        vertical-align: middle;\n",
       "    }\n",
       "\n",
       "    .dataframe tbody tr th {\n",
       "        vertical-align: top;\n",
       "    }\n",
       "\n",
       "    .dataframe thead th {\n",
       "        text-align: right;\n",
       "    }\n",
       "</style>\n",
       "<table border=\"1\" class=\"dataframe\">\n",
       "  <thead>\n",
       "    <tr style=\"text-align: right;\">\n",
       "      <th></th>\n",
       "      <th>num</th>\n",
       "      <th>importe_total</th>\n",
       "      <th>numero_factura</th>\n",
       "      <th>cif</th>\n",
       "      <th>dni</th>\n",
       "      <th>cp</th>\n",
       "      <th>potencia_contratada</th>\n",
       "      <th>consumo</th>\n",
       "      <th>initial_date</th>\n",
       "      <th>final_date</th>\n",
       "      <th>nuevo_consumo</th>\n",
       "      <th>nuevo_cif</th>\n",
       "      <th>fecha_cargo</th>\n",
       "      <th>nombre_cliente</th>\n",
       "    </tr>\n",
       "  </thead>\n",
       "  <tbody>\n",
       "    <tr>\n",
       "      <th>0</th>\n",
       "      <td>0</td>\n",
       "      <td>19,78</td>\n",
       "      <td>SV5043664894</td>\n",
       "      <td>B90393497</td>\n",
       "      <td>73635161V</td>\n",
       "      <td>['41410', '22394', '41410']</td>\n",
       "      <td>4,799</td>\n",
       "      <td>0.0</td>\n",
       "      <td>26.08.2018</td>\n",
       "      <td>25.09.2018</td>\n",
       "      <td>0.0</td>\n",
       "      <td>B90393497.</td>\n",
       "      <td>30.09.2018</td>\n",
       "      <td>Conrado Daniel Iglesias</td>\n",
       "    </tr>\n",
       "    <tr>\n",
       "      <th>1</th>\n",
       "      <td>1</td>\n",
       "      <td>104,74</td>\n",
       "      <td>K9131055493</td>\n",
       "      <td>B88446406</td>\n",
       "      <td>90237166R</td>\n",
       "      <td>['21830', '21830', '21830', '28034']</td>\n",
       "      <td>4,524</td>\n",
       "      <td>302.0</td>\n",
       "      <td>12.05.2020</td>\n",
       "      <td>11.06.2020</td>\n",
       "      <td>302.0</td>\n",
       "      <td>B88446406</td>\n",
       "      <td>16.06.2020</td>\n",
       "      <td>LEONARDA JARAMILLO BÁEZ</td>\n",
       "    </tr>\n",
       "    <tr>\n",
       "      <th>2</th>\n",
       "      <td>2</td>\n",
       "      <td>80,63</td>\n",
       "      <td>H4623704265</td>\n",
       "      <td>A11508629</td>\n",
       "      <td>74434368C</td>\n",
       "      <td>['11510', '24149', '11510']</td>\n",
       "      <td>3,477</td>\n",
       "      <td>244.0</td>\n",
       "      <td>13.11.1999</td>\n",
       "      <td>13.12.1999</td>\n",
       "      <td>244.0</td>\n",
       "      <td>A11508629.</td>\n",
       "      <td>18.12.1999</td>\n",
       "      <td>BENEDICTA GALLEGOS AGUILAR</td>\n",
       "    </tr>\n",
       "    <tr>\n",
       "      <th>3</th>\n",
       "      <td>3</td>\n",
       "      <td>219,71</td>\n",
       "      <td>SF3956122542</td>\n",
       "      <td>A66531013</td>\n",
       "      <td>89901698B</td>\n",
       "      <td>['08008', '25737', '08008']</td>\n",
       "      <td>3,317</td>\n",
       "      <td>740.0</td>\n",
       "      <td>28.10.2021</td>\n",
       "      <td>27.12.2021</td>\n",
       "      <td>740.0</td>\n",
       "      <td>A66531013.</td>\n",
       "      <td>01.01.2022</td>\n",
       "      <td>Belinda Zetina Mijares</td>\n",
       "    </tr>\n",
       "    <tr>\n",
       "      <th>5</th>\n",
       "      <td>5</td>\n",
       "      <td>99,81</td>\n",
       "      <td>KS8622022848</td>\n",
       "      <td>B24726044</td>\n",
       "      <td>13714122G</td>\n",
       "      <td>['24920', '24920', '24920', '46740']</td>\n",
       "      <td>2,668</td>\n",
       "      <td>246.0</td>\n",
       "      <td>13.01.2018</td>\n",
       "      <td>14.03.2018</td>\n",
       "      <td>246.0</td>\n",
       "      <td>B24726044</td>\n",
       "      <td>19.03.2018</td>\n",
       "      <td>SATURNINO MALTÉS NARANJO</td>\n",
       "    </tr>\n",
       "    <tr>\n",
       "      <th>...</th>\n",
       "      <td>...</td>\n",
       "      <td>...</td>\n",
       "      <td>...</td>\n",
       "      <td>...</td>\n",
       "      <td>...</td>\n",
       "      <td>...</td>\n",
       "      <td>...</td>\n",
       "      <td>...</td>\n",
       "      <td>...</td>\n",
       "      <td>...</td>\n",
       "      <td>...</td>\n",
       "      <td>...</td>\n",
       "      <td>...</td>\n",
       "      <td>...</td>\n",
       "    </tr>\n",
       "    <tr>\n",
       "      <th>994</th>\n",
       "      <td>994</td>\n",
       "      <td>109,52</td>\n",
       "      <td>U8552262546</td>\n",
       "      <td>B37547619</td>\n",
       "      <td>26727330L</td>\n",
       "      <td>['37188', '37188', '25737', '25737', '25737', ...</td>\n",
       "      <td>3,49</td>\n",
       "      <td>354.0</td>\n",
       "      <td>28.11.1995</td>\n",
       "      <td>28.12.1995</td>\n",
       "      <td>354.0</td>\n",
       "      <td>B37547619</td>\n",
       "      <td>02.01.1996</td>\n",
       "      <td>PETRONIO RAMÍREZ COLLADO</td>\n",
       "    </tr>\n",
       "    <tr>\n",
       "      <th>995</th>\n",
       "      <td>995</td>\n",
       "      <td>62,52</td>\n",
       "      <td>H6965059338</td>\n",
       "      <td>F03013356</td>\n",
       "      <td>20980142W</td>\n",
       "      <td>['03410', '03410', '22440', '22440', '22440', ...</td>\n",
       "      <td>4,80</td>\n",
       "      <td>162.0</td>\n",
       "      <td>25.12.1993</td>\n",
       "      <td>24.01.1994</td>\n",
       "      <td>162.0</td>\n",
       "      <td>F03013356</td>\n",
       "      <td>29.01.1994</td>\n",
       "      <td>SULPICIO ESCOVAR FONSECA</td>\n",
       "    </tr>\n",
       "    <tr>\n",
       "      <th>996</th>\n",
       "      <td>996</td>\n",
       "      <td>119,20</td>\n",
       "      <td>U2093855017</td>\n",
       "      <td>B95960365</td>\n",
       "      <td>26934250P</td>\n",
       "      <td>['48902', '25162', '48902']</td>\n",
       "      <td>4,406</td>\n",
       "      <td>447.0</td>\n",
       "      <td>13.06.2011</td>\n",
       "      <td>13.07.2011</td>\n",
       "      <td>447.0</td>\n",
       "      <td>B95960365.</td>\n",
       "      <td>18.07.2011</td>\n",
       "      <td>Petrona Uribe Naranjo</td>\n",
       "    </tr>\n",
       "    <tr>\n",
       "      <th>998</th>\n",
       "      <td>998</td>\n",
       "      <td>70,79</td>\n",
       "      <td>IC6233558160</td>\n",
       "      <td>B40563520</td>\n",
       "      <td>32031898M</td>\n",
       "      <td>['46023', '46023', '02514', '02514', '02514', ...</td>\n",
       "      <td>3,84</td>\n",
       "      <td>236.0</td>\n",
       "      <td>23.06.2008</td>\n",
       "      <td>23.07.2008</td>\n",
       "      <td>236.0</td>\n",
       "      <td>B40563520</td>\n",
       "      <td>28.07.2008</td>\n",
       "      <td>Dela Anaya Naranjo</td>\n",
       "    </tr>\n",
       "    <tr>\n",
       "      <th>999</th>\n",
       "      <td>999</td>\n",
       "      <td>114,12</td>\n",
       "      <td>BD9767921453</td>\n",
       "      <td>B38920500</td>\n",
       "      <td>32433787S</td>\n",
       "      <td>['38002', '29016', '38002']</td>\n",
       "      <td>3,813</td>\n",
       "      <td>342.0</td>\n",
       "      <td>06.02.1997</td>\n",
       "      <td>08.03.1997</td>\n",
       "      <td>342.0</td>\n",
       "      <td>B38920500.</td>\n",
       "      <td>13.03.1997</td>\n",
       "      <td>KIRA GAITÁN QUESADA</td>\n",
       "    </tr>\n",
       "  </tbody>\n",
       "</table>\n",
       "<p>811 rows × 14 columns</p>\n",
       "</div>"
      ],
      "text/plain": [
       "     num importe_total numero_factura        cif        dni  \\\n",
       "0      0         19,78   SV5043664894  B90393497  73635161V   \n",
       "1      1        104,74    K9131055493  B88446406  90237166R   \n",
       "2      2         80,63    H4623704265  A11508629  74434368C   \n",
       "3      3        219,71   SF3956122542  A66531013  89901698B   \n",
       "5      5         99,81   KS8622022848  B24726044  13714122G   \n",
       "..   ...           ...            ...        ...        ...   \n",
       "994  994        109,52    U8552262546  B37547619  26727330L   \n",
       "995  995         62,52    H6965059338  F03013356  20980142W   \n",
       "996  996        119,20    U2093855017  B95960365  26934250P   \n",
       "998  998         70,79   IC6233558160  B40563520  32031898M   \n",
       "999  999        114,12   BD9767921453  B38920500  32433787S   \n",
       "\n",
       "                                                    cp potencia_contratada  \\\n",
       "0                          ['41410', '22394', '41410']               4,799   \n",
       "1                 ['21830', '21830', '21830', '28034']               4,524   \n",
       "2                          ['11510', '24149', '11510']               3,477   \n",
       "3                          ['08008', '25737', '08008']               3,317   \n",
       "5                 ['24920', '24920', '24920', '46740']               2,668   \n",
       "..                                                 ...                 ...   \n",
       "994  ['37188', '37188', '25737', '25737', '25737', ...                3,49   \n",
       "995  ['03410', '03410', '22440', '22440', '22440', ...                4,80   \n",
       "996                        ['48902', '25162', '48902']               4,406   \n",
       "998  ['46023', '46023', '02514', '02514', '02514', ...                3,84   \n",
       "999                        ['38002', '29016', '38002']               3,813   \n",
       "\n",
       "     consumo initial_date  final_date  nuevo_consumo   nuevo_cif fecha_cargo  \\\n",
       "0        0.0   26.08.2018  25.09.2018            0.0  B90393497.  30.09.2018   \n",
       "1      302.0   12.05.2020  11.06.2020          302.0   B88446406  16.06.2020   \n",
       "2      244.0   13.11.1999  13.12.1999          244.0  A11508629.  18.12.1999   \n",
       "3      740.0   28.10.2021  27.12.2021          740.0  A66531013.  01.01.2022   \n",
       "5      246.0   13.01.2018  14.03.2018          246.0   B24726044  19.03.2018   \n",
       "..       ...          ...         ...            ...         ...         ...   \n",
       "994    354.0   28.11.1995  28.12.1995          354.0   B37547619  02.01.1996   \n",
       "995    162.0   25.12.1993  24.01.1994          162.0   F03013356  29.01.1994   \n",
       "996    447.0   13.06.2011  13.07.2011          447.0  B95960365.  18.07.2011   \n",
       "998    236.0   23.06.2008  23.07.2008          236.0   B40563520  28.07.2008   \n",
       "999    342.0   06.02.1997  08.03.1997          342.0  B38920500.  13.03.1997   \n",
       "\n",
       "                 nombre_cliente  \n",
       "0       Conrado Daniel Iglesias  \n",
       "1       LEONARDA JARAMILLO BÁEZ  \n",
       "2    BENEDICTA GALLEGOS AGUILAR  \n",
       "3        Belinda Zetina Mijares  \n",
       "5      SATURNINO MALTÉS NARANJO  \n",
       "..                          ...  \n",
       "994    PETRONIO RAMÍREZ COLLADO  \n",
       "995    SULPICIO ESCOVAR FONSECA  \n",
       "996       Petrona Uribe Naranjo  \n",
       "998          Dela Anaya Naranjo  \n",
       "999         KIRA GAITÁN QUESADA  \n",
       "\n",
       "[811 rows x 14 columns]"
      ]
     },
     "execution_count": 1051,
     "metadata": {},
     "output_type": "execute_result"
    }
   ],
   "source": [
    "df_pred[df_pred['cp'].str.replace(\"[\",'').str.replace(\"]\",'').str.replace(\"'\",'').str.replace(\",\",\"\").str.split().apply(lambda x: len(set(x)) == 2)]"
   ]
  },
  {
   "cell_type": "code",
   "execution_count": 1019,
   "id": "ed31357a-ab29-459f-9304-3553004c61e7",
   "metadata": {
    "tags": []
   },
   "outputs": [
    {
     "data": {
      "text/plain": [
       "calle_cliente\n",
       "Calle           630\n",
       "Camino           91\n",
       "Avenida          41\n",
       "Plaza            39\n",
       "Travesia         36\n",
       "Carretera        25\n",
       "Lugar            22\n",
       "Paseo            17\n",
       "Finca            11\n",
       "Paraje            9\n",
       "Callejon          8\n",
       "Glorieta          8\n",
       "Senda             8\n",
       "Extraradio        6\n",
       "Parque            5\n",
       "Pasaje            5\n",
       "Urbanizacion      4\n",
       "Av                3\n",
       "Rotonda           2\n",
       "Ronda             2\n",
       "Cañada            2\n",
       "Subida            2\n",
       "Via               2\n",
       "Párroco           1\n",
       "Callejón          1\n",
       "Poblado           1\n",
       "Plazuela          1\n",
       "Diseminado        1\n",
       "C/                1\n",
       "Prolongacion      1\n",
       "Vereda            1\n",
       "Puente            1\n",
       "Carril            1\n",
       "Juan              1\n",
       "Barranco          1\n",
       "Túnel             1\n",
       "Muelle            1\n",
       "Pje               1\n",
       "Jardines          1\n",
       "Pista             1\n",
       "Colonia           1\n",
       "Carrera           1\n",
       "Poligono          1\n",
       "Ind.              1\n",
       "Urbanización      1\n",
       "Name: count, dtype: int64"
      ]
     },
     "execution_count": 1019,
     "metadata": {},
     "output_type": "execute_result"
    }
   ],
   "source": [
    "df[\"calle_cliente\"].str.split().apply(lambda x: x[0]).value_counts()"
   ]
  },
  {
   "cell_type": "code",
   "execution_count": 140,
   "id": "666419a5-a531-4cde-9a30-c65fb3f1e8fe",
   "metadata": {},
   "outputs": [],
   "source": [
    "#df_pred = pd.read_csv(\"predicciones.csv\")"
   ]
  },
  {
   "cell_type": "code",
   "execution_count": 890,
   "id": "d7e52064-5663-4db0-a4c7-f1e874337ca4",
   "metadata": {
    "tags": []
   },
   "outputs": [],
   "source": [
    "results = {}\n",
    "for column in df.columns:\n",
    "    acc = np.mean(df[column] == df_pred[column])\n",
    "    results[column] = acc"
   ]
  },
  {
   "cell_type": "code",
   "execution_count": 894,
   "id": "7620da01-6eea-4e10-a36e-f551fd227e2e",
   "metadata": {
    "tags": []
   },
   "outputs": [
    {
     "data": {
      "text/html": [
       "<div>\n",
       "<style scoped>\n",
       "    .dataframe tbody tr th:only-of-type {\n",
       "        vertical-align: middle;\n",
       "    }\n",
       "\n",
       "    .dataframe tbody tr th {\n",
       "        vertical-align: top;\n",
       "    }\n",
       "\n",
       "    .dataframe thead th {\n",
       "        text-align: right;\n",
       "    }\n",
       "</style>\n",
       "<table border=\"1\" class=\"dataframe\">\n",
       "  <thead>\n",
       "    <tr style=\"text-align: right;\">\n",
       "      <th></th>\n",
       "      <th>num</th>\n",
       "      <th>importe_total</th>\n",
       "      <th>numero_factura</th>\n",
       "      <th>cif</th>\n",
       "      <th>dni</th>\n",
       "      <th>cp</th>\n",
       "      <th>potencia_contratada</th>\n",
       "      <th>consumo</th>\n",
       "      <th>initial_date</th>\n",
       "      <th>final_date</th>\n",
       "      <th>nuevo_consumo</th>\n",
       "      <th>nuevo_cif</th>\n",
       "      <th>fecha_cargo</th>\n",
       "      <th>nombre_cliente</th>\n",
       "    </tr>\n",
       "  </thead>\n",
       "  <tbody>\n",
       "    <tr>\n",
       "      <th>210</th>\n",
       "      <td>210</td>\n",
       "      <td>177,83</td>\n",
       "      <td>VS8967966357</td>\n",
       "      <td>B88635289</td>\n",
       "      <td>62798546J</td>\n",
       "      <td>['28039', '06679', '28039']</td>\n",
       "      <td>4,443</td>\n",
       "      <td>608.0</td>\n",
       "      <td>03.01.2002</td>\n",
       "      <td>04.03.2002</td>\n",
       "      <td>608.0</td>\n",
       "      <td>B88635289.</td>\n",
       "      <td>09.03.2002</td>\n",
       "      <td>GIULIANA CABEZA</td>\n",
       "    </tr>\n",
       "    <tr>\n",
       "      <th>229</th>\n",
       "      <td>229</td>\n",
       "      <td>571,68</td>\n",
       "      <td>N6358153997</td>\n",
       "      <td>B87574463</td>\n",
       "      <td>75018883J</td>\n",
       "      <td>['50611', '50611', '50611', '28039']</td>\n",
       "      <td>3,069</td>\n",
       "      <td>1608.0</td>\n",
       "      <td>25.03.2006</td>\n",
       "      <td>24.05.2006</td>\n",
       "      <td>1608.0</td>\n",
       "      <td>B87574463</td>\n",
       "      <td>29.05.2006</td>\n",
       "      <td>Orfeo Maltés</td>\n",
       "    </tr>\n",
       "    <tr>\n",
       "      <th>818</th>\n",
       "      <td>818</td>\n",
       "      <td>46,04</td>\n",
       "      <td>X7650494853</td>\n",
       "      <td>A08800880</td>\n",
       "      <td>46486349Z</td>\n",
       "      <td>['08930', '50343', '08930']</td>\n",
       "      <td>4,186</td>\n",
       "      <td>89.0</td>\n",
       "      <td>08.05.1993</td>\n",
       "      <td>07.06.1993</td>\n",
       "      <td>89.0</td>\n",
       "      <td>A08800880.</td>\n",
       "      <td>12.06.1993</td>\n",
       "      <td>FE MOSCOA</td>\n",
       "    </tr>\n",
       "  </tbody>\n",
       "</table>\n",
       "</div>"
      ],
      "text/plain": [
       "     num importe_total numero_factura        cif        dni  \\\n",
       "210  210        177,83   VS8967966357  B88635289  62798546J   \n",
       "229  229        571,68    N6358153997  B87574463  75018883J   \n",
       "818  818         46,04    X7650494853  A08800880  46486349Z   \n",
       "\n",
       "                                       cp potencia_contratada  consumo  \\\n",
       "210           ['28039', '06679', '28039']               4,443    608.0   \n",
       "229  ['50611', '50611', '50611', '28039']               3,069   1608.0   \n",
       "818           ['08930', '50343', '08930']               4,186     89.0   \n",
       "\n",
       "    initial_date  final_date  nuevo_consumo   nuevo_cif fecha_cargo  \\\n",
       "210   03.01.2002  04.03.2002          608.0  B88635289.  09.03.2002   \n",
       "229   25.03.2006  24.05.2006         1608.0   B87574463  29.05.2006   \n",
       "818   08.05.1993  07.06.1993           89.0  A08800880.  12.06.1993   \n",
       "\n",
       "      nombre_cliente  \n",
       "210  GIULIANA CABEZA  \n",
       "229     Orfeo Maltés  \n",
       "818        FE MOSCOA  "
      ]
     },
     "execution_count": 894,
     "metadata": {},
     "output_type": "execute_result"
    }
   ],
   "source": [
    "df_pred[df['nombre_cliente'] != df_pred['nombre_cliente']].head(5)"
   ]
  },
  {
   "cell_type": "code",
   "execution_count": 896,
   "id": "d732c262-76f9-4498-a993-daa0f19d1217",
   "metadata": {
    "tags": []
   },
   "outputs": [
    {
     "data": {
      "text/html": [
       "<div>\n",
       "<style scoped>\n",
       "    .dataframe tbody tr th:only-of-type {\n",
       "        vertical-align: middle;\n",
       "    }\n",
       "\n",
       "    .dataframe tbody tr th {\n",
       "        vertical-align: top;\n",
       "    }\n",
       "\n",
       "    .dataframe thead th {\n",
       "        text-align: right;\n",
       "    }\n",
       "</style>\n",
       "<table border=\"1\" class=\"dataframe\">\n",
       "  <thead>\n",
       "    <tr style=\"text-align: right;\">\n",
       "      <th></th>\n",
       "      <th>num</th>\n",
       "      <th>importe_total</th>\n",
       "      <th>numero_factura</th>\n",
       "      <th>cif</th>\n",
       "      <th>dni</th>\n",
       "      <th>cp</th>\n",
       "      <th>potencia_contratada</th>\n",
       "      <th>consumo</th>\n",
       "      <th>initial_date</th>\n",
       "      <th>final_date</th>\n",
       "      <th>fecha_cargo</th>\n",
       "      <th>nombre_cliente</th>\n",
       "    </tr>\n",
       "  </thead>\n",
       "  <tbody>\n",
       "    <tr>\n",
       "      <th>210</th>\n",
       "      <td>210</td>\n",
       "      <td>177,83</td>\n",
       "      <td>VS8967966357</td>\n",
       "      <td>B88635289</td>\n",
       "      <td>62798546J</td>\n",
       "      <td>06679</td>\n",
       "      <td>4,443</td>\n",
       "      <td>608</td>\n",
       "      <td>03.01.2002</td>\n",
       "      <td>04.03.2002</td>\n",
       "      <td>09.03.2002</td>\n",
       "      <td>GIULIANA CABEZA</td>\n",
       "    </tr>\n",
       "    <tr>\n",
       "      <th>229</th>\n",
       "      <td>229</td>\n",
       "      <td>571,68</td>\n",
       "      <td>N6358153997</td>\n",
       "      <td>B87574463</td>\n",
       "      <td>75018883J</td>\n",
       "      <td>50611</td>\n",
       "      <td>3,069</td>\n",
       "      <td>1608</td>\n",
       "      <td>25.03.2006</td>\n",
       "      <td>24.05.2006</td>\n",
       "      <td>29.05.2006</td>\n",
       "      <td>Orfeo Maltés</td>\n",
       "    </tr>\n",
       "    <tr>\n",
       "      <th>818</th>\n",
       "      <td>818</td>\n",
       "      <td>46,04</td>\n",
       "      <td>X7650494853</td>\n",
       "      <td>A08800880</td>\n",
       "      <td>46486349Z</td>\n",
       "      <td>50343</td>\n",
       "      <td>4,186</td>\n",
       "      <td>89</td>\n",
       "      <td>08.05.1993</td>\n",
       "      <td>07.06.1993</td>\n",
       "      <td>12.06.1993</td>\n",
       "      <td>FE MOSCOA</td>\n",
       "    </tr>\n",
       "  </tbody>\n",
       "</table>\n",
       "</div>"
      ],
      "text/plain": [
       "     num importe_total numero_factura        cif        dni     cp  \\\n",
       "210  210        177,83   VS8967966357  B88635289  62798546J  06679   \n",
       "229  229        571,68    N6358153997  B87574463  75018883J  50611   \n",
       "818  818         46,04    X7650494853  A08800880  46486349Z  50343   \n",
       "\n",
       "    potencia_contratada  consumo initial_date  final_date fecha_cargo  \\\n",
       "210               4,443      608   03.01.2002  04.03.2002  09.03.2002   \n",
       "229               3,069     1608   25.03.2006  24.05.2006  29.05.2006   \n",
       "818               4,186       89   08.05.1993  07.06.1993  12.06.1993   \n",
       "\n",
       "       nombre_cliente  \n",
       "210  GIULIANA CABEZA   \n",
       "229     Orfeo Maltés   \n",
       "818        FE MOSCOA   "
      ]
     },
     "execution_count": 896,
     "metadata": {},
     "output_type": "execute_result"
    }
   ],
   "source": [
    "df[df['nombre_cliente'] != df_pred['nombre_cliente']].head(5)"
   ]
  },
  {
   "cell_type": "code",
   "execution_count": 429,
   "id": "27794c21-66f6-4909-b32a-08d0c0d8a0a4",
   "metadata": {},
   "outputs": [
    {
     "data": {
      "text/plain": [
       "0.993"
      ]
     },
     "execution_count": 429,
     "metadata": {},
     "output_type": "execute_result"
    }
   ],
   "source": [
    "np.mean(df[\"cif\"] == df_pred[\"nuevo_cif\"])"
   ]
  },
  {
   "cell_type": "code",
   "execution_count": 892,
   "id": "c3ffa7ae-c749-47fe-9557-56bdf04f9ead",
   "metadata": {
    "tags": []
   },
   "outputs": [
    {
     "data": {
      "text/plain": [
       "{'num': 1.0,\n",
       " 'importe_total': 1.0,\n",
       " 'numero_factura': 1.0,\n",
       " 'cif': 0.921,\n",
       " 'dni': 1.0,\n",
       " 'cp': 0.053,\n",
       " 'potencia_contratada': 0.8,\n",
       " 'consumo': 1.0,\n",
       " 'initial_date': 1.0,\n",
       " 'final_date': 1.0,\n",
       " 'fecha_cargo': 1.0,\n",
       " 'nombre_cliente': 0.997}"
      ]
     },
     "execution_count": 892,
     "metadata": {},
     "output_type": "execute_result"
    }
   ],
   "source": [
    "results"
   ]
  },
  {
   "cell_type": "code",
   "execution_count": 879,
   "id": "86252578-696a-4c3a-beb6-94838871b1e6",
   "metadata": {
    "tags": []
   },
   "outputs": [],
   "source": [
    "nombre_cliente = []\n",
    "for num in range(1000):\n",
    "    text = pdfminer_text[f\"{num}\"]\n",
    "    \n",
    "    #Nombre cliente\n",
    "\n",
    "    re_client_name = re.compile(r\"Nombre.*|titular.*\", re.IGNORECASE)\n",
    "\n",
    "    matches = re_client_name.findall(text)\n",
    "\n",
    "    if matches:\n",
    "        client_name = [match.split(\":\")[1].strip() for match in matches if \":\" in match]\n",
    "        if len(set(client_name)) != 1:\n",
    "            client_name = None\n",
    "        else:\n",
    "            client_name = client_name[0]\n",
    "    \n",
    "    nombre_cliente.append(client_name)"
   ]
  },
  {
   "cell_type": "code",
   "execution_count": 886,
   "id": "4d1a0ac2-1637-4104-a242-b69d8a542e0f",
   "metadata": {
    "tags": []
   },
   "outputs": [
    {
     "name": "stderr",
     "output_type": "stream",
     "text": [
      "/tmp/ipykernel_6775/1005520274.py:1: SettingWithCopyWarning: \n",
      "A value is trying to be set on a copy of a slice from a DataFrame.\n",
      "Try using .loc[row_indexer,col_indexer] = value instead\n",
      "\n",
      "See the caveats in the documentation: https://pandas.pydata.org/pandas-docs/stable/user_guide/indexing.html#returning-a-view-versus-a-copy\n",
      "  df_pred[\"nombre_cliente\"] = nombre_cliente\n"
     ]
    }
   ],
   "source": [
    "df[\"nombre_cliente\"] = nombre_cliente"
   ]
  },
  {
   "cell_type": "markdown",
   "id": "13f10abb-24fb-4b0b-b15a-6ea4b29ec54f",
   "metadata": {},
   "source": [
    "##### Pruebas cif"
   ]
  },
  {
   "cell_type": "code",
   "execution_count": 417,
   "id": "11916ef4-b306-4859-b834-fd91baa728bf",
   "metadata": {
    "tags": []
   },
   "outputs": [],
   "source": [
    "nuevo_cif = []\n",
    "for num in range(1000):\n",
    "    pdf_path = f\"training/factura_{num}.pdf\"\n",
    "    \n",
    "    text = pdfminer_text[f\"{num}\"]\n",
    "    \n",
    "    re_cif = re.compile(r\"\\bcif\\b(?::)?(?:\\s*)?(\\w+)\", re.IGNORECASE)\n",
    "\n",
    "    matches = re_cif.findall(text)\n",
    "    cif = extract_result(matches)\n",
    "\n",
    "    #Si no encontramos ningún match probamos con otro extractor de texto\n",
    "    if not cif:\n",
    "        reader = PyPDF2.PdfReader(pdf_path)\n",
    "\n",
    "        # Obtener el número de páginas\n",
    "        num_pages = len(reader.pages)\n",
    "\n",
    "        # Buscamos el cif en cada página\n",
    "        for page_num in range(num_pages):\n",
    "            page = reader.pages[page_num]\n",
    "            text = page.extract_text()\n",
    "            matches = re_cif.findall(text)\n",
    "            if matches:\n",
    "                cif = extract_result(matches)\n",
    "            break\n",
    "    \n",
    "    nuevo_cif.append(cif)"
   ]
  },
  {
   "cell_type": "code",
   "execution_count": null,
   "id": "4992ca7b-8553-41ef-8313-88a11ffb7154",
   "metadata": {
    "tags": []
   },
   "outputs": [],
   "source": [
    "nuevo_cif"
   ]
  },
  {
   "cell_type": "code",
   "execution_count": null,
   "id": "7dde4cc6-6b5d-4792-9c30-ae94499e1a81",
   "metadata": {
    "tags": []
   },
   "outputs": [
    {
     "ename": "TypeError",
     "evalue": "'str' object cannot be interpreted as an integer",
     "output_type": "error",
     "traceback": [
      "\u001b[0;31m---------------------------------------------------------------------------\u001b[0m",
      "\u001b[0;31mTypeError\u001b[0m                                 Traceback (most recent call last)",
      "Cell \u001b[0;32mIn[735], line 9\u001b[0m\n\u001b[1;32m      5\u001b[0m text \u001b[38;5;241m=\u001b[39m pdfminer_text[\u001b[38;5;124mf\u001b[39m\u001b[38;5;124m\"\u001b[39m\u001b[38;5;132;01m{\u001b[39;00mnum\u001b[38;5;132;01m}\u001b[39;00m\u001b[38;5;124m\"\u001b[39m]\n\u001b[1;32m      7\u001b[0m re_cif \u001b[38;5;241m=\u001b[39m re\u001b[38;5;241m.\u001b[39mcompile(\u001b[38;5;124mr\u001b[39m\u001b[38;5;124m\"\u001b[39m\u001b[38;5;124mcif?[^\u001b[39m\u001b[38;5;124m\\\u001b[39m\u001b[38;5;124mn]*?\u001b[39m\u001b[38;5;124m\\\u001b[39m\u001b[38;5;124mb([A-Z]\u001b[39m\u001b[38;5;124m\\\u001b[39m\u001b[38;5;124md\u001b[39m\u001b[38;5;132;01m{8}\u001b[39;00m\u001b[38;5;124m)\u001b[39m\u001b[38;5;124m\\\u001b[39m\u001b[38;5;124mb\u001b[39m\u001b[38;5;124m\"\u001b[39m, re\u001b[38;5;241m.\u001b[39mIGNORECASE)\n\u001b[0;32m----> 9\u001b[0m matches \u001b[38;5;241m=\u001b[39m re_cif\u001b[38;5;241m.\u001b[39mfindall(\u001b[38;5;124mr\u001b[39m\u001b[38;5;124m\"\u001b[39m\u001b[38;5;124mcif?[^\u001b[39m\u001b[38;5;124m\\\u001b[39m\u001b[38;5;124mn]*?\u001b[39m\u001b[38;5;124m\\\u001b[39m\u001b[38;5;124mb([A-Z]\u001b[39m\u001b[38;5;124m\\\u001b[39m\u001b[38;5;124md\u001b[39m\u001b[38;5;132;01m{8}\u001b[39;00m\u001b[38;5;124m)\u001b[39m\u001b[38;5;124m\\\u001b[39m\u001b[38;5;124mb\u001b[39m\u001b[38;5;124m\"\u001b[39m, text, re\u001b[38;5;241m.\u001b[39mIGNORECASE)\n",
      "\u001b[0;31mTypeError\u001b[0m: 'str' object cannot be interpreted as an integer"
     ]
    }
   ],
   "source": [
    "num = 41\n",
    "\n",
    "pdf_path = f\"training/factura_{num}.pdf\"\n",
    "\n",
    "text = pdfminer_text[f\"{num}\"]\n",
    "\n",
    "re_cif = re.compile(r\"cif?[^\\n]*?\\b([A-Z]\\d{8})\\b\", re.IGNORECASE)\n",
    "\n",
    "matches = re_cif.findall(text)"
   ]
  },
  {
   "cell_type": "code",
   "execution_count": null,
   "id": "6c776050-7fe1-4584-983f-3f4d07e37c49",
   "metadata": {},
   "outputs": [
    {
     "data": {
      "text/plain": [
       "['DK36201770']"
      ]
     },
     "execution_count": 771,
     "metadata": {},
     "output_type": "execute_result"
    }
   ],
   "source": [
    "re.findall(r\"cif(?::)?(?:\\s*)?([^ ]*)\", text, re.IGNORECASE)"
   ]
  },
  {
   "cell_type": "code",
   "execution_count": null,
   "id": "bfeb6096-b819-48d4-bf82-47688dddbeec",
   "metadata": {
    "tags": []
   },
   "outputs": [],
   "source": [
    "cif = extract_result(matches)\n",
    "\n",
    "#Si no encontramos ningún match probamos con otro extractor de texto\n",
    "if not cif:\n",
    "    reader = PyPDF2.PdfReader(pdf_path)\n",
    "\n",
    "    # Obtener el número de páginas\n",
    "    num_pages = len(reader.pages)\n",
    "\n",
    "    # Buscamos el cif en cada página\n",
    "    for page_num in range(num_pages):\n",
    "        page = reader.pages[page_num]\n",
    "        text = page.extract_text()\n",
    "        matches = re_cif.findall(text)\n",
    "        if matches:\n",
    "            cif = extract_result(matches)\n",
    "        break"
   ]
  },
  {
   "cell_type": "code",
   "execution_count": 423,
   "id": "a4c30e29-b98e-4079-ad0c-d9d6f55e7012",
   "metadata": {
    "tags": []
   },
   "outputs": [],
   "source": [
    "df_pred = pd.read_csv('predicciones_editadas.csv')"
   ]
  },
  {
   "cell_type": "code",
   "execution_count": 425,
   "id": "4d5f6dda-03b4-4fc6-a940-922878261999",
   "metadata": {},
   "outputs": [],
   "source": [
    "df_pred[\"nuevo_cif\"] = nuevo_cif"
   ]
  },
  {
   "cell_type": "markdown",
   "id": "aef7d6a2-9b40-4986-895a-2008af8c0fba",
   "metadata": {},
   "source": [
    "### Resultados\n",
    "- Los fallos en la potencia contratada son porque para un tipo de factura los datos que obtienen ellos estan mal"
   ]
  },
  {
   "cell_type": "code",
   "execution_count": 1353,
   "id": "28a5a36a-2ada-42be-bbc4-69104a4ed8b5",
   "metadata": {},
   "outputs": [],
   "source": [
    "df_pred.to_csv(\"predicciones_editadas.csv\", index = False)"
   ]
  },
  {
   "cell_type": "markdown",
   "id": "69b7a00c-b60c-4c49-a4dc-01a827635cb9",
   "metadata": {},
   "source": [
    "# cosas"
   ]
  },
  {
   "cell_type": "code",
   "execution_count": 42,
   "id": "809e0666-4dd8-4c51-a227-9c4f1c296133",
   "metadata": {
    "scrolled": true,
    "tags": []
   },
   "outputs": [
    {
     "name": "stdout",
     "output_type": "stream",
     "text": [
      "        L...u..n..e..s.. .a.. .s..á..b..a..d..o..,. .d..e.. .8.. .a.. .2..2.. .h..o..r.a..s.......................... \n",
      "Contratación Productos y Servicios  XXXXXXX  \n",
      "Reclamaciones  e incidencias    900 101 022   \n",
      " \n",
      "C/ LABASTIDA, 2, 28034 - MADRID  \n",
      "Si quiere  una atención  más personalizada  puede  acudir  a alguno  de los centros  que LYS ENERGIAS RENOVABLES, \n",
      "S.L tiene  a su  servicio. Encuentre el más cercano en http://enigma -technologies.com/ /centros o desde su móvil en  \n",
      "http://enigma -technologies.com/ /.mobi.  2..4.. .h..o...r.a..s.. ./. .3..6..5.. .d..í.a..s.. .d..e..l. .a..ñ..o................................... \n",
      "Web    http://enigma -technologies.com/  \n",
      "Reparación  urgente  de calderas  \n",
      "y electrodomésticos  XXX XXX XXX  \n",
      "Lectura  del contador  XXX  XXX XXX  \n",
      "http://enigma -technologies.com/ /lecturas  \n",
      "Averías  eléctricas  900 101 061    \n",
      " \n",
      " \n",
      "  LYS ENERGIAS RENOVABLES, S.L  \n",
      " Fecha  de emisión:  13.06.2020   \n",
      "Nº factura:  K9131055493  \n",
      "Nombre:  LEONARDA JARAMILLO BÁEZ  \n",
      "Dirección  suministro:  Camino de los Pelendengues  \n",
      "21830 Bonares  \n",
      "Nº Referencia:  673529209761/1194  \n",
      "Nº cliente:  XXXXXXX  \n",
      "NIF: 90237166R  \n",
      "Dirección:  Camino de los Pelendengues 21830 Bonares  \n",
      "Entidad:  Banco de Albacete, S.A.  \n",
      "Datos bancarios:  IBAN ES00914408492265477*****  \n",
      " Fecha  de cargo:  16.06.2020  LEONARDA JARAMILLO BÁEZ  \n",
      "Camino de los Pelendengues  \n",
      "21830  - Bonares  -  \n",
      "Huelva  \n",
      "Esta factura  será cargada  en cuenta  siguiendo  el mandato  E95833021887783480064624068  \n",
      "¿Son  correctos  sus datos  personales?  \n",
      "Puede  actualizarlos  online  en su Área  Privada  de la web entrando  en http://enigma -technologies.com/ /misdatos  \n",
      "104,74  € Total  a pagar  \n",
      "electricidad  PVPC sin discriminación horaria   Contrato: 4077 82674809 ....... ............ ............ ............ ..........  \n",
      "Del 12.05.2020  al 11.06.2020  (30 días = 1,000000  meses)  \n",
      "Consumo  electricidad  \n",
      "    Período  de 12.05.2020  a 11.06.2020  \n",
      " \n",
      "Término  de potencia  (4,524  kW) \n",
      "    Período  de 12.05.2020  a 11.06.2020  302 kWh  \n",
      " \n",
      " \n",
      "30 días 0,266211  €/kWh  \n",
      " \n",
      "0,114399  €/kW día  80,40  € \n",
      " \n",
      "15,51  € \n",
      "Subtotal  \n",
      "Impuesto  electricidad  \n",
      "Otros conceptos electricidad  \n",
      "        Alquiler  de contador  \n",
      "Total  electricidad  \n",
      " Base  imponible  \n",
      "IGIC  1% \n",
      "Base imponible   \n",
      "IGIC  6,5% \n",
      "Total  factura  95,91  € 5,1127 %  4,90 € \n",
      "30 días 0,091475  €/día  2,74 € \n",
      "                                                                          103,55  € \n",
      "100,81  € \n",
      "1,01 € \n",
      "2,74 € \n",
      "0,18 € \n",
      "104,74  € \n",
      "Ideas que facilitan su día a día ......... ............ ............ ............ ............ ......  \n",
      "¿Conoce  ya nuestro  servicio  de reparación  y mantenimiento  de calderas?  Con Servigas  contará  con asistencia  ante cualquier  avería  en \n",
      "menos  de 3 horas, las  24 horas del  día, los  365 días del  año y  tendrá garantizada  la revisión  anual de su  caldera o  calentador.  \n",
      "Consulte  las condiciones  de este servicio  y contrate  Servigas  entrando  en http://enigma -technologies.com/  y obtendrá   un 50% de \n",
      "descuento  durante  el primer  año. \n",
      "Canales para contactar con LYS ENERGIAS RENOVABLES, S.L  \n",
      "Dese  de alta gratis  en http://enigma -technologies.com/ /mifactura  LYS ENERGIAS RENOVABLES, S.L. Dom. Social: C/ LABASTIDA, 2, 28034 - MADRID. MADRID, tomo 38998, folio 32, sección 7, hoja número M -65333, inscripción 130. CIF \n",
      "B88446406 .   \n",
      "  \n",
      "                                                                                        95,91  €   Las cuentas claras ......... ............ ............ ............ ............ ............ .............  \n",
      "A continuación  le presentamos  información  detallada  sobre  su/s contrato/s  y factura.  \n",
      "Electricidad  \n",
      "Nº contrato de acceso  \n",
      "(INPECUARIAS VILLARALTO S.L ): 407782674809  \n",
      "Fecha  final de contrato:  11.06.2020  \n",
      "Datos  instalación  electricidad  \n",
      "Potencia  contratada:  4,524  kW \n",
      "Tarifa de acceso:  2.0A  \n",
      "Cuantía Peaje:1 XX,XX € \n",
      "Código  CUPS:  ES4198318172752485CLJB  \n",
      " Información  lecturas  / consumos  \n",
      "Lectura  actual:  \n",
      "Lectura anterior:  \n",
      "Consumo:  Llano real  \n",
      "Llano real  \n",
      "Llano  11.06.2020  \n",
      "12.05.2020  9260  kWh \n",
      "8958  kWh \n",
      "302 kWh \n",
      "Los costes  de energía  que se le aplican  se determinan  en el BOE  de \n",
      "fecha 26.12.20 XX. Servicio: 97,337%, Permanentes: 0,150%,  \n",
      "Diversificación  y Seguridad  de abastecimiento:  2,513%.  \n",
      "Se aplica el precio del alquil er según BOE N 185 de 03.08.20XX . \n",
      "Composición del término de energía: precio fijo (0,0 XXXXX  euros/kWh y  \n",
      "0,0XXXXX  euros/kWh),  peaje  acceso¹  (0,0XXXXX  euros/kWh)  y otros  \n",
      "costes  regulados¹  (0,0XXXX  euros/kWh  y 0,0XXXXX  euros/kWh).  \n",
      "Electricidad  \n",
      "Consumo periodo 1 real  \n",
      "Consumo  periodo  2 real Consumo  periodo  1 estimado  \n",
      "Consumo  periodo  2 estimado  \n",
      "1800  \n",
      "1600  \n",
      "1400  \n",
      "1200  \n",
      "1000  \n",
      "800 \n",
      "600 \n",
      "400 \n",
      "200 \n",
      "0 \n",
      "1 Importe que la compañía comercializadora debe pagar a la compañía distribuidora correspondiente a la facturación de acceso a su red, de acuerdo  \n",
      "con el tipo de peaje  aplicable  de conformidad  con el Real Decreto  1164/20 XX de 26 de octubre  para energía  eléctrica  y Real Decreto  949/2 001 de 3 \n",
      "de  agosto  para gas natural.  \n",
      "Si desea  información  detallada  sobre  su/s contrato/s  e histórico  de consumo,  entre  en su Área  Privada  en http://enigma -technologies.com/ /areaprivada.  \n",
      "Información de interés ........ ............ ............ ............ ............ ............ ........  Ene. X \n",
      "Feb. X\n",
      "Mar.X  \n",
      "Abr.X\n",
      "May.X  \n",
      "Jun.X  \n",
      "Jul.X  \n",
      "Ago.X\n",
      "Sep.X  \n",
      "Oct.X  \n",
      "Nov.X\n",
      "Dic.X  \n",
      "Ene.X\n",
      "Feb.X  \n",
      "Mar.X\n",
      "Abr.X  \n",
      "May.X\n",
      "Jun.X  \n",
      "Jul.X  \n",
      "Ago.X\n",
      "Sep.X  \n",
      "Oct.X  \n",
      "Nov.X\n",
      "Dic.X    \n",
      "  \n",
      "         Destino del importe de la factura ......... ............ ............ ............ ............ .. \n",
      "El destino  del importe  de su  factura,  104,74  euros,  es el siguiente:  \n",
      "Coste  de producción  de electricidad  \n",
      "XX,XX € Impuestos  aplicados  \n",
      "Costes  regulados  \n",
      "XX,XX € Incentivos  a las energías  renovables,  cogeneración  y residuos  \n",
      "XX,XX € Coste  de redes  de distribución  y transporte  \n",
      "XX,XX € Otros costes regulados  (incluida  \n",
      "la anualidad  del déficit)  \n",
      "XX,XX € \n",
      "X,XX € \n",
      "A los  importes  indicados en  el diagrama debe  añadirse,  en su  caso,  el alquiler  de los equipos  de medida y  control  u otros  conceptos.   \n",
      " \n",
      "  \n"
     ]
    }
   ],
   "source": [
    "reader = PyPDF2.PdfReader(\"training/factura_1.pdf\")\n",
    "    \n",
    "# Obtener el número de páginas\n",
    "num_pages = len(reader.pages)\n",
    "\n",
    "# Extraer texto de todas las páginas\n",
    "all_text = \"\"\n",
    "for page_num in range(num_pages):\n",
    "    page = reader.pages[page_num]\n",
    "    all_text += page.extract_text()\n",
    "print(all_text)"
   ]
  },
  {
   "cell_type": "code",
   "execution_count": 36,
   "id": "726f9c5c-c483-4ce3-8ac2-1613359a6893",
   "metadata": {
    "tags": []
   },
   "outputs": [
    {
     "data": {
      "text/plain": [
       "'DATOS  DE LA FACTURA  Nº factura:  J8985000598  Referencia:  956772786605/7586  Fecha  emisión  factura:  21/10/2009  Periodo  de Facturación:  del 20/08/2009  a 19/10/2009  (60 días)  Fecha  de cargo:  24 de octubre de 2009  ............................................................................................................................. .......................................  CAPITAL ENERGY COMERCIALIZADORA, S.L.U . CIF B88575063 . CALLE MARQUÉS DE VILLAMAGNA Nº 3 - 5ª PLANTA (TORRE SERRANO)  28001  - MADRID  GERALDINE FRÍAS UREÑA   Finca Javega  01015  Vitoria -Gasteiz  Araba/Álava  Forma  de pago:  Domiciliada  Potencia  Energía  Descuentos  Otros  Impuestos  IGIC  reducido  20,42  € 79,90  € -X,XX € 0,93 € 5,13 € 15,82  € Fecha  de cargo:  24 de octubre de 2009  IBAN:  ES01457803845316340*****  Cod.Mandato:  E90255220703511896184926562  ( 15%) Versión:  3695  IGIC  normal  ( 21%) 0,20 € ............................................................................................................................. ..............  Su pago  se justifica  con el correspondiente  apunte  bancario  (Detalle de  la factura en  el reverso)  Consumo  en el periodo  punta  Consumo  en el periodo  valle  kWh  Evolución  del consumo  770 De 12h a 22h De 22h a 12h ............................................................................................................................. ...........................  Lectura  anterior  660 550 (real)  67601  kWh  XXX kWh  (20-agosto -2009 ) ............................................................................................................................. ...........................  Lectura actual  440 330 (real)  67881  kWh  XXX kWh  220 (19-octubre -2009 ) ............................................................................................................................. ...........................  Consumo  110 0 en el periodo  280 kWh  XXX kWh  ENE FEB  XX     XX Cons.Valle  Real Media  Cons.Punta  Real XX% X,XX €/día  en esta factura.  X,XX €/día durante los últimos 14 meses.  Consumo  acumulado  (último  año):  X.XXX kWh Valle  XX% REPARTO  CONSUMO  .......................................................................  ....................................................................................................  CAPITAL ENERGY COMERCIALIZADORA, S.L.U. Inscrita en el Registro Mercantil de MADRID, tomo 28106, folio 34, sección 9, hoja número M -288772, inscripción 199, CIF B88575063. Domicilio Social: CALLE MARQUÉS DE VILLAMAGNA Nº 3 - 5ª PLANTA (TORRE SERRANO), 28001  - MADRID   XXXXX -X-XX/XX/XX NXXXXXXNNNN   280   XXX                                      INFORMACIÓN  DEL CONSUMO  ELÉCTRICO  122,40  € TOTAL  IMPORTE  FACTURA  RESUMEN  DE LA FACTURA  Y DATOS  DE PAGO    79,90  € Importe  por energía consumida:  280 kWh x 0,285363  Eur/kWh       DATOS  DEL CONTRATO  Titular  del contrato:  GERALDINE FRÍAS UREÑA  NIF: 19863450Y  Dirección  de suministro:  Finca Javega, Vitoria -Gasteiz, Araba/Álava  Número  de contador:  583880785  Su comercializadora:  CAPITAL ENERGY COMERCIALIZADORA, S.L.U  Su distribuidora:  SERVICIOS Y SUMINISTROS MUNICIPALES ARAS SL  Referencia del contrato de acceso: 508864484183  Peaje  de acceso:  2.0A Fin de contrato  de suministro:  19/10/2009   (renovación  anual  automática)  CUPS:  ES5270720224730765OBLV  El destino del importe de su  factura,  122,40  euros,  es el siguiente:  LUZ Importe  por potencia  contratada:  3,01  kW x 0,113031  Eur/kW  x 60 días 20,42  € X,XX € En dicho  importe,  facturación  por peaje  de acceso:  3,01 kW x 37,587816  Eur/kW  y año x (60/365) días         18,60  € XX,XX € 20,42  € XX,XX € En dicho  importe,  su facturación  por peaje  de acceso  ha sido:  Consumo  P1 280 kWh x 0,149088  Eur/kWh   41,74  € Incentivos  a las energías  renovables,  cogeneración  y residuos  Coste  de redes  de transporte  y distribución  Otros  costes  regulados  (incluida  la anualidad  del déficit)  XX,XX € XX,XX  € X,XX  € 79,90  € SUBTOTAL  100,32  € A los importes  indicados  en el diagrama  debe  añadirse,  en su caso,  el importe  del alquiler  de los equipos  de medida  y control  así como  los conceptos  no energéticos.  OTROS  CONCEPTOS  Descuento  por e-factura  79,90  Eur x -X % DTO  -X,XX €  Descuento  -X % x 100,32  Eur -X,XX €   Impuesto  electricidad  ( 100,32  X 5,1127  % )  5,13 €  Alquiler  equipos  de medida  y control  (60 días x  0,015452  Eur/día)   0,93 € SUBTOTAL  Importe  total  IGIC reducido  ( 15%) 15% s/ 105,45  6,06 € 106,38  € 15,82  € 0,20 € IGIC normal  ( 21%) 21% s/ 0,93 TOTAL  IMPORTE  FACTURA  122,40  € Precios  de los términos  del peaje  de acceso  publicados  en Orden  TEC/1366/2018.  Precio  del alquiler  de los equipos  de medida  y control  en Orden  IET 1491/2013  de 3 de agosto.  Los precios  de la energía  de esta tarifa  se han actualizado  el 01/01/20XX  trasladando  las variaciones  reguladas  en la Orden  TEC/1366/2018  de 20 de diciembre,  en la Orden  IET/2013/2013  de 31 de octubre  y en la Resolución  de 6 de noviembre  de 2018  de la Secretaría  de Estado  de Energía.  Con esta tarifa  se beneficia  de un descuento  permanente  y le recordamos  que, si más de un 50% del consumo  lo realiza  en horas  valle  (22-12h en invierno  y 23-13h en verano),  tendrá  un descuento  adicional,  además  de ayudar  a proteger  el medio  ambiente.  Para  más información  puede  llamar  al servicio  de atención  al cliente  o consultar  nuestra  web.  900 525 182  (tlf. gratuito)   www.luce.es   atencionalcliente@luce.es  Reclamaciones  CALLE MARQUÉS DE VILLAMAGNA Nº 3 - 5ª PLANTA (TORRE SERRANO), 28001 - MADRID  Urgencias   900 373 970  (tlf. gratuito)  Para  reclamaciones  sobre  el contrato  de suministro  o facturaciones  podrá  dirigirse  a: Consejería  de Empleo,  Industria  y Comercio  de la Comunidad  Autónoma  de Canarias en el  teléfono: 928  XXX XXX  o a través de  su página  web. http://www.gobcan.es/ceic/energia  .....................................................  ............................................  ATENCIÓN  AL CLIENTE:  CONSULTAS,  GESTIONES  Y RECLAMACIONES  24 HORAS  INFORMACIÓN  DE SU PRODUCTO  Costes  Regulados  Coste  de producción  de electricidad  Impuestos  aplicados  DESTINO  DEL IMPORTE  DE LA FACTURA  DETALLE  DE LA FACTURA  Producto  contratado: PVPC sin discriminación horaria  Potencia  contratada:  3,012  kW  Referencia  del contrato:  6877419205534        INFORMACIÓN  SOBRE  SU ELECTRICIDAD  Fuente: CNMC  (Comisión  Nacional  de los  Mercados  y Competencia), http://gdo.cnmc.es/CNE/resumenGdo.do?  XXXXX -X-XX/XX/XX NXXXXXXNNNN  El impacto  ambiental  de su electricidad  depende  de las fuentes  energéticas  utilizadas  para su generación.  En una escala  de A a G donde  A indica  el mínimo  impacto  ambiental  y G el máximo,  y que el valor  medio  nacional  corresponde  al nivel D, la energía  comercializada por CAPITAL ENERGY COMERCIALIZADORA, S.L.U . tiene los siguientes valores:   IMPACTO  MEDIOAMBIENTAL   ORIGEN  DE LA ELECTRICIDAD  Si bien la energía  eléctrica  que llega  a nuestros  hogares  es indistinguible  de la que consumen  nuestros  vecinos  u otros  consumidores  conectados  al mismo  sistema  eléctrico,  ahora  sí es posible  garantizar  el origen  de la producción  de energía  eléctrica  que usted  consume.  A estos  efectos  se proporciona  el desglose  de la mezcla  de tecnologías  de producción  nacional  para así comparar  los porcentajes  del promedio  nacional  con los correspondientes  a la energía  vendida  por su Compañía  Comercializadora.    '"
      ]
     },
     "execution_count": 36,
     "metadata": {},
     "output_type": "execute_result"
    }
   ],
   "source": [
    "pdf_files['65']"
   ]
  },
  {
   "cell_type": "code",
   "execution_count": 303,
   "id": "e9b09ac7-e0cb-49c1-b44a-10625d28441a",
   "metadata": {
    "tags": []
   },
   "outputs": [],
   "source": [
    "re_dni = r\"\\b\\d{8}[A-Z]\\b\"\n",
    "re_cif_national = r\"\\b[A-Z]\\d{8}\\b\"\n",
    "re_cif_foreign = r\"\\b[A-Z]{2}\\d{6,8}\\b\""
   ]
  },
  {
   "cell_type": "code",
   "execution_count": 305,
   "id": "2fd5339e-3f40-4127-b35b-c863de1e2918",
   "metadata": {
    "tags": []
   },
   "outputs": [],
   "source": [
    "bill_dni_cif = {}\n",
    "for bill_id, text in pdf_files.items():\n",
    "    dni = set(re.findall(re_dni, text))\n",
    "    dni = list(dni)[0] if len(dni) == 1 else None\n",
    "    \n",
    "    cif = set(re.findall(re_cif_national, text))\n",
    "    \n",
    "    if len(cif) == 1:\n",
    "        cif = list(cif)[0]\n",
    "    else:\n",
    "        cif = set(re.findall(re_cif_foreign, text))\n",
    "        cif = list(cif)[0] if len(cif) == 1 else None\n",
    "    \n",
    "    bill_dni_cif[bill_id] = [dni, cif]"
   ]
  },
  {
   "cell_type": "code",
   "execution_count": 306,
   "id": "7012160f-2501-448f-be19-7c82348b9a94",
   "metadata": {
    "tags": []
   },
   "outputs": [],
   "source": [
    "preds_dic = {}\n",
    "for i in range(1000):\n",
    "    pred_dni, pred_cif = bill_dni_cif[i]\n",
    "    \n",
    "    dni = json_files[i]['dni_cliente']\n",
    "    cif = json_files[i]['cif_comercializadora']\n",
    "    \n",
    "    preds_dic[i] = [bool(pred_dni == dni), bool(pred_cif == cif)]"
   ]
  },
  {
   "cell_type": "code",
   "execution_count": 308,
   "id": "f0aeaaa6-60d9-4de4-9c41-a269e2584226",
   "metadata": {
    "tags": []
   },
   "outputs": [],
   "source": [
    "df = pd.DataFrame(preds_dic.values(), columns = ['dni', 'cif'])"
   ]
  },
  {
   "cell_type": "code",
   "execution_count": 311,
   "id": "34f82441-89ce-40f4-a573-28b43a247bce",
   "metadata": {
    "tags": []
   },
   "outputs": [
    {
     "data": {
      "text/plain": [
       "65"
      ]
     },
     "execution_count": 311,
     "metadata": {},
     "output_type": "execute_result"
    }
   ],
   "source": [
    "len([data[1] for data in bill_dni_cif.values() if data[1] == None])"
   ]
  },
  {
   "cell_type": "code",
   "execution_count": 313,
   "id": "3cfa381d-d519-403a-99ec-a9f8c9314fd0",
   "metadata": {
    "tags": []
   },
   "outputs": [
    {
     "data": {
      "text/plain": [
       "65"
      ]
     },
     "execution_count": 313,
     "metadata": {},
     "output_type": "execute_result"
    }
   ],
   "source": [
    "sum(df['cif'] == False)"
   ]
  },
  {
   "cell_type": "code",
   "execution_count": 315,
   "id": "7fc97f13-ccce-428d-85e8-b74604011e26",
   "metadata": {
    "tags": []
   },
   "outputs": [
    {
     "data": {
      "text/plain": [
       "Index([ 46,  90,  99, 109, 124, 139, 142, 148, 164, 201, 240, 283, 296, 367,\n",
       "       377, 386, 405, 413, 417, 426, 433, 436, 454, 458, 477, 507, 518, 521,\n",
       "       527, 555, 561, 571, 589, 594, 595, 596, 605, 631, 661, 673, 692, 702,\n",
       "       713, 724, 728, 742, 765, 774, 780, 789, 796, 855, 861, 874, 884, 900,\n",
       "       903, 908, 917, 937, 962, 964, 969, 970, 987],\n",
       "      dtype='int64')"
      ]
     },
     "execution_count": 315,
     "metadata": {},
     "output_type": "execute_result"
    }
   ],
   "source": [
    "df[df['cif'] == False].index"
   ]
  },
  {
   "cell_type": "markdown",
   "id": "5a2b6ab2-a8b2-4116-b1f3-0ba14f9965a3",
   "metadata": {},
   "source": [
    "## Dataframe"
   ]
  },
  {
   "cell_type": "code",
   "execution_count": 230,
   "id": "56cdb3c6-1a39-4404-bebe-6b100142b0a9",
   "metadata": {
    "tags": []
   },
   "outputs": [],
   "source": [
    "rows = []\n",
    "for bill_id, data in json_files.items():\n",
    "    row = [bill_id] + list(data.values())\n",
    "    rows.append(row)\n",
    "\n",
    "columns = [\"archivo\"] + list(data.keys())\n",
    "df = pd.DataFrame(data = rows, columns = columns)"
   ]
  },
  {
   "cell_type": "code",
   "execution_count": 296,
   "id": "c5c7c218-b48f-42f9-b607-4bb9d620410d",
   "metadata": {
    "tags": []
   },
   "outputs": [
    {
     "data": {
      "text/plain": [
       "provincia_comercializadora\n",
       "Extranjero           64\n",
       "BERLIN (Alemania)     3\n",
       "Olten (Suiza)         2\n",
       "Name: count, dtype: int64"
      ]
     },
     "execution_count": 296,
     "metadata": {},
     "output_type": "execute_result"
    }
   ],
   "source": [
    "df[df['cif_comercializadora'].str.len() != 9][\"provincia_comercializadora\"].value_counts()"
   ]
  },
  {
   "cell_type": "code",
   "execution_count": 348,
   "id": "c8f78456-2f73-4c75-8795-5aed69a0ad55",
   "metadata": {
    "tags": []
   },
   "outputs": [
    {
     "data": {
      "text/html": [
       "<div>\n",
       "<style scoped>\n",
       "    .dataframe tbody tr th:only-of-type {\n",
       "        vertical-align: middle;\n",
       "    }\n",
       "\n",
       "    .dataframe tbody tr th {\n",
       "        vertical-align: top;\n",
       "    }\n",
       "\n",
       "    .dataframe thead th {\n",
       "        text-align: right;\n",
       "    }\n",
       "</style>\n",
       "<table border=\"1\" class=\"dataframe\">\n",
       "  <thead>\n",
       "    <tr style=\"text-align: right;\">\n",
       "      <th></th>\n",
       "      <th>archivo</th>\n",
       "      <th>nombre_cliente</th>\n",
       "      <th>dni_cliente</th>\n",
       "      <th>calle_cliente</th>\n",
       "      <th>cp_cliente</th>\n",
       "      <th>población_cliente</th>\n",
       "      <th>provincia_cliente</th>\n",
       "      <th>nombre_comercializadora</th>\n",
       "      <th>cif_comercializadora</th>\n",
       "      <th>dirección_comercializadora</th>\n",
       "      <th>cp_comercializadora</th>\n",
       "      <th>población_comercializadora</th>\n",
       "      <th>provincia_comercializadora</th>\n",
       "      <th>número_factura</th>\n",
       "      <th>inicio_periodo</th>\n",
       "      <th>fin_periodo</th>\n",
       "      <th>importe_factura</th>\n",
       "      <th>fecha_cargo</th>\n",
       "      <th>consumo_periodo</th>\n",
       "      <th>potencia_contratada</th>\n",
       "    </tr>\n",
       "  </thead>\n",
       "  <tbody>\n",
       "    <tr>\n",
       "      <th>0</th>\n",
       "      <td>684</td>\n",
       "      <td>KENDRA RAMÍREZ RAMÓN</td>\n",
       "      <td>16260925V</td>\n",
       "      <td>Avenida de la Paloma</td>\n",
       "      <td>34259</td>\n",
       "      <td>Cordovilla la Real</td>\n",
       "      <td>Palencia</td>\n",
       "      <td>REPSOL COMERCIALIZADORA DE ELECTRICIDAD Y GAS,...</td>\n",
       "      <td>B39540760</td>\n",
       "      <td>C/ ISABEL TORRES, Nº 19</td>\n",
       "      <td>39011</td>\n",
       "      <td>SANTANDER</td>\n",
       "      <td>Cantabria</td>\n",
       "      <td>Z5231002650</td>\n",
       "      <td>09.05.2016</td>\n",
       "      <td>08.07.2016</td>\n",
       "      <td>144,31</td>\n",
       "      <td>13.07.2016</td>\n",
       "      <td>426</td>\n",
       "      <td>5,558</td>\n",
       "    </tr>\n",
       "    <tr>\n",
       "      <th>1</th>\n",
       "      <td>350</td>\n",
       "      <td>FRIDA OLMEDO ESTRELLA</td>\n",
       "      <td>56374095Z</td>\n",
       "      <td>Calle Joaquín Blanco Torrent</td>\n",
       "      <td>46814</td>\n",
       "      <td>la Granja de la Costera</td>\n",
       "      <td>Valencia/Valñncia</td>\n",
       "      <td>CIMA ENERGIA COMERCIALIZADORA SL</td>\n",
       "      <td>B26558056</td>\n",
       "      <td>AVENIDA DE PORTUGAL, 27 PLANTA 4, PUERTA 8</td>\n",
       "      <td>26001</td>\n",
       "      <td>LOGROÑO</td>\n",
       "      <td>LA RIOJA</td>\n",
       "      <td>QS7674816555</td>\n",
       "      <td>29.12.2011</td>\n",
       "      <td>28.01.2012</td>\n",
       "      <td>90,57</td>\n",
       "      <td>02.02.2012</td>\n",
       "      <td>313</td>\n",
       "      <td>2,697</td>\n",
       "    </tr>\n",
       "    <tr>\n",
       "      <th>2</th>\n",
       "      <td>673</td>\n",
       "      <td>Estíbaliz Parra Galván</td>\n",
       "      <td>72326445R</td>\n",
       "      <td>Calle Alejandro Sureda</td>\n",
       "      <td>27520</td>\n",
       "      <td>Carballedo</td>\n",
       "      <td>Lugo</td>\n",
       "      <td>EXEN, S.R.O.</td>\n",
       "      <td>C227767191</td>\n",
       "      <td>DR. SMERALA 1710/1</td>\n",
       "      <td>70200</td>\n",
       "      <td>OSTRAVA (República Checa)</td>\n",
       "      <td>Extranjero</td>\n",
       "      <td>HZ2504915940</td>\n",
       "      <td>07.10.2019</td>\n",
       "      <td>06.11.2019</td>\n",
       "      <td>11,89</td>\n",
       "      <td>11.11.2019</td>\n",
       "      <td>0</td>\n",
       "      <td>2,551</td>\n",
       "    </tr>\n",
       "  </tbody>\n",
       "</table>\n",
       "</div>"
      ],
      "text/plain": [
       "   archivo          nombre_cliente dni_cliente                 calle_cliente  \\\n",
       "0      684    KENDRA RAMÍREZ RAMÓN   16260925V          Avenida de la Paloma   \n",
       "1      350   FRIDA OLMEDO ESTRELLA   56374095Z  Calle Joaquín Blanco Torrent   \n",
       "2      673  Estíbaliz Parra Galván   72326445R        Calle Alejandro Sureda   \n",
       "\n",
       "  cp_cliente        población_cliente  provincia_cliente  \\\n",
       "0      34259       Cordovilla la Real           Palencia   \n",
       "1      46814  la Granja de la Costera  Valencia/Valñncia   \n",
       "2      27520               Carballedo               Lugo   \n",
       "\n",
       "                             nombre_comercializadora cif_comercializadora  \\\n",
       "0  REPSOL COMERCIALIZADORA DE ELECTRICIDAD Y GAS,...            B39540760   \n",
       "1                   CIMA ENERGIA COMERCIALIZADORA SL            B26558056   \n",
       "2                                       EXEN, S.R.O.           C227767191   \n",
       "\n",
       "                   dirección_comercializadora cp_comercializadora  \\\n",
       "0                     C/ ISABEL TORRES, Nº 19               39011   \n",
       "1  AVENIDA DE PORTUGAL, 27 PLANTA 4, PUERTA 8               26001   \n",
       "2                          DR. SMERALA 1710/1               70200   \n",
       "\n",
       "  población_comercializadora provincia_comercializadora número_factura  \\\n",
       "0                  SANTANDER                  Cantabria    Z5231002650   \n",
       "1                    LOGROÑO                   LA RIOJA   QS7674816555   \n",
       "2  OSTRAVA (República Checa)                 Extranjero   HZ2504915940   \n",
       "\n",
       "  inicio_periodo fin_periodo importe_factura fecha_cargo  consumo_periodo  \\\n",
       "0     09.05.2016  08.07.2016          144,31  13.07.2016              426   \n",
       "1     29.12.2011  28.01.2012           90,57  02.02.2012              313   \n",
       "2     07.10.2019  06.11.2019           11,89  11.11.2019                0   \n",
       "\n",
       "  potencia_contratada  \n",
       "0               5,558  \n",
       "1               2,697  \n",
       "2               2,551  "
      ]
     },
     "execution_count": 348,
     "metadata": {},
     "output_type": "execute_result"
    }
   ],
   "source": [
    "df.head(3)"
   ]
  },
  {
   "cell_type": "code",
   "execution_count": 358,
   "id": "428155c2-f4a8-4167-a788-80b82f3cec50",
   "metadata": {
    "tags": []
   },
   "outputs": [
    {
     "data": {
      "text/plain": [
       "nombre_cliente\n",
       "3    952\n",
       "4     25\n",
       "5     17\n",
       "2      6\n",
       "Name: count, dtype: int64"
      ]
     },
     "execution_count": 358,
     "metadata": {},
     "output_type": "execute_result"
    }
   ],
   "source": [
    "df[\"nombre_cliente\"].str.split().apply(lambda x : len(x)).value_counts()"
   ]
  },
  {
   "cell_type": "code",
   "execution_count": 586,
   "id": "b4e8939e-b615-4461-a3d7-6bf7c94c18bd",
   "metadata": {
    "tags": []
   },
   "outputs": [
    {
     "data": {
      "text/plain": [
       "697    0,721\n",
       "545    0,756\n",
       "377    1,167\n",
       "283    1,203\n",
       "923    1,312\n",
       "       ...  \n",
       "523    6,531\n",
       "485    6,563\n",
       "581    6,874\n",
       "176    6,953\n",
       "360    7,095\n",
       "Name: potencia_contratada, Length: 1000, dtype: object"
      ]
     },
     "execution_count": 586,
     "metadata": {},
     "output_type": "execute_result"
    }
   ],
   "source": [
    "df[\"potencia_contratada\"].sort_values()"
   ]
  },
  {
   "cell_type": "code",
   "execution_count": null,
   "id": "3fcddf36-2de5-4bd4-a036-9c7dd898c54f",
   "metadata": {},
   "outputs": [],
   "source": []
  }
 ],
 "metadata": {
  "kernelspec": {
   "display_name": "Python 3 (ipykernel)",
   "language": "python",
   "name": "python3"
  },
  "language_info": {
   "codemirror_mode": {
    "name": "ipython",
    "version": 3
   },
   "file_extension": ".py",
   "mimetype": "text/x-python",
   "name": "python",
   "nbconvert_exporter": "python",
   "pygments_lexer": "ipython3",
   "version": "3.11.7"
  }
 },
 "nbformat": 4,
 "nbformat_minor": 5
}
