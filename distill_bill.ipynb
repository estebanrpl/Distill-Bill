{
 "cells": [
  {
   "cell_type": "code",
   "execution_count": 2,
   "id": "3c2aab01-c988-427f-b207-4783547af41f",
   "metadata": {
    "tags": []
   },
   "outputs": [],
   "source": [
    "import numpy as np\n",
    "import pandas as pd\n",
    "import PyPDF2\n",
    "import re\n",
    "import json\n",
    "import os\n",
    "from datetime import datetime\n",
    "from pdfminer.high_level import extract_text\n",
    "from collections import Counter"
   ]
  },
  {
   "cell_type": "code",
   "execution_count": 4,
   "id": "b36a2778-b8f4-4873-b296-cd25c214c9fd",
   "metadata": {
    "tags": []
   },
   "outputs": [],
   "source": [
    "files_path = 'test/'"
   ]
  },
  {
   "cell_type": "code",
   "execution_count": 6,
   "id": "811fd0b3-294f-473b-a316-a4cdd4c7a700",
   "metadata": {
    "tags": []
   },
   "outputs": [],
   "source": [
    "json_paths = [files_path + file for file in os.listdir(files_path) if file.endswith('.json')]\n",
    "pdf_paths = [files_path + file for file in os.listdir(files_path) if file.endswith('.pdf')]"
   ]
  },
  {
   "cell_type": "code",
   "execution_count": 8,
   "id": "3b235010-3d0c-4d89-81a3-bc53df8b77dc",
   "metadata": {
    "tags": []
   },
   "outputs": [],
   "source": [
    "spain_pc = {\n",
    "    '01': 'Álava',\n",
    "    '02': 'Albacete',\n",
    "    '03': 'Alicante',\n",
    "    '04': 'Almería',\n",
    "    '05': 'Ávila',\n",
    "    '06': 'Badajoz',\n",
    "    '07': 'Islas Baleares',\n",
    "    '08': 'Barcelona',\n",
    "    '09': 'Burgos',\n",
    "    '10': 'Cáceres',\n",
    "    '11': 'Cádiz',\n",
    "    '12': 'Castellón',\n",
    "    '13': 'Ciudad Real',\n",
    "    '14': 'Córdoba',\n",
    "    '15': 'La Coruña',\n",
    "    '16': 'Cuenca',\n",
    "    '17': 'Gerona',\n",
    "    '18': 'Granada',\n",
    "    '19': 'Guadalajara',\n",
    "    '20': 'Guipúzcoa',\n",
    "    '21': 'Huelva',\n",
    "    '22': 'Huesca',\n",
    "    '23': 'Jaén',\n",
    "    '24': 'León',\n",
    "    '25': 'Lérida',\n",
    "    '26': 'La Rioja',\n",
    "    '27': 'Lugo',\n",
    "    '28': 'Madrid',\n",
    "    '29': 'Málaga',\n",
    "    '30': 'Murcia',\n",
    "    '31': 'Navarra',\n",
    "    '32': 'Orense',\n",
    "    '33': 'Asturias',\n",
    "    '34': 'Palencia',\n",
    "    '35': 'Las Palmas',\n",
    "    '36': 'Pontevedra',\n",
    "    '37': 'Salamanca',\n",
    "    '38': 'Santa Cruz de Tenerife',\n",
    "    '39': 'Cantabria',\n",
    "    '40': 'Segovia',\n",
    "    '41': 'Sevilla',\n",
    "    '42': 'Soria',\n",
    "    '43': 'Tarragona',\n",
    "    '44': 'Teruel',\n",
    "    '45': 'Toledo',\n",
    "    '46': 'Valencia',\n",
    "    '47': 'Valladolid',\n",
    "    '48': 'Vizcaya',\n",
    "    '49': 'Zamora',\n",
    "    '50': 'Zaragoza',\n",
    "    '51': 'Ceuta',\n",
    "    '52': 'Melilla'\n",
    "}"
   ]
  },
  {
   "cell_type": "code",
   "execution_count": 10,
   "id": "101cf8c1-e1fc-4ef0-a938-27c82a80c478",
   "metadata": {
    "tags": []
   },
   "outputs": [],
   "source": [
    "months = {\n",
    "    \"enero\": \"01\",\n",
    "    \"febrero\": \"02\",\n",
    "    \"marzo\": \"03\",\n",
    "    \"abril\": \"04\",\n",
    "    \"mayo\": \"05\",\n",
    "    \"junio\": \"06\",\n",
    "    \"julio\": \"07\",\n",
    "    \"agosto\": \"08\",\n",
    "    \"septiembre\": \"09\",\n",
    "    \"octubre\": \"10\",\n",
    "    \"noviembre\": \"11\",\n",
    "    \"diciembre\": \"12\"\n",
    "}"
   ]
  },
  {
   "cell_type": "code",
   "execution_count": 12,
   "id": "a6cab588-d924-452a-aa21-d08e9483a977",
   "metadata": {
    "tags": []
   },
   "outputs": [],
   "source": [
    "def extract_result(re, text):\n",
    "    matches = re.findall(text)\n",
    "    matches_set = set(matches)\n",
    "    if len(matches_set) == 1:\n",
    "        return matches[0]\n",
    "    return matches"
   ]
  },
  {
   "cell_type": "code",
   "execution_count": 14,
   "id": "8271ac38-7904-48e0-8d59-c0526dd2b6a1",
   "metadata": {
    "tags": []
   },
   "outputs": [],
   "source": [
    "def extract_text_pypdf2(pdf_path):\n",
    "    \n",
    "    reader = PyPDF2.PdfReader(pdf_path)\n",
    "\n",
    "    # Como el cif tiene que estar en la primera página solo extraeremos esa\n",
    "    page = reader.pages[0]\n",
    "    text = page.extract_text()\n",
    "    return text"
   ]
  },
  {
   "cell_type": "code",
   "execution_count": 16,
   "id": "4786978f-6abd-4168-8c7e-ea875929c9b3",
   "metadata": {
    "tags": []
   },
   "outputs": [],
   "source": [
    "#importe total\n",
    "\n",
    "def return_total_amount(text):\n",
    "    re_total_amount = re.compile(r\"(\\d+,\\d+)[^\\n]*€\")\n",
    "\n",
    "    matches = re_total_amount.findall(text)\n",
    "    total_amount = max([float(amount.replace(',','.')) for amount in matches])\n",
    "    total_amount = \"{:.2f}\".format(total_amount)\n",
    "    total_amount = str(total_amount).replace(\".\",\",\")\n",
    "\n",
    "    return total_amount"
   ]
  },
  {
   "cell_type": "code",
   "execution_count": 18,
   "id": "11fd28a8-87b3-4e1e-93d8-febb60435fa8",
   "metadata": {
    "tags": []
   },
   "outputs": [],
   "source": [
    "#Numero de factura\n",
    "\n",
    "def return_bill_num(text):\n",
    "    re_bill_num = re.compile(r\"(?:nº|num\\.|número|num)\\s*factura(?::)?\\s*(\\w+)\", re.IGNORECASE)\n",
    "    \n",
    "    bill_num = extract_result(re_bill_num, text)\n",
    "    return bill_num"
   ]
  },
  {
   "cell_type": "code",
   "execution_count": 20,
   "id": "80002412-be13-4a83-a681-be923d277e51",
   "metadata": {
    "tags": []
   },
   "outputs": [],
   "source": [
    "#cif\n",
    "\n",
    "def return_cif(text, pdf_path):\n",
    "    re_cif = re.compile(r\"\\bcif\\b(?::)?(?:\\s*)?(\\w+)\", re.IGNORECASE)\n",
    "\n",
    "    cif = extract_result(re_cif, text)\n",
    "\n",
    "    #Si no encontramos ningún match probamos con otro extractor de texto \n",
    "    if not cif:\n",
    "        text = extract_text_pypdf2(pdf_path)\n",
    "        cif = extract_result(re_cif, text)\n",
    "    return cif"
   ]
  },
  {
   "cell_type": "code",
   "execution_count": 22,
   "id": "85f57430-e5fa-4b34-b744-a790fefa39d8",
   "metadata": {
    "tags": []
   },
   "outputs": [],
   "source": [
    "#dni\n",
    "\n",
    "def return_dni(text):\n",
    "    re_dni = re.compile(r\"\\b\\d{8}[A-Z]\\b\")\n",
    "\n",
    "    dni = extract_result(re_dni, text)\n",
    "    \n",
    "    return dni"
   ]
  },
  {
   "cell_type": "code",
   "execution_count": 24,
   "id": "e118d2da-dcbd-42ca-ad28-2cbf7d5a5243",
   "metadata": {
    "tags": []
   },
   "outputs": [],
   "source": [
    "#cp\n",
    "\n",
    "def return_pc(text):\n",
    "    re_pc = re.compile(r\".*\\b\\d{5}\\b(?!\\s*kW|\\s*kWh).*\")\n",
    "\n",
    "    pc = extract_result(re_pc, text)\n",
    "\n",
    "    return pc"
   ]
  },
  {
   "cell_type": "code",
   "execution_count": 26,
   "id": "ce5d9b86-cb9b-4573-90ea-a854df700e82",
   "metadata": {
    "tags": []
   },
   "outputs": [],
   "source": [
    "#potencia contratada\n",
    "def return_contracted_power(text):\n",
    "    re_contracted_power = re.compile(r\"contratada:?[^\\n]*?(\\d+,\\d+)\\s*(?<!€/)kW\")\n",
    "\n",
    "    contracted_power = extract_result(re_contracted_power, text)\n",
    "    \n",
    "    return contracted_power"
   ]
  },
  {
   "cell_type": "code",
   "execution_count": 28,
   "id": "bbe474c4-43e6-41e3-9153-af0ec7c0bf04",
   "metadata": {
    "tags": []
   },
   "outputs": [],
   "source": [
    "def return_consumption(text):\n",
    "    #Buscamos todas las cadenas de numeros que van sucedidas por kWh ya que esa es la unidad para el consumo\n",
    "    re_consumo = re.compile(r\"(\\d+)\\s*kWh\")\n",
    "\n",
    "    matches = re_consumo.findall(text)\n",
    "    matches = [int(amount.replace(',','.')) for amount in matches]\n",
    "    matches = sorted(matches)\n",
    "\n",
    "    #Si solo hay un match ese tiene que ser el consumo\n",
    "    if len(matches) == 1:\n",
    "        consumo = matches[0]\n",
    "\n",
    "    #Si hay más de 3 hay varias posibilidades\n",
    "    elif len(matches) >= 3:\n",
    "        #Si hay un número que se repite más que el resto ese debe ser el consumo\n",
    "        counts = Counter(matches)\n",
    "        if len(counts.values()) != sum(counts.values()):\n",
    "            consumo = counts.most_common()[0][0]\n",
    "\n",
    "        #En caso contrario tomaremos como el consumo el valor más grande (última lectura) menos el valor más pequeño(lectura anterior)\n",
    "        else:\n",
    "            consumo = matches[-1] - matches [-2]\n",
    "            if consumo not in matches:\n",
    "                consumo = matches\n",
    "    #En caso de que haya dos elementos no podemos saber cuál es el consumo\n",
    "    else:\n",
    "        consumo = matches\n",
    "\n",
    "    return consumo"
   ]
  },
  {
   "cell_type": "code",
   "execution_count": 47,
   "id": "6b387f73-a351-49f8-bae5-2fb058a00ba3",
   "metadata": {
    "tags": []
   },
   "outputs": [],
   "source": [
    "# Fechas periodo\n",
    "\n",
    "def return_initial_and_final_date(text):\n",
    "    #Hacemos match con todos los elementos que van precedidos por periodo\n",
    "    matches = re.findall(r\"(?<=periodo|período)(.*?)(?=\\n|$)\", text, re.IGNORECASE)\n",
    "\n",
    "    #filtramos los elementos que pueden tener formato de fecha\n",
    "    re_numeric_date = re.compile(r\"\\b(\\d{2})[-.\\s\\/]\\s?(\\d{2})[-.\\s\\/]\\s?(\\d{4})\\b\")\n",
    "    re_string_date = re.compile(r\"\\b(\\d{1,2})\\s*de?\\s*?(enero|febrero|marzo|abril|mayo|junio|julio|agosto|septiembre|octubre|noviembre|diciembre)\\s*de?\\s*?(\\d{4})\\b\")\n",
    "    period_dates = [re_numeric_date.findall(match) for match in matches if len(re_numeric_date.findall(match)) == 2]\n",
    "    if not period_dates:\n",
    "        period_dates = [re_string_date.findall(match) for match in matches if len(re_string_date.findall(match)) == 2]\n",
    "        period_dates = [[f\"{date[0]}.{months[date[1]]}.{date[2]}\" for dates in period_dates for date in dates]]\n",
    "    else:\n",
    "        period_dates = [[f\"{date[0]}.{date[1]}.{date[2]}\" for dates in period_dates for date in dates]]\n",
    "\n",
    "    #Compruebo que los pares de fechas son distintos entre si para poder obtener periodos\n",
    "    \n",
    "    #################################### Se añade el try except por si no encuentra ningún resultado ####################################\n",
    "    try:\n",
    "        period_dates = [dates for dates in period_dates if dates[0] != dates[1]]\n",
    "    except:\n",
    "        return None, None\n",
    "    \n",
    "    #Me quedo con los valores unicos de fechas para comprobar que solo tenga un periodo valido\n",
    "    period_dates = [date for dates in period_dates for date in dates]\n",
    "    period_dates = list(set(period_dates))\n",
    "\n",
    "    #Ahora le doy formato a las fechas para comparar y parsear la mayor a fecha final y la menor a fecha inicial\n",
    "    date_1 = datetime.strptime(period_dates[0], \"%d.%m.%Y\")\n",
    "    date_2 = datetime.strptime(period_dates[1], \"%d.%m.%Y\")\n",
    "    if date_1 == date_2:\n",
    "        return None, None\n",
    "    else:\n",
    "        sorted_dates = sorted([date_1, date_2]) \n",
    "        initial_date, final_date = [date.strftime(\"%d.%m.%Y\") for date in sorted_dates]\n",
    "    \n",
    "    return initial_date, final_date"
   ]
  },
  {
   "cell_type": "code",
   "execution_count": 57,
   "id": "eafb46ac-8a10-4fcd-8eb2-9316ad2ab79e",
   "metadata": {
    "tags": []
   },
   "outputs": [],
   "source": [
    "#Fecha de cargo\n",
    "\n",
    "def return_charge_date(text):\n",
    "    re_numeric_date = re.compile(r\"\\b(\\d{2})[-.\\s\\/]\\s?(\\d{2})[-.\\s\\/]\\s?(\\d{4})\\b\")\n",
    "    re_string_date = re.compile(r\"\\b(\\d{1,2})\\s*de?\\s*?(enero|febrero|marzo|abril|mayo|junio|julio|agosto|septiembre|octubre|noviembre|diciembre)\\s*de?\\s*?(\\d{4})\\b\")\n",
    "    \n",
    "    matches = re.findall(r\"(?<=cargo)(.*?)(?=\\n|$)\", text, re.IGNORECASE)\n",
    "    charge_date = [re_numeric_date.findall(match) for match in matches if re_numeric_date.search(match)]\n",
    "    if not charge_date:\n",
    "        charge_date = [re_string_date.findall(match) for match in matches if re_string_date.search(match)]\n",
    "\n",
    "        # Si no hay fecha devolver none\n",
    "        if not charge_date:\n",
    "            return None\n",
    "\n",
    "        charge_date = [f\"{date[0]}.{months[date[1]]}.{date[2]}\" for dates in charge_date for date in dates]\n",
    "\n",
    "    else:\n",
    "        charge_date = [f\"{date[0]}.{date[1]}.{date[2]}\" for dates in charge_date for date in dates]\n",
    "\n",
    "    # Si se encuentra un número distinto a 1 de fechas no podemos saber cuál es la de cargo\n",
    "    if len(set(charge_date)) != 1:\n",
    "        charge_date = None\n",
    "\n",
    "    #Si se han cumplido todas las condiciones solo tendremos una fecha repetida en la lista \n",
    "    charge_date = charge_date[0]\n",
    "    \n",
    "    return charge_date"
   ]
  },
  {
   "cell_type": "code",
   "execution_count": 51,
   "id": "56f94322-0339-4b27-894d-feb258f8c7a7",
   "metadata": {
    "tags": []
   },
   "outputs": [],
   "source": [
    "#Nombre cliente\n",
    "\n",
    "def return_client_name(text):\n",
    "\n",
    "    re_client_name = re.compile(r\"Nombre.*|titular.*\", re.IGNORECASE)\n",
    "\n",
    "    matches = re_client_name.findall(text)\n",
    "\n",
    "    if matches:\n",
    "        client_name = [match.split(\":\")[1].strip() for match in matches if \":\" in match]\n",
    "        if len(set(client_name)) != 1:\n",
    "            client_name = None\n",
    "        else:\n",
    "            client_name = client_name[0]\n",
    "        \n",
    "        #################################### Se añade este condicional para evitar errores ####################################\n",
    "        if client_name:\n",
    "            return client_name\n",
    "        else:\n",
    "            return None"
   ]
  },
  {
   "cell_type": "code",
   "execution_count": 36,
   "id": "82d70cf3-f059-4788-b2fa-3fb90238e55a",
   "metadata": {
    "tags": []
   },
   "outputs": [],
   "source": [
    "def return_client_addres_pc_town_province(text, client_name, spain_pc):\n",
    "    if not client_name:\n",
    "        return None, None, None, None\n",
    "    #Intentamos extraer los datos de la dirección del cliente del recuadro que se ubica siempre en la primera página de las facturas\n",
    "    #Para ello nos quedamos con los párrafos que contengan el nombre del cliente pero que no tengan :\n",
    "    client_parrs = [parr.split(\"\\n\") for parr in text.split(\"\\n\\n\") if re.search(rf\"^(?!.*:).*{client_name}*\", parr, re.IGNORECASE) and len(parr.split(\"\\n\")) > 1]\n",
    "\n",
    "    if client_parrs:\n",
    "        client_parrs = client_parrs[0]\n",
    "        client_addres, client_cp_town = client_parrs[1:3]\n",
    "        client_pc = re.findall(r\"\\b\\d{5}+\\b\", client_cp_town)[0]\n",
    "        client_town = re.findall(r\"[a-zA-ZáéíóúÁÉÍÓÚüÜñÑ]+\", client_cp_town)[0]\n",
    "\n",
    "        client_addres = client_addres.strip()\n",
    "        client_pc = client_pc.strip()\n",
    "        client_town = client_town.strip()\n",
    "        client_province = spain_pc[client_pc[:2]]\n",
    "\n",
    "    else:\n",
    "        client_addres = None\n",
    "        client_pc = None\n",
    "        client_town = None\n",
    "        client_province = None\n",
    "    return client_addres, client_pc, client_town, client_province"
   ]
  },
  {
   "cell_type": "code",
   "execution_count": 100,
   "id": "c743c24f-0409-4f17-bc41-10bfd56d65ae",
   "metadata": {
    "scrolled": true
   },
   "outputs": [],
   "source": [
    "#Datos empresa\n",
    "\n",
    "def return_retailer_name_addres_pc_town_province(text, spain_pc, pdf_path):\n",
    "    # Como los datos de las distribuidoras están agrupados, dividimos por párrafos e intentamos encontrarlas con el cif\n",
    "    retailer_parrs = [parr.split(\"\\n\") for parr in text.split(\"\\n\\n\") if re.search(r\"\\bcif\\b(?::)?(?:\\s*)?\", parr, re.IGNORECASE)]\n",
    "\n",
    "    #Nos quedamos con las líneas que no tienen el cif\n",
    "    retailer_parrs = [line for parr in retailer_parrs for line in parr if not re.search(r\"\\bcif\\b(?::)?(?:\\s*)?\", line, re.IGNORECASE)]\n",
    "\n",
    "    if len(retailer_parrs) == 2:\n",
    "        retailer_name, retailer_addres = retailer_parrs\n",
    "        retailer_name = retailer_name.strip()\n",
    "        retailer_addres = retailer_addres.strip()\n",
    "\n",
    "        retailer_addres = re.findall(r\"(?:social:)?(?:.*?:)?(.*)\", retailer_addres, re.IGNORECASE)\n",
    "        retailer_addres = [match.strip() for match in retailer_addres if match != '']\n",
    "\n",
    "    else:\n",
    "        text = extract_text_pypdf2(pdf_path)\n",
    "        retailer_name = None\n",
    "        retailer_addres = re.findall(r\"(?:social)(?::)?(.[^.;]*)\", text, re.IGNORECASE)\n",
    "        retailer_addres = [match.strip() for match in retailer_addres if match != '']\n",
    "\n",
    "    #cp comercializadora\n",
    "    retailer_pc = [re.findall(r\"\\d{5}+\", retailer_addres_element)[0] for retailer_addres_element in retailer_addres if re.search(r\"\\d{5}+\", retailer_addres_element)]\n",
    "    if retailer_pc:\n",
    "        retailer_pc = retailer_pc[0]\n",
    "\n",
    "        #Comprobamos si es una dirección marcada como extranjera\n",
    "        foreign_retailer = [re.findall(r\"extranjero\", element, re.IGNORECASE) for element in retailer_addres if re.search(r\"extranjero\", element, re.IGNORECASE)]\n",
    "\n",
    "        #En caso de que el cp sea único podremos parsear la dirección, si no la dejaremos [etiqueta](etiqueta)\n",
    "        retailer_addres, retailer_town = retailer_addres[0].split(retailer_pc)[0:2] #################################### Se añade el slicing [0:2] para evitar errores en listas con más de 2 elementos ####################################\n",
    "        retailer_town = re.findall(r\"[a-zA-ZáéíóúÁÉÍÓÚüÜñÑ]+\", retailer_town)[0]\n",
    "        retailer_addres, retailer_town = retailer_addres.strip(), retailer_town.strip()\n",
    "\n",
    "        #Si el cp es español encontramos la provincia con el diccionario de cp y si es extranjero le ponemos la etiqueta \"Extranjero\"\n",
    "        if not foreign_retailer:\n",
    "            retailer_province = spain_pc[retailer_pc[:2]]\n",
    "        else:\n",
    "            retailer_province = \"Extranjero\"\n",
    "\n",
    "    else:\n",
    "        retailer_pc = None\n",
    "        retailer_addres = None\n",
    "        retailer_town = None\n",
    "        retailer_province = None\n",
    "\n",
    "    return retailer_name, retailer_addres, retailer_pc, retailer_town, retailer_province"
   ]
  },
  {
   "cell_type": "markdown",
   "id": "756fbabc-829e-4e99-aabd-679155d7d20c",
   "metadata": {},
   "source": [
    "## Extracción de datos"
   ]
  },
  {
   "cell_type": "code",
   "execution_count": 104,
   "id": "623837d5-2adb-4d82-b310-e3255d96356c",
   "metadata": {
    "tags": []
   },
   "outputs": [],
   "source": [
    "for pdf_path in pdf_paths:\n",
    "\n",
    "    text = extract_text(pdf_path)\n",
    "    \n",
    "    #Extraemos todos los datos\n",
    "    client_name = return_client_name(text)\n",
    "    dni = return_dni(text)\n",
    "    client_addres, client_pc, client_town, client_province = return_client_addres_pc_town_province(text, client_name, spain_pc)\n",
    "    cif = return_cif(text, pdf_path)\n",
    "    retailer_name, retailer_addres, retailer_pc, retailer_town, retailer_province = return_retailer_name_addres_pc_town_province(text, spain_pc, pdf_path)\n",
    "    bill_num = return_bill_num(text)\n",
    "    initial_date, final_date = return_initial_and_final_date(text)\n",
    "    total_amount = return_total_amount(text)\n",
    "    charge_date = return_charge_date(text)\n",
    "    consumption = return_consumption(text)\n",
    "    contracted_power = return_contracted_power(text)\n",
    "    \n",
    "    #Guardamos todo en el diccionario\n",
    "    json_data = {}\n",
    "        \n",
    "    json_data[\"nombre_cliente\"] = client_name\n",
    "    json_data[\"dni_cliente\"] = dni\n",
    "    json_data[\"calle_cliente\"] = client_addres\n",
    "    json_data[\"cp_cliente\"] = client_pc\n",
    "    json_data[\"población_cliente\"] = client_town\n",
    "    json_data[\"provincia_cliente\"] = client_province\n",
    "    json_data[\"nombre_comercializadora\"] = retailer_name\n",
    "    json_data[\"cif_comercializadora\"] = cif\n",
    "    json_data[\"dirección_comercializadora\"] = retailer_addres\n",
    "    json_data[\"cp_comercializadora\"] = retailer_pc\n",
    "    json_data[\"población_comercializadora\"] = retailer_town\n",
    "    json_data[\"provincia_comercializadora\"] = retailer_province\n",
    "    json_data[\"número_factura\"] = bill_num\n",
    "    json_data[\"inicio_periodo\"] = initial_date\n",
    "    json_data[\"fin_periodo\"] = final_date\n",
    "    json_data[\"importe_factura\"] = total_amount\n",
    "    json_data[\"fecha_cargo\"] = charge_date\n",
    "    json_data[\"consumo_periodo\"] = consumption\n",
    "    json_data[\"potencia_contratada\"] = contracted_power\n",
    "    \n",
    "    #Exportamos el json\n",
    "    json_path = \"json_resultados/\" + pdf_path.split(\"/\")[-1].replace(\"pdf\", \"json\")\n",
    "    \n",
    "    with open(json_path, 'w') as file:\n",
    "        json.dump(json_data, file, ensure_ascii=False)"
   ]
  },
  {
   "cell_type": "markdown",
   "id": "134001e5-9f5b-4c5e-b219-f126ecbf6f55",
   "metadata": {},
   "source": [
    "#### Funciones retocadas después de la entrega\n",
    "\n",
    "- return_initial_and_final_date\n",
    "- return_client_name\n",
    "- return_retailer_name_addres_pc_town_province"
   ]
  },
  {
   "cell_type": "code",
   "execution_count": null,
   "id": "ef06b0df-65a9-46ee-a813-fa10cabd0eec",
   "metadata": {},
   "outputs": [],
   "source": []
  }
 ],
 "metadata": {
  "kernelspec": {
   "display_name": "Python 3 (ipykernel)",
   "language": "python",
   "name": "python3"
  },
  "language_info": {
   "codemirror_mode": {
    "name": "ipython",
    "version": 3
   },
   "file_extension": ".py",
   "mimetype": "text/x-python",
   "name": "python",
   "nbconvert_exporter": "python",
   "pygments_lexer": "ipython3",
   "version": "3.11.7"
  }
 },
 "nbformat": 4,
 "nbformat_minor": 5
}
